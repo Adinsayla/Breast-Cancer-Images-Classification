{
  "cells": [
    {
      "cell_type": "markdown",
      "metadata": {
        "id": "D68ks6mpPxQV"
      },
      "source": [
        "# [Predictive Clinical Neuroscience Toolkit](https://github.com/amarquand/PCNtoolkit)\n",
        "# The Normative Modeling Framework for Computational Psychiatry Protocol\n",
        "## Using Bayesian Linear Regression and Multi-Site Cortical Thickness Data"
      ]
    },
    {
      "cell_type": "markdown",
      "metadata": {
        "id": "sekFShu5PxQY",
        "jp-MarkdownHeadingCollapsed": true,
        "tags": []
      },
      "source": [
        "Created by [Saige Rutherford](https://twitter.com/being_saige)"
      ]
    },
    {
      "cell_type": "markdown",
      "metadata": {
        "id": "-F8j2e7ePxQY"
      },
      "source": [
        "<div>\n",
        "<img src=\"https://github.com/predictive-clinical-neuroscience/PCNtoolkit-demo/blob/main/tutorials/BLR_protocol/Figure2.png?raw=1\" width=\"1000\">\n",
        "</div>"
      ]
    },
    {
      "cell_type": "markdown",
      "metadata": {
        "id": "prEV5dymPxQZ"
      },
      "source": [
        "# Data Preparation"
      ]
    },
    {
      "cell_type": "markdown",
      "metadata": {
        "id": "wuzKCq4SPxQZ"
      },
      "source": [
        "## Install necessary libraries & grab data files"
      ]
    },
    {
      "cell_type": "markdown",
      "metadata": {
        "id": "ORn68UDCPxQZ"
      },
      "source": [
        "### Step 1.\n",
        "\n",
        "Begin by cloning the GitHub repository using the following commands. This repository contains the necessary code and example data. Then install the python packages using pip and import them into the python environment (either Google Colab or using a local python installation on your computer)."
      ]
    },
    {
      "cell_type": "code",
      "execution_count": 1,
      "metadata": {
        "colab": {
          "base_uri": "https://localhost:8080/"
        },
        "id": "XY_jbksGPxQa",
        "outputId": "be7cf4c8-bec3-4570-93eb-e63f3fe39445"
      },
      "outputs": [
        {
          "output_type": "stream",
          "name": "stdout",
          "text": [
            "fatal: destination path 'PCNtoolkit-demo' already exists and is not an empty directory.\n"
          ]
        }
      ],
      "source": [
        "! git clone https://github.com/predictive-clinical-neuroscience/PCNtoolkit-demo.git"
      ]
    },
    {
      "cell_type": "code",
      "execution_count": 2,
      "metadata": {
        "id": "XUqJ0xDTPxQb"
      },
      "outputs": [],
      "source": [
        "import os\n",
        "\n",
        "# set this path to the git cloned PCNtoolkit-demo repository --> Uncomment whichever line you need for either running on your own computer or on Google Colab.\n",
        "#wdir = '<path-to-your>/PCNtoolkit-demo' # if running on your own computer, use this line (change the path to match where you cloned the repository)\n",
        "wdir ='/content/PCNtoolkit-demo' # if running on Google Colab, use this line\n",
        "\n",
        "os.chdir(os.path.join(wdir,'tutorials','BLR_protocol'))"
      ]
    },
    {
      "cell_type": "code",
      "source": [
        "# prompt: upload files from my computer in data directory\n",
        "\n",
        "from google.colab import files\n",
        "uploaded = files.upload()\n",
        "for fn in uploaded.keys():\n",
        "  print('User uploaded file \"{name}\" with length {length} bytes'.format(\n",
        "      name=fn, length=len(uploaded[fn])))\n",
        "\n",
        "# Now you can access the uploaded files using their filenames\n",
        "# For example, to move them to the data directory:\n",
        "\n",
        "import shutil\n",
        "data_dir = '/content/PCNtoolkit-demo/data'  # Or your desired data directory\n",
        "\n",
        "# Create the data directory if it doesn't exist\n",
        "!mkdir -p {data_dir}\n",
        "\n",
        "for fn in uploaded.keys():\n",
        "  try:\n",
        "    shutil.move(fn, data_dir)  # Move the uploaded file to the data directory\n",
        "    print(f\"Moved {fn} to {data_dir}\")\n",
        "  except Exception as e:\n",
        "    print(f\"Error moving {fn}: {e}\")\n"
      ],
      "metadata": {
        "id": "NaaTT2KUEtcV",
        "outputId": "b5dd1dcb-6585-443a-a678-2dfb305d73cf",
        "colab": {
          "base_uri": "https://localhost:8080/",
          "height": 247
        }
      },
      "execution_count": 61,
      "outputs": [
        {
          "output_type": "display_data",
          "data": {
            "text/plain": [
              "<IPython.core.display.HTML object>"
            ],
            "text/html": [
              "\n",
              "     <input type=\"file\" id=\"files-8ab721d6-2121-4cba-9f84-1e296076fd7c\" name=\"files[]\" multiple disabled\n",
              "        style=\"border:none\" />\n",
              "     <output id=\"result-8ab721d6-2121-4cba-9f84-1e296076fd7c\">\n",
              "      Upload widget is only available when the cell has been executed in the\n",
              "      current browser session. Please rerun this cell to enable.\n",
              "      </output>\n",
              "      <script>// Copyright 2017 Google LLC\n",
              "//\n",
              "// Licensed under the Apache License, Version 2.0 (the \"License\");\n",
              "// you may not use this file except in compliance with the License.\n",
              "// You may obtain a copy of the License at\n",
              "//\n",
              "//      http://www.apache.org/licenses/LICENSE-2.0\n",
              "//\n",
              "// Unless required by applicable law or agreed to in writing, software\n",
              "// distributed under the License is distributed on an \"AS IS\" BASIS,\n",
              "// WITHOUT WARRANTIES OR CONDITIONS OF ANY KIND, either express or implied.\n",
              "// See the License for the specific language governing permissions and\n",
              "// limitations under the License.\n",
              "\n",
              "/**\n",
              " * @fileoverview Helpers for google.colab Python module.\n",
              " */\n",
              "(function(scope) {\n",
              "function span(text, styleAttributes = {}) {\n",
              "  const element = document.createElement('span');\n",
              "  element.textContent = text;\n",
              "  for (const key of Object.keys(styleAttributes)) {\n",
              "    element.style[key] = styleAttributes[key];\n",
              "  }\n",
              "  return element;\n",
              "}\n",
              "\n",
              "// Max number of bytes which will be uploaded at a time.\n",
              "const MAX_PAYLOAD_SIZE = 100 * 1024;\n",
              "\n",
              "function _uploadFiles(inputId, outputId) {\n",
              "  const steps = uploadFilesStep(inputId, outputId);\n",
              "  const outputElement = document.getElementById(outputId);\n",
              "  // Cache steps on the outputElement to make it available for the next call\n",
              "  // to uploadFilesContinue from Python.\n",
              "  outputElement.steps = steps;\n",
              "\n",
              "  return _uploadFilesContinue(outputId);\n",
              "}\n",
              "\n",
              "// This is roughly an async generator (not supported in the browser yet),\n",
              "// where there are multiple asynchronous steps and the Python side is going\n",
              "// to poll for completion of each step.\n",
              "// This uses a Promise to block the python side on completion of each step,\n",
              "// then passes the result of the previous step as the input to the next step.\n",
              "function _uploadFilesContinue(outputId) {\n",
              "  const outputElement = document.getElementById(outputId);\n",
              "  const steps = outputElement.steps;\n",
              "\n",
              "  const next = steps.next(outputElement.lastPromiseValue);\n",
              "  return Promise.resolve(next.value.promise).then((value) => {\n",
              "    // Cache the last promise value to make it available to the next\n",
              "    // step of the generator.\n",
              "    outputElement.lastPromiseValue = value;\n",
              "    return next.value.response;\n",
              "  });\n",
              "}\n",
              "\n",
              "/**\n",
              " * Generator function which is called between each async step of the upload\n",
              " * process.\n",
              " * @param {string} inputId Element ID of the input file picker element.\n",
              " * @param {string} outputId Element ID of the output display.\n",
              " * @return {!Iterable<!Object>} Iterable of next steps.\n",
              " */\n",
              "function* uploadFilesStep(inputId, outputId) {\n",
              "  const inputElement = document.getElementById(inputId);\n",
              "  inputElement.disabled = false;\n",
              "\n",
              "  const outputElement = document.getElementById(outputId);\n",
              "  outputElement.innerHTML = '';\n",
              "\n",
              "  const pickedPromise = new Promise((resolve) => {\n",
              "    inputElement.addEventListener('change', (e) => {\n",
              "      resolve(e.target.files);\n",
              "    });\n",
              "  });\n",
              "\n",
              "  const cancel = document.createElement('button');\n",
              "  inputElement.parentElement.appendChild(cancel);\n",
              "  cancel.textContent = 'Cancel upload';\n",
              "  const cancelPromise = new Promise((resolve) => {\n",
              "    cancel.onclick = () => {\n",
              "      resolve(null);\n",
              "    };\n",
              "  });\n",
              "\n",
              "  // Wait for the user to pick the files.\n",
              "  const files = yield {\n",
              "    promise: Promise.race([pickedPromise, cancelPromise]),\n",
              "    response: {\n",
              "      action: 'starting',\n",
              "    }\n",
              "  };\n",
              "\n",
              "  cancel.remove();\n",
              "\n",
              "  // Disable the input element since further picks are not allowed.\n",
              "  inputElement.disabled = true;\n",
              "\n",
              "  if (!files) {\n",
              "    return {\n",
              "      response: {\n",
              "        action: 'complete',\n",
              "      }\n",
              "    };\n",
              "  }\n",
              "\n",
              "  for (const file of files) {\n",
              "    const li = document.createElement('li');\n",
              "    li.append(span(file.name, {fontWeight: 'bold'}));\n",
              "    li.append(span(\n",
              "        `(${file.type || 'n/a'}) - ${file.size} bytes, ` +\n",
              "        `last modified: ${\n",
              "            file.lastModifiedDate ? file.lastModifiedDate.toLocaleDateString() :\n",
              "                                    'n/a'} - `));\n",
              "    const percent = span('0% done');\n",
              "    li.appendChild(percent);\n",
              "\n",
              "    outputElement.appendChild(li);\n",
              "\n",
              "    const fileDataPromise = new Promise((resolve) => {\n",
              "      const reader = new FileReader();\n",
              "      reader.onload = (e) => {\n",
              "        resolve(e.target.result);\n",
              "      };\n",
              "      reader.readAsArrayBuffer(file);\n",
              "    });\n",
              "    // Wait for the data to be ready.\n",
              "    let fileData = yield {\n",
              "      promise: fileDataPromise,\n",
              "      response: {\n",
              "        action: 'continue',\n",
              "      }\n",
              "    };\n",
              "\n",
              "    // Use a chunked sending to avoid message size limits. See b/62115660.\n",
              "    let position = 0;\n",
              "    do {\n",
              "      const length = Math.min(fileData.byteLength - position, MAX_PAYLOAD_SIZE);\n",
              "      const chunk = new Uint8Array(fileData, position, length);\n",
              "      position += length;\n",
              "\n",
              "      const base64 = btoa(String.fromCharCode.apply(null, chunk));\n",
              "      yield {\n",
              "        response: {\n",
              "          action: 'append',\n",
              "          file: file.name,\n",
              "          data: base64,\n",
              "        },\n",
              "      };\n",
              "\n",
              "      let percentDone = fileData.byteLength === 0 ?\n",
              "          100 :\n",
              "          Math.round((position / fileData.byteLength) * 100);\n",
              "      percent.textContent = `${percentDone}% done`;\n",
              "\n",
              "    } while (position < fileData.byteLength);\n",
              "  }\n",
              "\n",
              "  // All done.\n",
              "  yield {\n",
              "    response: {\n",
              "      action: 'complete',\n",
              "    }\n",
              "  };\n",
              "}\n",
              "\n",
              "scope.google = scope.google || {};\n",
              "scope.google.colab = scope.google.colab || {};\n",
              "scope.google.colab._files = {\n",
              "  _uploadFiles,\n",
              "  _uploadFilesContinue,\n",
              "};\n",
              "})(self);\n",
              "</script> "
            ]
          },
          "metadata": {}
        },
        {
          "output_type": "stream",
          "name": "stdout",
          "text": [
            "Saving ixi_euler.csv to ixi_euler.csv\n",
            "Saving IXI_aparc_thickness.csv to IXI_aparc_thickness.csv\n",
            "Saving IXI_age_gender.csv to IXI_age_gender.csv\n",
            "User uploaded file \"ixi_euler.csv\" with length 4038 bytes\n",
            "User uploaded file \"IXI_aparc_thickness.csv\" with length 77672926 bytes\n",
            "User uploaded file \"IXI_age_gender.csv\" with length 4205 bytes\n",
            "Moved ixi_euler.csv to /content/PCNtoolkit-demo/data\n",
            "Moved IXI_aparc_thickness.csv to /content/PCNtoolkit-demo/data\n",
            "Moved IXI_age_gender.csv to /content/PCNtoolkit-demo/data\n"
          ]
        }
      ]
    },
    {
      "cell_type": "code",
      "execution_count": 3,
      "metadata": {
        "id": "z05J1GqFPxQb",
        "jupyter": {
          "outputs_hidden": false
        },
        "pycharm": {
          "name": "#%%\n"
        },
        "colab": {
          "base_uri": "https://localhost:8080/"
        },
        "outputId": "c23a8c65-70a2-4654-9588-3d89f2d65f02"
      },
      "outputs": [
        {
          "output_type": "stream",
          "name": "stdout",
          "text": [
            "Requirement already satisfied: pandas in /usr/local/lib/python3.11/dist-packages (from -r requirements.txt (line 1)) (2.2.2)\n",
            "Requirement already satisfied: numpy in /usr/local/lib/python3.11/dist-packages (from -r requirements.txt (line 2)) (1.26.4)\n",
            "Requirement already satisfied: matplotlib in /usr/local/lib/python3.11/dist-packages (from -r requirements.txt (line 3)) (3.10.0)\n",
            "Requirement already satisfied: scikit-learn in /usr/local/lib/python3.11/dist-packages (from -r requirements.txt (line 5)) (1.6.1)\n",
            "Requirement already satisfied: joypy in /usr/local/lib/python3.11/dist-packages (from -r requirements.txt (line 6)) (0.2.6)\n",
            "Requirement already satisfied: pcntoolkit in /usr/local/lib/python3.11/dist-packages (from -r requirements.txt (line 7)) (0.33.0)\n",
            "Requirement already satisfied: python-dateutil>=2.8.2 in /usr/local/lib/python3.11/dist-packages (from pandas->-r requirements.txt (line 1)) (2.8.2)\n",
            "Requirement already satisfied: pytz>=2020.1 in /usr/local/lib/python3.11/dist-packages (from pandas->-r requirements.txt (line 1)) (2025.1)\n",
            "Requirement already satisfied: tzdata>=2022.7 in /usr/local/lib/python3.11/dist-packages (from pandas->-r requirements.txt (line 1)) (2025.1)\n",
            "Requirement already satisfied: contourpy>=1.0.1 in /usr/local/lib/python3.11/dist-packages (from matplotlib->-r requirements.txt (line 3)) (1.3.1)\n",
            "Requirement already satisfied: cycler>=0.10 in /usr/local/lib/python3.11/dist-packages (from matplotlib->-r requirements.txt (line 3)) (0.12.1)\n",
            "Requirement already satisfied: fonttools>=4.22.0 in /usr/local/lib/python3.11/dist-packages (from matplotlib->-r requirements.txt (line 3)) (4.56.0)\n",
            "Requirement already satisfied: kiwisolver>=1.3.1 in /usr/local/lib/python3.11/dist-packages (from matplotlib->-r requirements.txt (line 3)) (1.4.8)\n",
            "Requirement already satisfied: packaging>=20.0 in /usr/local/lib/python3.11/dist-packages (from matplotlib->-r requirements.txt (line 3)) (24.2)\n",
            "Requirement already satisfied: pillow>=8 in /usr/local/lib/python3.11/dist-packages (from matplotlib->-r requirements.txt (line 3)) (11.1.0)\n",
            "Requirement already satisfied: pyparsing>=2.3.1 in /usr/local/lib/python3.11/dist-packages (from matplotlib->-r requirements.txt (line 3)) (3.2.1)\n",
            "Requirement already satisfied: scipy>=1.6.0 in /usr/local/lib/python3.11/dist-packages (from scikit-learn->-r requirements.txt (line 5)) (1.14.1)\n",
            "Requirement already satisfied: joblib>=1.2.0 in /usr/local/lib/python3.11/dist-packages (from scikit-learn->-r requirements.txt (line 5)) (1.4.2)\n",
            "Requirement already satisfied: threadpoolctl>=3.1.0 in /usr/local/lib/python3.11/dist-packages (from scikit-learn->-r requirements.txt (line 5)) (3.5.0)\n",
            "Requirement already satisfied: bspline<0.2.0,>=0.1.1 in /usr/local/lib/python3.11/dist-packages (from pcntoolkit->-r requirements.txt (line 7)) (0.1.1)\n",
            "Requirement already satisfied: nibabel<6.0.0,>=5.3.1 in /usr/local/lib/python3.11/dist-packages (from pcntoolkit->-r requirements.txt (line 7)) (5.3.2)\n",
            "Requirement already satisfied: numba<0.61.0,>=0.60.0 in /usr/local/lib/python3.11/dist-packages (from pcntoolkit->-r requirements.txt (line 7)) (0.60.0)\n",
            "Requirement already satisfied: nutpie<0.14.0,>=0.13.2 in /usr/local/lib/python3.11/dist-packages (from pcntoolkit->-r requirements.txt (line 7)) (0.13.4)\n",
            "Requirement already satisfied: pymc<6.0.0,>=5.18.0 in /usr/local/lib/python3.11/dist-packages (from pcntoolkit->-r requirements.txt (line 7)) (5.20.1)\n",
            "Requirement already satisfied: seaborn<0.14.0,>=0.13.2 in /usr/local/lib/python3.11/dist-packages (from pcntoolkit->-r requirements.txt (line 7)) (0.13.2)\n",
            "Requirement already satisfied: six<2.0.0,>=1.16.0 in /usr/local/lib/python3.11/dist-packages (from pcntoolkit->-r requirements.txt (line 7)) (1.17.0)\n",
            "Requirement already satisfied: torch>=2.1.1 in /usr/local/lib/python3.11/dist-packages (from pcntoolkit->-r requirements.txt (line 7)) (2.6.0+cu124)\n",
            "Requirement already satisfied: importlib-resources>=5.12 in /usr/local/lib/python3.11/dist-packages (from nibabel<6.0.0,>=5.3.1->pcntoolkit->-r requirements.txt (line 7)) (6.5.2)\n",
            "Requirement already satisfied: typing-extensions>=4.6 in /usr/local/lib/python3.11/dist-packages (from nibabel<6.0.0,>=5.3.1->pcntoolkit->-r requirements.txt (line 7)) (4.12.2)\n",
            "Requirement already satisfied: llvmlite<0.44,>=0.43.0dev0 in /usr/local/lib/python3.11/dist-packages (from numba<0.61.0,>=0.60.0->pcntoolkit->-r requirements.txt (line 7)) (0.43.0)\n",
            "Requirement already satisfied: pyarrow>=12.0.0 in /usr/local/lib/python3.11/dist-packages (from nutpie<0.14.0,>=0.13.2->pcntoolkit->-r requirements.txt (line 7)) (18.1.0)\n",
            "Requirement already satisfied: xarray>=2025.1.2 in /usr/local/lib/python3.11/dist-packages (from nutpie<0.14.0,>=0.13.2->pcntoolkit->-r requirements.txt (line 7)) (2025.1.2)\n",
            "Requirement already satisfied: arviz>=0.20.0 in /usr/local/lib/python3.11/dist-packages (from nutpie<0.14.0,>=0.13.2->pcntoolkit->-r requirements.txt (line 7)) (0.20.0)\n",
            "Requirement already satisfied: cachetools>=4.2.1 in /usr/local/lib/python3.11/dist-packages (from pymc<6.0.0,>=5.18.0->pcntoolkit->-r requirements.txt (line 7)) (5.5.2)\n",
            "Requirement already satisfied: cloudpickle in /usr/local/lib/python3.11/dist-packages (from pymc<6.0.0,>=5.18.0->pcntoolkit->-r requirements.txt (line 7)) (3.1.1)\n",
            "Requirement already satisfied: pytensor<2.28,>=2.26.1 in /usr/local/lib/python3.11/dist-packages (from pymc<6.0.0,>=5.18.0->pcntoolkit->-r requirements.txt (line 7)) (2.27.1)\n",
            "Requirement already satisfied: rich>=13.7.1 in /usr/local/lib/python3.11/dist-packages (from pymc<6.0.0,>=5.18.0->pcntoolkit->-r requirements.txt (line 7)) (13.9.4)\n",
            "Requirement already satisfied: filelock in /usr/local/lib/python3.11/dist-packages (from torch>=2.1.1->pcntoolkit->-r requirements.txt (line 7)) (3.17.0)\n",
            "Requirement already satisfied: networkx in /usr/local/lib/python3.11/dist-packages (from torch>=2.1.1->pcntoolkit->-r requirements.txt (line 7)) (3.4.2)\n",
            "Requirement already satisfied: jinja2 in /usr/local/lib/python3.11/dist-packages (from torch>=2.1.1->pcntoolkit->-r requirements.txt (line 7)) (3.1.6)\n",
            "Requirement already satisfied: fsspec in /usr/local/lib/python3.11/dist-packages (from torch>=2.1.1->pcntoolkit->-r requirements.txt (line 7)) (2024.10.0)\n",
            "Requirement already satisfied: nvidia-cuda-nvrtc-cu12==12.4.127 in /usr/local/lib/python3.11/dist-packages (from torch>=2.1.1->pcntoolkit->-r requirements.txt (line 7)) (12.4.127)\n",
            "Requirement already satisfied: nvidia-cuda-runtime-cu12==12.4.127 in /usr/local/lib/python3.11/dist-packages (from torch>=2.1.1->pcntoolkit->-r requirements.txt (line 7)) (12.4.127)\n",
            "Requirement already satisfied: nvidia-cuda-cupti-cu12==12.4.127 in /usr/local/lib/python3.11/dist-packages (from torch>=2.1.1->pcntoolkit->-r requirements.txt (line 7)) (12.4.127)\n",
            "Requirement already satisfied: nvidia-cudnn-cu12==9.1.0.70 in /usr/local/lib/python3.11/dist-packages (from torch>=2.1.1->pcntoolkit->-r requirements.txt (line 7)) (9.1.0.70)\n",
            "Requirement already satisfied: nvidia-cublas-cu12==12.4.5.8 in /usr/local/lib/python3.11/dist-packages (from torch>=2.1.1->pcntoolkit->-r requirements.txt (line 7)) (12.4.5.8)\n",
            "Requirement already satisfied: nvidia-cufft-cu12==11.2.1.3 in /usr/local/lib/python3.11/dist-packages (from torch>=2.1.1->pcntoolkit->-r requirements.txt (line 7)) (11.2.1.3)\n",
            "Requirement already satisfied: nvidia-curand-cu12==10.3.5.147 in /usr/local/lib/python3.11/dist-packages (from torch>=2.1.1->pcntoolkit->-r requirements.txt (line 7)) (10.3.5.147)\n",
            "Requirement already satisfied: nvidia-cusolver-cu12==11.6.1.9 in /usr/local/lib/python3.11/dist-packages (from torch>=2.1.1->pcntoolkit->-r requirements.txt (line 7)) (11.6.1.9)\n",
            "Requirement already satisfied: nvidia-cusparse-cu12==12.3.1.170 in /usr/local/lib/python3.11/dist-packages (from torch>=2.1.1->pcntoolkit->-r requirements.txt (line 7)) (12.3.1.170)\n",
            "Requirement already satisfied: nvidia-cusparselt-cu12==0.6.2 in /usr/local/lib/python3.11/dist-packages (from torch>=2.1.1->pcntoolkit->-r requirements.txt (line 7)) (0.6.2)\n",
            "Requirement already satisfied: nvidia-nccl-cu12==2.21.5 in /usr/local/lib/python3.11/dist-packages (from torch>=2.1.1->pcntoolkit->-r requirements.txt (line 7)) (2.21.5)\n",
            "Requirement already satisfied: nvidia-nvtx-cu12==12.4.127 in /usr/local/lib/python3.11/dist-packages (from torch>=2.1.1->pcntoolkit->-r requirements.txt (line 7)) (12.4.127)\n",
            "Requirement already satisfied: nvidia-nvjitlink-cu12==12.4.127 in /usr/local/lib/python3.11/dist-packages (from torch>=2.1.1->pcntoolkit->-r requirements.txt (line 7)) (12.4.127)\n",
            "Requirement already satisfied: triton==3.2.0 in /usr/local/lib/python3.11/dist-packages (from torch>=2.1.1->pcntoolkit->-r requirements.txt (line 7)) (3.2.0)\n",
            "Requirement already satisfied: sympy==1.13.1 in /usr/local/lib/python3.11/dist-packages (from torch>=2.1.1->pcntoolkit->-r requirements.txt (line 7)) (1.13.1)\n",
            "Requirement already satisfied: mpmath<1.4,>=1.1.0 in /usr/local/lib/python3.11/dist-packages (from sympy==1.13.1->torch>=2.1.1->pcntoolkit->-r requirements.txt (line 7)) (1.3.0)\n",
            "Requirement already satisfied: setuptools>=60.0.0 in /usr/local/lib/python3.11/dist-packages (from arviz>=0.20.0->nutpie<0.14.0,>=0.13.2->pcntoolkit->-r requirements.txt (line 7)) (75.1.0)\n",
            "Requirement already satisfied: h5netcdf>=1.0.2 in /usr/local/lib/python3.11/dist-packages (from arviz>=0.20.0->nutpie<0.14.0,>=0.13.2->pcntoolkit->-r requirements.txt (line 7)) (1.6.1)\n",
            "Requirement already satisfied: xarray-einstats>=0.3 in /usr/local/lib/python3.11/dist-packages (from arviz>=0.20.0->nutpie<0.14.0,>=0.13.2->pcntoolkit->-r requirements.txt (line 7)) (0.8.0)\n",
            "Requirement already satisfied: etuples in /usr/local/lib/python3.11/dist-packages (from pytensor<2.28,>=2.26.1->pymc<6.0.0,>=5.18.0->pcntoolkit->-r requirements.txt (line 7)) (0.3.9)\n",
            "Requirement already satisfied: logical-unification in /usr/local/lib/python3.11/dist-packages (from pytensor<2.28,>=2.26.1->pymc<6.0.0,>=5.18.0->pcntoolkit->-r requirements.txt (line 7)) (0.4.6)\n",
            "Requirement already satisfied: miniKanren in /usr/local/lib/python3.11/dist-packages (from pytensor<2.28,>=2.26.1->pymc<6.0.0,>=5.18.0->pcntoolkit->-r requirements.txt (line 7)) (1.0.3)\n",
            "Requirement already satisfied: cons in /usr/local/lib/python3.11/dist-packages (from pytensor<2.28,>=2.26.1->pymc<6.0.0,>=5.18.0->pcntoolkit->-r requirements.txt (line 7)) (0.4.6)\n",
            "Requirement already satisfied: markdown-it-py>=2.2.0 in /usr/local/lib/python3.11/dist-packages (from rich>=13.7.1->pymc<6.0.0,>=5.18.0->pcntoolkit->-r requirements.txt (line 7)) (3.0.0)\n",
            "Requirement already satisfied: pygments<3.0.0,>=2.13.0 in /usr/local/lib/python3.11/dist-packages (from rich>=13.7.1->pymc<6.0.0,>=5.18.0->pcntoolkit->-r requirements.txt (line 7)) (2.18.0)\n",
            "Requirement already satisfied: MarkupSafe>=2.0 in /usr/local/lib/python3.11/dist-packages (from jinja2->torch>=2.1.1->pcntoolkit->-r requirements.txt (line 7)) (3.0.2)\n",
            "Requirement already satisfied: h5py in /usr/local/lib/python3.11/dist-packages (from h5netcdf>=1.0.2->arviz>=0.20.0->nutpie<0.14.0,>=0.13.2->pcntoolkit->-r requirements.txt (line 7)) (3.12.1)\n",
            "Requirement already satisfied: mdurl~=0.1 in /usr/local/lib/python3.11/dist-packages (from markdown-it-py>=2.2.0->rich>=13.7.1->pymc<6.0.0,>=5.18.0->pcntoolkit->-r requirements.txt (line 7)) (0.1.2)\n",
            "Requirement already satisfied: toolz in /usr/local/lib/python3.11/dist-packages (from logical-unification->pytensor<2.28,>=2.26.1->pymc<6.0.0,>=5.18.0->pcntoolkit->-r requirements.txt (line 7)) (0.12.1)\n",
            "Requirement already satisfied: multipledispatch in /usr/local/lib/python3.11/dist-packages (from logical-unification->pytensor<2.28,>=2.26.1->pymc<6.0.0,>=5.18.0->pcntoolkit->-r requirements.txt (line 7)) (1.0.0)\n"
          ]
        }
      ],
      "source": [
        "! pip install -r requirements.txt"
      ]
    },
    {
      "cell_type": "markdown",
      "metadata": {
        "id": "9wDmki54PxQc"
      },
      "source": [
        "## Prepare covariate data"
      ]
    },
    {
      "cell_type": "markdown",
      "metadata": {
        "id": "WCEK3IokPxQc"
      },
      "source": [
        "### Step 2.\n",
        "\n",
        "The data set (downloaded in Step 1) includes a multi-site dataset from the [Human Connectome Project Young Adult study](https://www.humanconnectome.org/study/hcp-young-adult) and [IXI](https://brain-development.org/ixi-dataset/). It is also possible to use different datasets (i.e., your own data or additional public datasets) in this step. If using your own data here, it is recommended to load the example data to view the column names in order to match your data to this format. Read in the data files using pandas, then merge the covariate (age & sex) data from each site into a single data frame (named cov). The columns of this covariate data frame represent the predictor variables. Additional columns may be added here, depending on the research question."
      ]
    },
    {
      "cell_type": "code",
      "execution_count": 62,
      "metadata": {
        "id": "vVyr2UrgPxQd"
      },
      "outputs": [],
      "source": [
        "import pandas as pd\n",
        "import numpy as np\n",
        "import matplotlib.pyplot as plt\n",
        "import seaborn as sns\n",
        "import joypy\n",
        "from sklearn.model_selection import train_test_split\n",
        "from pcntoolkit.normative import estimate, evaluate\n",
        "from pcntoolkit.util.utils import create_bspline_basis, compute_MSLL"
      ]
    },
    {
      "cell_type": "code",
      "execution_count": 63,
      "metadata": {
        "id": "G6VQMkq-PxQd"
      },
      "outputs": [],
      "source": [
        "# if running in Google colab, remove the \"data/\" folder from the path\n",
        "hcp = pd.read_csv(os.path.join(wdir,'data','HCP1200_age_gender.csv'))\n",
        "ixi = pd.read_csv(os.path.join(wdir,'data','IXI_age_gender.csv'))"
      ]
    },
    {
      "cell_type": "code",
      "execution_count": 64,
      "metadata": {
        "id": "OgM-nnT6PxQd"
      },
      "outputs": [],
      "source": [
        "cov = pd.merge(hcp, ixi, on=[\"participant_id\", \"age\", \"sex\", \"site\"], how='outer')"
      ]
    },
    {
      "cell_type": "code",
      "execution_count": 65,
      "metadata": {
        "id": "gkaf63EfPxQe"
      },
      "outputs": [],
      "source": [
        "sns.set(font_scale=1.5, style='darkgrid')"
      ]
    },
    {
      "cell_type": "code",
      "execution_count": 66,
      "metadata": {
        "colab": {
          "base_uri": "https://localhost:8080/",
          "height": 521
        },
        "id": "ao2iVSIVPxQe",
        "outputId": "038d0850-69f9-4d22-b090-fd7a24e59623"
      },
      "outputs": [
        {
          "output_type": "display_data",
          "data": {
            "text/plain": [
              "<Figure size 724.25x600 with 1 Axes>"
            ],
            "image/png": "[encoded data removed]"
          },
          "metadata": {}
        }
      ],
      "source": [
        "sns.displot(cov, x=\"age\", hue=\"site\", multiple=\"stack\", height=6);"
      ]
    },
    {
      "cell_type": "code",
      "execution_count": 67,
      "metadata": {
        "colab": {
          "base_uri": "https://localhost:8080/",
          "height": 194
        },
        "id": "shVeUZAZPxQe",
        "outputId": "3318c7f7-eaa8-40b3-bde4-35844794b3ae"
      },
      "outputs": [
        {
          "output_type": "execute_result",
          "data": {
            "text/plain": [
              "         age                                                         sex                                             \n",
              "       count       mean        std   min   25%   50%   75%   max   count      mean       std  min  25%  50%  75%  max\n",
              "site                                                                                                                 \n",
              "hcp   1206.0  28.837479   3.690534  22.0  26.0  29.0  32.0  37.0  1206.0  1.543947  0.498272  1.0  1.0  2.0  2.0  2.0\n",
              "ixi    232.0  37.857759  11.533558  18.0  27.0  37.0  47.0  67.0   232.0  1.620690  0.486265  1.0  1.0  2.0  2.0  2.0"
            ],
            "text/html": [
              "\n",
              "  <div id=\"df-5458aae9-3023-4b07-bea2-a86330796b71\" class=\"colab-df-container\">\n",
              "    <div>\n",
              "<style scoped>\n",
              "    .dataframe tbody tr th:only-of-type {\n",
              "        vertical-align: middle;\n",
              "    }\n",
              "\n",
              "    .dataframe tbody tr th {\n",
              "        vertical-align: top;\n",
              "    }\n",
              "\n",
              "    .dataframe thead tr th {\n",
              "        text-align: left;\n",
              "    }\n",
              "\n",
              "    .dataframe thead tr:last-of-type th {\n",
              "        text-align: right;\n",
              "    }\n",
              "</style>\n",
              "<table border=\"1\" class=\"dataframe\">\n",
              "  <thead>\n",
              "    <tr>\n",
              "      <th></th>\n",
              "      <th colspan=\"8\" halign=\"left\">age</th>\n",
              "      <th colspan=\"8\" halign=\"left\">sex</th>\n",
              "    </tr>\n",
              "    <tr>\n",
              "      <th></th>\n",
              "      <th>count</th>\n",
              "      <th>mean</th>\n",
              "      <th>std</th>\n",
              "      <th>min</th>\n",
              "      <th>25%</th>\n",
              "      <th>50%</th>\n",
              "      <th>75%</th>\n",
              "      <th>max</th>\n",
              "      <th>count</th>\n",
              "      <th>mean</th>\n",
              "      <th>std</th>\n",
              "      <th>min</th>\n",
              "      <th>25%</th>\n",
              "      <th>50%</th>\n",
              "      <th>75%</th>\n",
              "      <th>max</th>\n",
              "    </tr>\n",
              "    <tr>\n",
              "      <th>site</th>\n",
              "      <th></th>\n",
              "      <th></th>\n",
              "      <th></th>\n",
              "      <th></th>\n",
              "      <th></th>\n",
              "      <th></th>\n",
              "      <th></th>\n",
              "      <th></th>\n",
              "      <th></th>\n",
              "      <th></th>\n",
              "      <th></th>\n",
              "      <th></th>\n",
              "      <th></th>\n",
              "      <th></th>\n",
              "      <th></th>\n",
              "      <th></th>\n",
              "    </tr>\n",
              "  </thead>\n",
              "  <tbody>\n",
              "    <tr>\n",
              "      <th>hcp</th>\n",
              "      <td>1206.0</td>\n",
              "      <td>28.837479</td>\n",
              "      <td>3.690534</td>\n",
              "      <td>22.0</td>\n",
              "      <td>26.0</td>\n",
              "      <td>29.0</td>\n",
              "      <td>32.0</td>\n",
              "      <td>37.0</td>\n",
              "      <td>1206.0</td>\n",
              "      <td>1.543947</td>\n",
              "      <td>0.498272</td>\n",
              "      <td>1.0</td>\n",
              "      <td>1.0</td>\n",
              "      <td>2.0</td>\n",
              "      <td>2.0</td>\n",
              "      <td>2.0</td>\n",
              "    </tr>\n",
              "    <tr>\n",
              "      <th>ixi</th>\n",
              "      <td>232.0</td>\n",
              "      <td>37.857759</td>\n",
              "      <td>11.533558</td>\n",
              "      <td>18.0</td>\n",
              "      <td>27.0</td>\n",
              "      <td>37.0</td>\n",
              "      <td>47.0</td>\n",
              "      <td>67.0</td>\n",
              "      <td>232.0</td>\n",
              "      <td>1.620690</td>\n",
              "      <td>0.486265</td>\n",
              "      <td>1.0</td>\n",
              "      <td>1.0</td>\n",
              "      <td>2.0</td>\n",
              "      <td>2.0</td>\n",
              "      <td>2.0</td>\n",
              "    </tr>\n",
              "  </tbody>\n",
              "</table>\n",
              "</div>\n",
              "    <div class=\"colab-df-buttons\">\n",
              "\n",
              "  <div class=\"colab-df-container\">\n",
              "    <button class=\"colab-df-convert\" onclick=\"convertToInteractive('df-5458aae9-3023-4b07-bea2-a86330796b71')\"\n",
              "            title=\"Convert this dataframe to an interactive table.\"\n",
              "            style=\"display:none;\">\n",
              "\n",
              "  <svg xmlns=\"http://www.w3.org/2000/svg\" height=\"24px\" viewBox=\"0 -960 960 960\">\n",
              "    <path d=\"M120-120v-720h720v720H120Zm60-500h600v-160H180v160Zm220 220h160v-160H400v160Zm0 220h160v-160H400v160ZM180-400h160v-160H180v160Zm440 0h160v-160H620v160ZM180-180h160v-160H180v160Zm440 0h160v-160H620v160Z\"/>\n",
              "  </svg>\n",
              "    </button>\n",
              "\n",
              "  <style>\n",
              "    .colab-df-container {\n",
              "      display:flex;\n",
              "      gap: 12px;\n",
              "    }\n",
              "\n",
              "    .colab-df-convert {\n",
              "      background-color: #E8F0FE;\n",
              "      border: none;\n",
              "      border-radius: 50%;\n",
              "      cursor: pointer;\n",
              "      display: none;\n",
              "      fill: #1967D2;\n",
              "      height: 32px;\n",
              "      padding: 0 0 0 0;\n",
              "      width: 32px;\n",
              "    }\n",
              "\n",
              "    .colab-df-convert:hover {\n",
              "      background-color: #E2EBFA;\n",
              "      box-shadow: 0px 1px 2px rgba(60, 64, 67, 0.3), 0px 1px 3px 1px rgba(60, 64, 67, 0.15);\n",
              "      fill: #174EA6;\n",
              "    }\n",
              "\n",
              "    .colab-df-buttons div {\n",
              "      margin-bottom: 4px;\n",
              "    }\n",
              "\n",
              "    [theme=dark] .colab-df-convert {\n",
              "      background-color: #3B4455;\n",
              "      fill: #D2E3FC;\n",
              "    }\n",
              "\n",
              "    [theme=dark] .colab-df-convert:hover {\n",
              "      background-color: #434B5C;\n",
              "      box-shadow: 0px 1px 3px 1px rgba(0, 0, 0, 0.15);\n",
              "      filter: drop-shadow(0px 1px 2px rgba(0, 0, 0, 0.3));\n",
              "      fill: #FFFFFF;\n",
              "    }\n",
              "  </style>\n",
              "\n",
              "    <script>\n",
              "      const buttonEl =\n",
              "        document.querySelector('#df-5458aae9-3023-4b07-bea2-a86330796b71 button.colab-df-convert');\n",
              "      buttonEl.style.display =\n",
              "        google.colab.kernel.accessAllowed ? 'block' : 'none';\n",
              "\n",
              "      async function convertToInteractive(key) {\n",
              "        const element = document.querySelector('#df-5458aae9-3023-4b07-bea2-a86330796b71');\n",
              "        const dataTable =\n",
              "          await google.colab.kernel.invokeFunction('convertToInteractive',\n",
              "                                                    [key], {});\n",
              "        if (!dataTable) return;\n",
              "\n",
              "        const docLinkHtml = 'Like what you see? Visit the ' +\n",
              "          '<a target=\"_blank\" href=https://colab.research.google.com/notebooks/data_table.ipynb>data table notebook</a>'\n",
              "          + ' to learn more about interactive tables.';\n",
              "        element.innerHTML = '';\n",
              "        dataTable['output_type'] = 'display_data';\n",
              "        await google.colab.output.renderOutput(dataTable, element);\n",
              "        const docLink = document.createElement('div');\n",
              "        docLink.innerHTML = docLinkHtml;\n",
              "        element.appendChild(docLink);\n",
              "      }\n",
              "    </script>\n",
              "  </div>\n",
              "\n",
              "\n",
              "<div id=\"df-f552bd55-a4a3-4dac-9cc2-a966ce489f79\">\n",
              "  <button class=\"colab-df-quickchart\" onclick=\"quickchart('df-f552bd55-a4a3-4dac-9cc2-a966ce489f79')\"\n",
              "            title=\"Suggest charts\"\n",
              "            style=\"display:none;\">\n",
              "\n",
              "<svg xmlns=\"http://www.w3.org/2000/svg\" height=\"24px\"viewBox=\"0 0 24 24\"\n",
              "     width=\"24px\">\n",
              "    <g>\n",
              "        <path d=\"M19 3H5c-1.1 0-2 .9-2 2v14c0 1.1.9 2 2 2h14c1.1 0 2-.9 2-2V5c0-1.1-.9-2-2-2zM9 17H7v-7h2v7zm4 0h-2V7h2v10zm4 0h-2v-4h2v4z\"/>\n",
              "    </g>\n",
              "</svg>\n",
              "  </button>\n",
              "\n",
              "<style>\n",
              "  .colab-df-quickchart {\n",
              "      --bg-color: #E8F0FE;\n",
              "      --fill-color: #1967D2;\n",
              "      --hover-bg-color: #E2EBFA;\n",
              "      --hover-fill-color: #174EA6;\n",
              "      --disabled-fill-color: #AAA;\n",
              "      --disabled-bg-color: #DDD;\n",
              "  }\n",
              "\n",
              "  [theme=dark] .colab-df-quickchart {\n",
              "      --bg-color: #3B4455;\n",
              "      --fill-color: #D2E3FC;\n",
              "      --hover-bg-color: #434B5C;\n",
              "      --hover-fill-color: #FFFFFF;\n",
              "      --disabled-bg-color: #3B4455;\n",
              "      --disabled-fill-color: #666;\n",
              "  }\n",
              "\n",
              "  .colab-df-quickchart {\n",
              "    background-color: var(--bg-color);\n",
              "    border: none;\n",
              "    border-radius: 50%;\n",
              "    cursor: pointer;\n",
              "    display: none;\n",
              "    fill: var(--fill-color);\n",
              "    height: 32px;\n",
              "    padding: 0;\n",
              "    width: 32px;\n",
              "  }\n",
              "\n",
              "  .colab-df-quickchart:hover {\n",
              "    background-color: var(--hover-bg-color);\n",
              "    box-shadow: 0 1px 2px rgba(60, 64, 67, 0.3), 0 1px 3px 1px rgba(60, 64, 67, 0.15);\n",
              "    fill: var(--button-hover-fill-color);\n",
              "  }\n",
              "\n",
              "  .colab-df-quickchart-complete:disabled,\n",
              "  .colab-df-quickchart-complete:disabled:hover {\n",
              "    background-color: var(--disabled-bg-color);\n",
              "    fill: var(--disabled-fill-color);\n",
              "    box-shadow: none;\n",
              "  }\n",
              "\n",
              "  .colab-df-spinner {\n",
              "    border: 2px solid var(--fill-color);\n",
              "    border-color: transparent;\n",
              "    border-bottom-color: var(--fill-color);\n",
              "    animation:\n",
              "      spin 1s steps(1) infinite;\n",
              "  }\n",
              "\n",
              "  @keyframes spin {\n",
              "    0% {\n",
              "      border-color: transparent;\n",
              "      border-bottom-color: var(--fill-color);\n",
              "      border-left-color: var(--fill-color);\n",
              "    }\n",
              "    20% {\n",
              "      border-color: transparent;\n",
              "      border-left-color: var(--fill-color);\n",
              "      border-top-color: var(--fill-color);\n",
              "    }\n",
              "    30% {\n",
              "      border-color: transparent;\n",
              "      border-left-color: var(--fill-color);\n",
              "      border-top-color: var(--fill-color);\n",
              "      border-right-color: var(--fill-color);\n",
              "    }\n",
              "    40% {\n",
              "      border-color: transparent;\n",
              "      border-right-color: var(--fill-color);\n",
              "      border-top-color: var(--fill-color);\n",
              "    }\n",
              "    60% {\n",
              "      border-color: transparent;\n",
              "      border-right-color: var(--fill-color);\n",
              "    }\n",
              "    80% {\n",
              "      border-color: transparent;\n",
              "      border-right-color: var(--fill-color);\n",
              "      border-bottom-color: var(--fill-color);\n",
              "    }\n",
              "    90% {\n",
              "      border-color: transparent;\n",
              "      border-bottom-color: var(--fill-color);\n",
              "    }\n",
              "  }\n",
              "</style>\n",
              "\n",
              "  <script>\n",
              "    async function quickchart(key) {\n",
              "      const quickchartButtonEl =\n",
              "        document.querySelector('#' + key + ' button');\n",
              "      quickchartButtonEl.disabled = true;  // To prevent multiple clicks.\n",
              "      quickchartButtonEl.classList.add('colab-df-spinner');\n",
              "      try {\n",
              "        const charts = await google.colab.kernel.invokeFunction(\n",
              "            'suggestCharts', [key], {});\n",
              "      } catch (error) {\n",
              "        console.error('Error during call to suggestCharts:', error);\n",
              "      }\n",
              "      quickchartButtonEl.classList.remove('colab-df-spinner');\n",
              "      quickchartButtonEl.classList.add('colab-df-quickchart-complete');\n",
              "    }\n",
              "    (() => {\n",
              "      let quickchartButtonEl =\n",
              "        document.querySelector('#df-f552bd55-a4a3-4dac-9cc2-a966ce489f79 button');\n",
              "      quickchartButtonEl.style.display =\n",
              "        google.colab.kernel.accessAllowed ? 'block' : 'none';\n",
              "    })();\n",
              "  </script>\n",
              "</div>\n",
              "\n",
              "    </div>\n",
              "  </div>\n"
            ],
            "application/vnd.google.colaboratory.intrinsic+json": {
              "type": "dataframe",
              "summary": "{\n  \"name\": \"cov\",\n  \"rows\": 2,\n  \"fields\": [\n    {\n      \"column\": [\n        \"site\",\n        \"\"\n      ],\n      \"properties\": {\n        \"dtype\": \"string\",\n        \"num_unique_values\": 2,\n        \"samples\": [\n          \"ixi\",\n          \"hcp\"\n        ],\n        \"semantic_type\": \"\",\n        \"description\": \"\"\n      }\n    },\n    {\n      \"column\": [\n        \"age\",\n        \"count\"\n      ],\n      \"properties\": {\n        \"dtype\": \"number\",\n        \"std\": 688.7220048756973,\n        \"min\": 232.0,\n        \"max\": 1206.0,\n        \"num_unique_values\": 2,\n        \"samples\": [\n          232.0,\n          1206.0\n        ],\n        \"semantic_type\": \"\",\n        \"description\": \"\"\n      }\n    },\n    {\n      \"column\": [\n        \"age\",\n        \"mean\"\n      ],\n      \"properties\": {\n        \"dtype\": \"number\",\n        \"std\": 6.378300696846844,\n        \"min\": 28.83747927031509,\n        \"max\": 37.85775862068966,\n        \"num_unique_values\": 2,\n        \"samples\": [\n          37.85775862068966,\n          28.83747927031509\n        ],\n        \"semantic_type\": \"\",\n        \"description\": \"\"\n      }\n    },\n    {\n      \"column\": [\n        \"age\",\n        \"std\"\n      ],\n      \"properties\": {\n        \"dtype\": \"number\",\n        \"std\": 5.5458560483355015,\n        \"min\": 3.6905335822854384,\n        \"max\": 11.533558420810364,\n        \"num_unique_values\": 2,\n        \"samples\": [\n          11.533558420810364,\n          3.6905335822854384\n        ],\n        \"semantic_type\": \"\",\n        \"description\": \"\"\n      }\n    },\n    {\n      \"column\": [\n        \"age\",\n        \"min\"\n      ],\n      \"properties\": {\n        \"dtype\": \"number\",\n        \"std\": 2.8284271247461903,\n        \"min\": 18.0,\n        \"max\": 22.0,\n        \"num_unique_values\": 2,\n        \"samples\": [\n          18.0,\n          22.0\n        ],\n        \"semantic_type\": \"\",\n        \"description\": \"\"\n      }\n    },\n    {\n      \"column\": [\n        \"age\",\n        \"25%\"\n      ],\n      \"properties\": {\n        \"dtype\": \"number\",\n        \"std\": 0.7071067811865476,\n        \"min\": 26.0,\n        \"max\": 27.0,\n        \"num_unique_values\": 2,\n        \"samples\": [\n          27.0,\n          26.0\n        ],\n        \"semantic_type\": \"\",\n        \"description\": \"\"\n      }\n    },\n    {\n      \"column\": [\n        \"age\",\n        \"50%\"\n      ],\n      \"properties\": {\n        \"dtype\": \"number\",\n        \"std\": 5.656854249492381,\n        \"min\": 29.0,\n        \"max\": 37.0,\n        \"num_unique_values\": 2,\n        \"samples\": [\n          37.0,\n          29.0\n        ],\n        \"semantic_type\": \"\",\n        \"description\": \"\"\n      }\n    },\n    {\n      \"column\": [\n        \"age\",\n        \"75%\"\n      ],\n      \"properties\": {\n        \"dtype\": \"number\",\n        \"std\": 10.606601717798213,\n        \"min\": 32.0,\n        \"max\": 47.0,\n        \"num_unique_values\": 2,\n        \"samples\": [\n          47.0,\n          32.0\n        ],\n        \"semantic_type\": \"\",\n        \"description\": \"\"\n      }\n    },\n    {\n      \"column\": [\n        \"age\",\n        \"max\"\n      ],\n      \"properties\": {\n        \"dtype\": \"number\",\n        \"std\": 21.213203435596427,\n        \"min\": 37.0,\n        \"max\": 67.0,\n        \"num_unique_values\": 2,\n        \"samples\": [\n          67.0,\n          37.0\n        ],\n        \"semantic_type\": \"\",\n        \"description\": \"\"\n      }\n    },\n    {\n      \"column\": [\n        \"sex\",\n        \"count\"\n      ],\n      \"properties\": {\n        \"dtype\": \"number\",\n        \"std\": 688.7220048756973,\n        \"min\": 232.0,\n        \"max\": 1206.0,\n        \"num_unique_values\": 2,\n        \"samples\": [\n          232.0,\n          1206.0\n        ],\n        \"semantic_type\": \"\",\n        \"description\": \"\"\n      }\n    },\n    {\n      \"column\": [\n        \"sex\",\n        \"mean\"\n      ],\n      \"properties\": {\n        \"dtype\": \"number\",\n        \"std\": 0.05426529995724516,\n        \"min\": 1.5439469320066335,\n        \"max\": 1.6206896551724137,\n        \"num_unique_values\": 2,\n        \"samples\": [\n          1.6206896551724137,\n          1.5439469320066335\n        ],\n        \"semantic_type\": \"\",\n        \"description\": \"\"\n      }\n    },\n    {\n      \"column\": [\n        \"sex\",\n        \"std\"\n      ],\n      \"properties\": {\n        \"dtype\": \"number\",\n        \"std\": 0.008490235819010532,\n        \"min\": 0.4862645390838641,\n        \"max\": 0.4982715457268546,\n        \"num_unique_values\": 2,\n        \"samples\": [\n          0.4862645390838641,\n          0.4982715457268546\n        ],\n        \"semantic_type\": \"\",\n        \"description\": \"\"\n      }\n    },\n    {\n      \"column\": [\n        \"sex\",\n        \"min\"\n      ],\n      \"properties\": {\n        \"dtype\": \"number\",\n        \"std\": 0.0,\n        \"min\": 1.0,\n        \"max\": 1.0,\n        \"num_unique_values\": 1,\n        \"samples\": [\n          1.0\n        ],\n        \"semantic_type\": \"\",\n        \"description\": \"\"\n      }\n    },\n    {\n      \"column\": [\n        \"sex\",\n        \"25%\"\n      ],\n      \"properties\": {\n        \"dtype\": \"number\",\n        \"std\": 0.0,\n        \"min\": 1.0,\n        \"max\": 1.0,\n        \"num_unique_values\": 1,\n        \"samples\": [\n          1.0\n        ],\n        \"semantic_type\": \"\",\n        \"description\": \"\"\n      }\n    },\n    {\n      \"column\": [\n        \"sex\",\n        \"50%\"\n      ],\n      \"properties\": {\n        \"dtype\": \"number\",\n        \"std\": 0.0,\n        \"min\": 2.0,\n        \"max\": 2.0,\n        \"num_unique_values\": 1,\n        \"samples\": [\n          2.0\n        ],\n        \"semantic_type\": \"\",\n        \"description\": \"\"\n      }\n    },\n    {\n      \"column\": [\n        \"sex\",\n        \"75%\"\n      ],\n      \"properties\": {\n        \"dtype\": \"number\",\n        \"std\": 0.0,\n        \"min\": 2.0,\n        \"max\": 2.0,\n        \"num_unique_values\": 1,\n        \"samples\": [\n          2.0\n        ],\n        \"semantic_type\": \"\",\n        \"description\": \"\"\n      }\n    },\n    {\n      \"column\": [\n        \"sex\",\n        \"max\"\n      ],\n      \"properties\": {\n        \"dtype\": \"number\",\n        \"std\": 0.0,\n        \"min\": 2.0,\n        \"max\": 2.0,\n        \"num_unique_values\": 1,\n        \"samples\": [\n          2.0\n        ],\n        \"semantic_type\": \"\",\n        \"description\": \"\"\n      }\n    }\n  ]\n}"
            }
          },
          "metadata": {},
          "execution_count": 67
        }
      ],
      "source": [
        "cov.groupby(['site']).describe()"
      ]
    },
    {
      "cell_type": "markdown",
      "metadata": {
        "id": "NPUxTt-zPxQf"
      },
      "source": [
        "## Preprare brain data"
      ]
    },
    {
      "cell_type": "markdown",
      "metadata": {
        "id": "QPl50oOqPxQf"
      },
      "source": [
        "### Step 3.\n",
        "\n",
        "Next, format and combine the MRI data using the following commands. The example data contains cortical thickness maps estimated by running recon-all from Freesurfer (version 6.0). The dimensionality of the data was reduced by using ROIs from the Desikan-Killiany atlas. Including the Euler number as a covariate is also recommended, as this is a proxy metric for data quality. The [Euler number](https://mathworld.wolfram.com/EulerCharacteristic.html) from each subject's recon-all output folder was extracted into a text file and is merged into the cortical thickness data frame. The Euler number is site-specific, thus, to use the same exclusion threshold across sites it is important to center the site by subtracting the site median from all subjects at a site. Then take the square root and multiply by negative one and exclude any subjects with a square root above 10."
      ]
    },
    {
      "cell_type": "markdown",
      "metadata": {
        "id": "lTaweyNcPxQf"
      },
      "source": [
        "Here is some psuedo-code (run from a terminal in the folder that has all subject's recon-all output folders) that was used to extract these ROIs:\n",
        "\n",
        "```export SUBJECTS_DIR=/path/to/study/freesurfer_data/```\n",
        "\n",
        "```aparcstats2table --subject sub-* --hemi lh --meas thickness --tablefile HCP1200_aparc_lh_thickness.txt```\n",
        "\n",
        "```aparcstats2table --subject sub-* --hemi rh --meas thickness --tablefile HCP1200_aparc_rh_thickness.txt```"
      ]
    },
    {
      "cell_type": "code",
      "execution_count": 68,
      "metadata": {
        "id": "IRWlg7lMPxQg",
        "colab": {
          "base_uri": "https://localhost:8080/"
        },
        "outputId": "0de87b43-9925-4a98-8c37-01efe0229b3d"
      },
      "outputs": [
        {
          "output_type": "stream",
          "name": "stderr",
          "text": [
            "<ipython-input-68-181cc5a87ea5>:2: DtypeWarning: Columns (0) have mixed types. Specify dtype option on import or set low_memory=False.\n",
            "  ixi = pd.read_csv(os.path.join(wdir,'data','IXI_aparc_thickness.csv'))\n"
          ]
        }
      ],
      "source": [
        "hcpya = pd.read_csv(os.path.join(wdir,'data','HCP1200_aparc_thickness.csv'))\n",
        "ixi = pd.read_csv(os.path.join(wdir,'data','IXI_aparc_thickness.csv'))"
      ]
    },
    {
      "cell_type": "code",
      "execution_count": 69,
      "metadata": {
        "id": "87MOUvN3PxQg"
      },
      "outputs": [],
      "source": [
        "brain_all = pd.merge(ixi, hcpya, how='outer')"
      ]
    },
    {
      "cell_type": "markdown",
      "metadata": {
        "id": "8w7w9RYWPxQg"
      },
      "source": [
        "We extracted the euler number from each subject's recon-all output folder into a text file and we now need to format and combine these into our brain dataframe.\n",
        "\n",
        "Below is psuedo code for how we extracted the euler number from the recon-all.log for each subject. Run this from the terminal in the folder where your subjects recon-all output folders are located. This assumes that all of your subject IDs start with \"sub-\" prefix.\n",
        "\n",
        "```for i in sub-*; do if [[ -e ${i}/scripts/recon-all.log ]]; then cat ${i}/scripts/recon-all.log | grep -A 1 \"Computing euler\" > temp_log; lh_en=`cat temp_log | head -2 | tail -1 | awk -F '=' '{print $2}' | awk -F ',' '{print $1}'`; rh_en=`cat temp_log | head -2 | tail -1 | awk -F '=' '{print $3}'`; echo \"${i}, ${lh_en}, ${rh_en}\" >> euler.csv; echo ${i}; fi; done```"
      ]
    },
    {
      "cell_type": "code",
      "execution_count": 70,
      "metadata": {
        "id": "tGvdOT0PPxQg"
      },
      "outputs": [],
      "source": [
        "hcp_euler = pd.read_csv(os.path.join(wdir,'data','hcp-ya_euler.csv'))\n",
        "ixi_euler = pd.read_csv(os.path.join(wdir,'data','ixi_euler.csv'))"
      ]
    },
    {
      "cell_type": "code",
      "execution_count": 71,
      "metadata": {
        "id": "DYyZpHQKPxQg"
      },
      "outputs": [],
      "source": [
        "hcp_euler['site'] = 'hcp'\n",
        "ixi_euler['site'] = 'ixi'"
      ]
    },
    {
      "cell_type": "code",
      "execution_count": 72,
      "metadata": {
        "id": "6JPbNhc0PxQh"
      },
      "outputs": [],
      "source": [
        "hcp_euler.replace(r'^\\s*$', np.nan, regex=True, inplace=True)\n",
        "ixi_euler.replace(r'^\\s*$', np.nan, regex=True, inplace=True)"
      ]
    },
    {
      "cell_type": "code",
      "execution_count": 73,
      "metadata": {
        "id": "hiQZiCgVPxQh"
      },
      "outputs": [],
      "source": [
        "hcp_euler.dropna(inplace=True)\n",
        "ixi_euler.dropna(inplace=True)"
      ]
    },
    {
      "cell_type": "code",
      "execution_count": 74,
      "metadata": {
        "id": "iBPeQrBbPxQh"
      },
      "outputs": [],
      "source": [
        "hcp_euler['rh_euler'] = hcp_euler['rh_euler'].astype(int)\n",
        "hcp_euler['lh_euler'] = hcp_euler['lh_euler'].astype(int)\n",
        "ixi_euler['rh_euler'] = ixi_euler['rh_euler'].astype(int)\n",
        "ixi_euler['lh_euler'] = ixi_euler['lh_euler'].astype(int)"
      ]
    },
    {
      "cell_type": "code",
      "execution_count": 75,
      "metadata": {
        "id": "J6P9iTq0PxQh"
      },
      "outputs": [],
      "source": [
        "df_euler = pd.merge(hcp_euler, ixi_euler, on=['participant_id', 'lh_euler', 'rh_euler', 'site'], how='outer')"
      ]
    },
    {
      "cell_type": "markdown",
      "metadata": {
        "id": "S23mcO6tPxQh"
      },
      "source": [
        "Finally, we need to center the euler number for each site. The euler number is very site-specific so in order to use the same exclusion threshold across sites we need to center the site by subtracting the site median from all subjects at a site. Then we will take the square root and multiply by negative one and exclude any subjects with a square root above 10. This choice of threshold is fairly random. If possible all of your data should be visually inspected to verify that the data inclusion is not too strict or too lenient."
      ]
    },
    {
      "cell_type": "code",
      "execution_count": 76,
      "metadata": {
        "id": "-OgUwExEPxQh"
      },
      "outputs": [],
      "source": [
        "df_euler['avg_euler'] = df_euler[['lh_euler','rh_euler']].mean(axis=1)"
      ]
    },
    {
      "cell_type": "code",
      "execution_count": 77,
      "metadata": {
        "colab": {
          "base_uri": "https://localhost:8080/",
          "height": 143
        },
        "id": "ptnUX_-8PxQh",
        "outputId": "f4c4466d-ac10-4aa0-86ac-e57aba26c9fc"
      },
      "outputs": [
        {
          "output_type": "execute_result",
          "data": {
            "text/plain": [
              "      lh_euler  rh_euler  avg_euler\n",
              "site                               \n",
              "hcp      -44.0     -44.0      -43.0\n",
              "ixi      -50.0     -52.0      -51.0"
            ],
            "text/html": [
              "\n",
              "  <div id=\"df-48a54d5d-6508-49a5-a8b4-60bc21aedab6\" class=\"colab-df-container\">\n",
              "    <div>\n",
              "<style scoped>\n",
              "    .dataframe tbody tr th:only-of-type {\n",
              "        vertical-align: middle;\n",
              "    }\n",
              "\n",
              "    .dataframe tbody tr th {\n",
              "        vertical-align: top;\n",
              "    }\n",
              "\n",
              "    .dataframe thead th {\n",
              "        text-align: right;\n",
              "    }\n",
              "</style>\n",
              "<table border=\"1\" class=\"dataframe\">\n",
              "  <thead>\n",
              "    <tr style=\"text-align: right;\">\n",
              "      <th></th>\n",
              "      <th>lh_euler</th>\n",
              "      <th>rh_euler</th>\n",
              "      <th>avg_euler</th>\n",
              "    </tr>\n",
              "    <tr>\n",
              "      <th>site</th>\n",
              "      <th></th>\n",
              "      <th></th>\n",
              "      <th></th>\n",
              "    </tr>\n",
              "  </thead>\n",
              "  <tbody>\n",
              "    <tr>\n",
              "      <th>hcp</th>\n",
              "      <td>-44.0</td>\n",
              "      <td>-44.0</td>\n",
              "      <td>-43.0</td>\n",
              "    </tr>\n",
              "    <tr>\n",
              "      <th>ixi</th>\n",
              "      <td>-50.0</td>\n",
              "      <td>-52.0</td>\n",
              "      <td>-51.0</td>\n",
              "    </tr>\n",
              "  </tbody>\n",
              "</table>\n",
              "</div>\n",
              "    <div class=\"colab-df-buttons\">\n",
              "\n",
              "  <div class=\"colab-df-container\">\n",
              "    <button class=\"colab-df-convert\" onclick=\"convertToInteractive('df-48a54d5d-6508-49a5-a8b4-60bc21aedab6')\"\n",
              "            title=\"Convert this dataframe to an interactive table.\"\n",
              "            style=\"display:none;\">\n",
              "\n",
              "  <svg xmlns=\"http://www.w3.org/2000/svg\" height=\"24px\" viewBox=\"0 -960 960 960\">\n",
              "    <path d=\"M120-120v-720h720v720H120Zm60-500h600v-160H180v160Zm220 220h160v-160H400v160Zm0 220h160v-160H400v160ZM180-400h160v-160H180v160Zm440 0h160v-160H620v160ZM180-180h160v-160H180v160Zm440 0h160v-160H620v160Z\"/>\n",
              "  </svg>\n",
              "    </button>\n",
              "\n",
              "  <style>\n",
              "    .colab-df-container {\n",
              "      display:flex;\n",
              "      gap: 12px;\n",
              "    }\n",
              "\n",
              "    .colab-df-convert {\n",
              "      background-color: #E8F0FE;\n",
              "      border: none;\n",
              "      border-radius: 50%;\n",
              "      cursor: pointer;\n",
              "      display: none;\n",
              "      fill: #1967D2;\n",
              "      height: 32px;\n",
              "      padding: 0 0 0 0;\n",
              "      width: 32px;\n",
              "    }\n",
              "\n",
              "    .colab-df-convert:hover {\n",
              "      background-color: #E2EBFA;\n",
              "      box-shadow: 0px 1px 2px rgba(60, 64, 67, 0.3), 0px 1px 3px 1px rgba(60, 64, 67, 0.15);\n",
              "      fill: #174EA6;\n",
              "    }\n",
              "\n",
              "    .colab-df-buttons div {\n",
              "      margin-bottom: 4px;\n",
              "    }\n",
              "\n",
              "    [theme=dark] .colab-df-convert {\n",
              "      background-color: #3B4455;\n",
              "      fill: #D2E3FC;\n",
              "    }\n",
              "\n",
              "    [theme=dark] .colab-df-convert:hover {\n",
              "      background-color: #434B5C;\n",
              "      box-shadow: 0px 1px 3px 1px rgba(0, 0, 0, 0.15);\n",
              "      filter: drop-shadow(0px 1px 2px rgba(0, 0, 0, 0.3));\n",
              "      fill: #FFFFFF;\n",
              "    }\n",
              "  </style>\n",
              "\n",
              "    <script>\n",
              "      const buttonEl =\n",
              "        document.querySelector('#df-48a54d5d-6508-49a5-a8b4-60bc21aedab6 button.colab-df-convert');\n",
              "      buttonEl.style.display =\n",
              "        google.colab.kernel.accessAllowed ? 'block' : 'none';\n",
              "\n",
              "      async function convertToInteractive(key) {\n",
              "        const element = document.querySelector('#df-48a54d5d-6508-49a5-a8b4-60bc21aedab6');\n",
              "        const dataTable =\n",
              "          await google.colab.kernel.invokeFunction('convertToInteractive',\n",
              "                                                    [key], {});\n",
              "        if (!dataTable) return;\n",
              "\n",
              "        const docLinkHtml = 'Like what you see? Visit the ' +\n",
              "          '<a target=\"_blank\" href=https://colab.research.google.com/notebooks/data_table.ipynb>data table notebook</a>'\n",
              "          + ' to learn more about interactive tables.';\n",
              "        element.innerHTML = '';\n",
              "        dataTable['output_type'] = 'display_data';\n",
              "        await google.colab.output.renderOutput(dataTable, element);\n",
              "        const docLink = document.createElement('div');\n",
              "        docLink.innerHTML = docLinkHtml;\n",
              "        element.appendChild(docLink);\n",
              "      }\n",
              "    </script>\n",
              "  </div>\n",
              "\n",
              "\n",
              "<div id=\"df-627fac39-7380-4d58-a12b-4cd708f75d18\">\n",
              "  <button class=\"colab-df-quickchart\" onclick=\"quickchart('df-627fac39-7380-4d58-a12b-4cd708f75d18')\"\n",
              "            title=\"Suggest charts\"\n",
              "            style=\"display:none;\">\n",
              "\n",
              "<svg xmlns=\"http://www.w3.org/2000/svg\" height=\"24px\"viewBox=\"0 0 24 24\"\n",
              "     width=\"24px\">\n",
              "    <g>\n",
              "        <path d=\"M19 3H5c-1.1 0-2 .9-2 2v14c0 1.1.9 2 2 2h14c1.1 0 2-.9 2-2V5c0-1.1-.9-2-2-2zM9 17H7v-7h2v7zm4 0h-2V7h2v10zm4 0h-2v-4h2v4z\"/>\n",
              "    </g>\n",
              "</svg>\n",
              "  </button>\n",
              "\n",
              "<style>\n",
              "  .colab-df-quickchart {\n",
              "      --bg-color: #E8F0FE;\n",
              "      --fill-color: #1967D2;\n",
              "      --hover-bg-color: #E2EBFA;\n",
              "      --hover-fill-color: #174EA6;\n",
              "      --disabled-fill-color: #AAA;\n",
              "      --disabled-bg-color: #DDD;\n",
              "  }\n",
              "\n",
              "  [theme=dark] .colab-df-quickchart {\n",
              "      --bg-color: #3B4455;\n",
              "      --fill-color: #D2E3FC;\n",
              "      --hover-bg-color: #434B5C;\n",
              "      --hover-fill-color: #FFFFFF;\n",
              "      --disabled-bg-color: #3B4455;\n",
              "      --disabled-fill-color: #666;\n",
              "  }\n",
              "\n",
              "  .colab-df-quickchart {\n",
              "    background-color: var(--bg-color);\n",
              "    border: none;\n",
              "    border-radius: 50%;\n",
              "    cursor: pointer;\n",
              "    display: none;\n",
              "    fill: var(--fill-color);\n",
              "    height: 32px;\n",
              "    padding: 0;\n",
              "    width: 32px;\n",
              "  }\n",
              "\n",
              "  .colab-df-quickchart:hover {\n",
              "    background-color: var(--hover-bg-color);\n",
              "    box-shadow: 0 1px 2px rgba(60, 64, 67, 0.3), 0 1px 3px 1px rgba(60, 64, 67, 0.15);\n",
              "    fill: var(--button-hover-fill-color);\n",
              "  }\n",
              "\n",
              "  .colab-df-quickchart-complete:disabled,\n",
              "  .colab-df-quickchart-complete:disabled:hover {\n",
              "    background-color: var(--disabled-bg-color);\n",
              "    fill: var(--disabled-fill-color);\n",
              "    box-shadow: none;\n",
              "  }\n",
              "\n",
              "  .colab-df-spinner {\n",
              "    border: 2px solid var(--fill-color);\n",
              "    border-color: transparent;\n",
              "    border-bottom-color: var(--fill-color);\n",
              "    animation:\n",
              "      spin 1s steps(1) infinite;\n",
              "  }\n",
              "\n",
              "  @keyframes spin {\n",
              "    0% {\n",
              "      border-color: transparent;\n",
              "      border-bottom-color: var(--fill-color);\n",
              "      border-left-color: var(--fill-color);\n",
              "    }\n",
              "    20% {\n",
              "      border-color: transparent;\n",
              "      border-left-color: var(--fill-color);\n",
              "      border-top-color: var(--fill-color);\n",
              "    }\n",
              "    30% {\n",
              "      border-color: transparent;\n",
              "      border-left-color: var(--fill-color);\n",
              "      border-top-color: var(--fill-color);\n",
              "      border-right-color: var(--fill-color);\n",
              "    }\n",
              "    40% {\n",
              "      border-color: transparent;\n",
              "      border-right-color: var(--fill-color);\n",
              "      border-top-color: var(--fill-color);\n",
              "    }\n",
              "    60% {\n",
              "      border-color: transparent;\n",
              "      border-right-color: var(--fill-color);\n",
              "    }\n",
              "    80% {\n",
              "      border-color: transparent;\n",
              "      border-right-color: var(--fill-color);\n",
              "      border-bottom-color: var(--fill-color);\n",
              "    }\n",
              "    90% {\n",
              "      border-color: transparent;\n",
              "      border-bottom-color: var(--fill-color);\n",
              "    }\n",
              "  }\n",
              "</style>\n",
              "\n",
              "  <script>\n",
              "    async function quickchart(key) {\n",
              "      const quickchartButtonEl =\n",
              "        document.querySelector('#' + key + ' button');\n",
              "      quickchartButtonEl.disabled = true;  // To prevent multiple clicks.\n",
              "      quickchartButtonEl.classList.add('colab-df-spinner');\n",
              "      try {\n",
              "        const charts = await google.colab.kernel.invokeFunction(\n",
              "            'suggestCharts', [key], {});\n",
              "      } catch (error) {\n",
              "        console.error('Error during call to suggestCharts:', error);\n",
              "      }\n",
              "      quickchartButtonEl.classList.remove('colab-df-spinner');\n",
              "      quickchartButtonEl.classList.add('colab-df-quickchart-complete');\n",
              "    }\n",
              "    (() => {\n",
              "      let quickchartButtonEl =\n",
              "        document.querySelector('#df-627fac39-7380-4d58-a12b-4cd708f75d18 button');\n",
              "      quickchartButtonEl.style.display =\n",
              "        google.colab.kernel.accessAllowed ? 'block' : 'none';\n",
              "    })();\n",
              "  </script>\n",
              "</div>\n",
              "\n",
              "    </div>\n",
              "  </div>\n"
            ],
            "application/vnd.google.colaboratory.intrinsic+json": {
              "type": "dataframe",
              "summary": "{\n  \"name\": \"df_euler\",\n  \"rows\": 2,\n  \"fields\": [\n    {\n      \"column\": \"site\",\n      \"properties\": {\n        \"dtype\": \"string\",\n        \"num_unique_values\": 2,\n        \"samples\": [\n          \"ixi\",\n          \"hcp\"\n        ],\n        \"semantic_type\": \"\",\n        \"description\": \"\"\n      }\n    },\n    {\n      \"column\": \"lh_euler\",\n      \"properties\": {\n        \"dtype\": \"number\",\n        \"std\": 4.242640687119285,\n        \"min\": -50.0,\n        \"max\": -44.0,\n        \"num_unique_values\": 2,\n        \"samples\": [\n          -50.0,\n          -44.0\n        ],\n        \"semantic_type\": \"\",\n        \"description\": \"\"\n      }\n    },\n    {\n      \"column\": \"rh_euler\",\n      \"properties\": {\n        \"dtype\": \"number\",\n        \"std\": 5.656854249492381,\n        \"min\": -52.0,\n        \"max\": -44.0,\n        \"num_unique_values\": 2,\n        \"samples\": [\n          -52.0,\n          -44.0\n        ],\n        \"semantic_type\": \"\",\n        \"description\": \"\"\n      }\n    },\n    {\n      \"column\": \"avg_euler\",\n      \"properties\": {\n        \"dtype\": \"number\",\n        \"std\": 5.656854249492381,\n        \"min\": -51.0,\n        \"max\": -43.0,\n        \"num_unique_values\": 2,\n        \"samples\": [\n          -51.0,\n          -43.0\n        ],\n        \"semantic_type\": \"\",\n        \"description\": \"\"\n      }\n    }\n  ]\n}"
            }
          },
          "metadata": {},
          "execution_count": 77
        }
      ],
      "source": [
        "df_euler.groupby(by='site').median(numeric_only=True)"
      ]
    },
    {
      "cell_type": "code",
      "execution_count": 78,
      "metadata": {
        "id": "qeaX-9p3PxQi"
      },
      "outputs": [],
      "source": [
        "df_euler['site_median'] = df_euler['site']"
      ]
    },
    {
      "cell_type": "code",
      "execution_count": 79,
      "metadata": {
        "id": "u6DdZc0cPxQi",
        "colab": {
          "base_uri": "https://localhost:8080/"
        },
        "outputId": "28645039-599d-4114-ee19-cdb267a2479c"
      },
      "outputs": [
        {
          "output_type": "stream",
          "name": "stderr",
          "text": [
            "<ipython-input-79-0f8461b95f1f>:1: FutureWarning: Downcasting behavior in `replace` is deprecated and will be removed in a future version. To retain the old behavior, explicitly call `result.infer_objects(copy=False)`. To opt-in to the future behavior, set `pd.set_option('future.no_silent_downcasting', True)`\n",
            "  df_euler['site_median'] = df_euler['site_median'].replace({'hcp':-43,'ixi':-56})\n"
          ]
        }
      ],
      "source": [
        "df_euler['site_median'] = df_euler['site_median'].replace({'hcp':-43,'ixi':-56})"
      ]
    },
    {
      "cell_type": "code",
      "execution_count": 80,
      "metadata": {
        "id": "1rfnqsOcPxQi"
      },
      "outputs": [],
      "source": [
        "df_euler['avg_euler_centered'] = df_euler['avg_euler'] - df_euler['site_median']"
      ]
    },
    {
      "cell_type": "code",
      "execution_count": 81,
      "metadata": {
        "id": "dAaD2YxxPxQi"
      },
      "outputs": [],
      "source": [
        "df_euler['avg_euler_centered_neg'] = df_euler['avg_euler_centered']*-1"
      ]
    },
    {
      "cell_type": "code",
      "execution_count": 82,
      "metadata": {
        "id": "eNp1aHaSPxQi"
      },
      "outputs": [],
      "source": [
        "df_euler['avg_euler_centered_neg_sqrt'] = np.sqrt(np.absolute(df_euler['avg_euler_centered_neg']))"
      ]
    },
    {
      "cell_type": "code",
      "execution_count": 83,
      "metadata": {
        "id": "Nxu13Y1yPxQi"
      },
      "outputs": [],
      "source": [
        "brain = pd.merge(df_euler, brain_all, on=['participant_id'], how='inner')"
      ]
    },
    {
      "cell_type": "code",
      "execution_count": 84,
      "metadata": {
        "id": "DXdpbZe2PxQi"
      },
      "outputs": [],
      "source": [
        "brain_good = brain.query('avg_euler_centered_neg_sqrt < 10')"
      ]
    },
    {
      "cell_type": "markdown",
      "metadata": {
        "id": "0cbSkqolPxQj"
      },
      "source": [
        "**CRITICAL STEP:** If possible, data should be visually inspected to verify that the data inclusion is not too strict or too lenient. Subjects above the Euler number threshold should be manually checked to verify and justify their exclusion due to poor data quality. This is just one approach for automated QC used by the developers of the PCNtoolkit. Other approaches such as the ENIGMA QC pipeline or UK Biobank’s QC pipeline are also viable options for automated QC."
      ]
    },
    {
      "cell_type": "markdown",
      "metadata": {
        "id": "w77w8FyCPxQj"
      },
      "source": [
        "## Combine covariate & cortical thickness dataframes"
      ]
    },
    {
      "cell_type": "markdown",
      "metadata": {
        "id": "MAiIjVVvPxQj"
      },
      "source": [
        "### Step 4.\n",
        "\n",
        "The normative modeling function requires the covariate predictors and brain features to be in separate text files. However, it is important to first (inner) merge them together, using the following commands, to confirm that the same subjects are in each file and that the rows (representing subjects) align. This requires that both data frames have ‘subject_id’ as a column name. Once this is confirmed, exclude rows with NaN values and separate the brain features and covariate predictors into their own dataframes, using the commands below."
      ]
    },
    {
      "cell_type": "code",
      "execution_count": 85,
      "metadata": {
        "id": "epaCOjovPxQj"
      },
      "outputs": [],
      "source": [
        "# make sure to use how=\"inner\" so that we only include subjects that have data in both the covariate and the cortical thickness files\n",
        "all_data = pd.merge(brain_good, cov, how='inner')"
      ]
    },
    {
      "cell_type": "code",
      "execution_count": 86,
      "metadata": {
        "id": "OzHN70ywPxQj"
      },
      "outputs": [],
      "source": [
        "# Create a list of all the ROIs you want to run a normative model for (add additional names to this list if you would like to include other brain regions from the Desikan-Killian atlas)\n",
        "roi_ids = ['lh_MeanThickness_thickness',\n",
        "           'rh_MeanThickness_thickness',\n",
        "           'lh_bankssts_thickness',\n",
        "           'lh_caudalanteriorcingulate_thickness',\n",
        "           'lh_superiorfrontal_thickness',\n",
        "           'rh_superiorfrontal_thickness']"
      ]
    },
    {
      "cell_type": "code",
      "execution_count": 87,
      "metadata": {
        "id": "eEnGF6DmPxQk"
      },
      "outputs": [],
      "source": [
        "# Remove any subjects that have NaN variables in any of the columns\n",
        "all_data.dropna(subset=roi_ids, inplace=True)"
      ]
    },
    {
      "cell_type": "code",
      "execution_count": 88,
      "metadata": {
        "id": "-x6SldKHPxQk"
      },
      "outputs": [],
      "source": [
        "all_data_features = all_data[roi_ids]"
      ]
    },
    {
      "cell_type": "code",
      "execution_count": 89,
      "metadata": {
        "id": "aihok464PxQk"
      },
      "outputs": [],
      "source": [
        "all_data_covariates = all_data[['age','sex','site']]"
      ]
    },
    {
      "cell_type": "markdown",
      "metadata": {
        "id": "VdG79uF2PxQk"
      },
      "source": [
        "**CRITICAL STEP:** `roi_ids` is a variable that represents which brain areas will be modeled and can be used to select subsets of the data frame if you do not wish to run models for the whole brain."
      ]
    },
    {
      "cell_type": "markdown",
      "metadata": {
        "id": "v1BXULRkPxQk"
      },
      "source": [
        "## Add variable to model site/scanner effects"
      ]
    },
    {
      "cell_type": "markdown",
      "metadata": {
        "id": "Fq8JlwV3PxQk"
      },
      "source": [
        "### Step 5.\n",
        "\n",
        "Currently, the different sites are coded in a single column (named ‘site’) and are represented as a string data type. However, the PCNtoolkit requires binary variables. Use the pandas package as follows to address this, which has a built-in function, `pd.get_dummies`, that takes in the string ‘site’ column and dummy encodes the site variable so that there is now a column for each site and the columns contain binary variables (0=not in this site, 1=present in this site)."
      ]
    },
    {
      "cell_type": "code",
      "execution_count": 90,
      "metadata": {
        "id": "7o0VSqO-PxQk"
      },
      "outputs": [],
      "source": [
        "all_data_covariates = pd.get_dummies(all_data_covariates, columns=['site'])"
      ]
    },
    {
      "cell_type": "code",
      "execution_count": 91,
      "metadata": {
        "id": "E2yuYv0EPxQk"
      },
      "outputs": [],
      "source": [
        "all_data['Average_Thickness'] = all_data[['lh_MeanThickness_thickness','rh_MeanThickness_thickness']].mean(axis=1)"
      ]
    },
    {
      "cell_type": "markdown",
      "metadata": {
        "id": "AVF2d878PxQl"
      },
      "source": [
        "## Train/test split"
      ]
    },
    {
      "cell_type": "markdown",
      "metadata": {
        "id": "bAs2RTAHPxQl"
      },
      "source": [
        "### Step 6.\n",
        "\n",
        "In this example, we use 80% of the data for training and 20% for testing. Please carefully read the experimental design section on train/test split considerations when using your own data in this step. Using a function from scikit-learn (`train_test_split`), stratify the train/test split using the site variable to make sure that the train/test sets both contain data from all sites, using the following commands. Next, confirm that your train and test arrays are the same size (rows), using the following commands. You do not need the same size columns (subjects) in the train and test arrays, but the rows represent the covariate and responses which should be the same across train and test arrays."
      ]
    },
    {
      "cell_type": "code",
      "execution_count": 92,
      "metadata": {
        "id": "FQtMYy9WPxQl"
      },
      "outputs": [],
      "source": [
        "X_train, X_test, y_train, y_test = train_test_split(all_data_covariates, all_data_features, stratify=all_data['site'], test_size=0.2, random_state=42)"
      ]
    },
    {
      "cell_type": "markdown",
      "metadata": {
        "id": "8kcWH0eUPxQl"
      },
      "source": [
        "Verify that your train & test arrays are the same size"
      ]
    },
    {
      "cell_type": "code",
      "execution_count": 93,
      "metadata": {
        "colab": {
          "base_uri": "https://localhost:8080/"
        },
        "id": "Ln7_zLFWPxQl",
        "outputId": "9e563273-3371-4fb6-b979-41d7b017276e"
      },
      "outputs": [
        {
          "output_type": "stream",
          "name": "stdout",
          "text": [
            "Train covariate size is:  (1073, 4)\n",
            "Test covariate size is:  (269, 4)\n",
            "Train response size is:  (1073, 6)\n",
            "Test response size is:  (269, 6)\n"
          ]
        }
      ],
      "source": [
        "tr_cov_size = X_train.shape\n",
        "tr_resp_size = y_train.shape\n",
        "te_cov_size = X_test.shape\n",
        "te_resp_size = y_test.shape\n",
        "print(\"Train covariate size is: \", tr_cov_size)\n",
        "print(\"Test covariate size is: \", te_cov_size)\n",
        "print(\"Train response size is: \", tr_resp_size)\n",
        "print(\"Test response size is: \", te_resp_size)"
      ]
    },
    {
      "cell_type": "markdown",
      "metadata": {
        "id": "EELPVNVsPxQl"
      },
      "source": [
        "**CRITICAL STEP:** The model would not learn the site effects if all the data from one site was only in the test set. Therefore, we stratify the train/test split using the site variable."
      ]
    },
    {
      "cell_type": "markdown",
      "metadata": {
        "id": "O7umzpdIPxQl"
      },
      "source": [
        "### Step 7.\n",
        "\n",
        "When the data were split into train and test sets, the row index was not reset. This means that the row index in the train and test data frames still correspond to the full data frame (before splitting the data occurred). The test set row index informs which subjects belong to which site, and this information is needed to evaluate per site performance metrics. Resetting the row index of the train/test data frames fixes this issue. Then extract the site row indices to a list (one list per site) and create a list called `site_names` that is used to decide which sites to evaluate model performance for, as follows:"
      ]
    },
    {
      "cell_type": "code",
      "execution_count": 94,
      "metadata": {
        "id": "Fb7EC6vQPxQm"
      },
      "outputs": [],
      "source": [
        "X_train.reset_index(drop=True, inplace=True)\n",
        "X_test.reset_index(drop=True, inplace=True)\n",
        "y_train.reset_index(drop=True, inplace=True)\n",
        "y_test.reset_index(drop=True, inplace=True)"
      ]
    },
    {
      "cell_type": "code",
      "execution_count": 95,
      "metadata": {
        "id": "pVFGtZL6PxQm"
      },
      "outputs": [],
      "source": [
        "# Get indices of all the subejcts in each site so that we can evaluate the test set metrics per site\n",
        "hcp_idx = X_test.index[X_test['site_hcp'] == 1].to_list()\n",
        "ixi_idx = X_test.index[X_test['site_ixi'] == 1].to_list()"
      ]
    },
    {
      "cell_type": "code",
      "execution_count": 96,
      "metadata": {
        "id": "xJApegDXPxQm"
      },
      "outputs": [],
      "source": [
        "# Save the site indices into a single list\n",
        "sites = [hcp_idx, ixi_idx]"
      ]
    },
    {
      "cell_type": "code",
      "execution_count": 97,
      "metadata": {
        "id": "3_pW9zY4PxQm"
      },
      "outputs": [],
      "source": [
        "# Create a list with sites names to use in evaluating per-site metrics\n",
        "site_names = ['hcp', 'ixi']"
      ]
    },
    {
      "cell_type": "markdown",
      "metadata": {
        "id": "ZfF277S4PxQm"
      },
      "source": [
        "## Setup output directories"
      ]
    },
    {
      "cell_type": "markdown",
      "metadata": {
        "id": "xYWrxYgSPxQm"
      },
      "source": [
        "## Step 8.\n",
        "\n",
        "Save each brain region to its own text file (organized in separate directories) using the following commands, because for each response variable, Y (e.g., brain region) we fit a separate normative model."
      ]
    },
    {
      "cell_type": "code",
      "execution_count": 98,
      "metadata": {
        "id": "GgGd1hryPxQm"
      },
      "outputs": [],
      "source": [
        "for c in y_train.columns:\n",
        "    y_train[c].to_csv('resp_tr_' + c + '.txt', header=False, index=False)"
      ]
    },
    {
      "cell_type": "code",
      "execution_count": 99,
      "metadata": {
        "id": "ejSNPBANPxQm",
        "colab": {
          "base_uri": "https://localhost:8080/"
        },
        "outputId": "ac4649f7-4d2d-4b90-9a58-ad06c914d3a6"
      },
      "outputs": [
        {
          "output_type": "stream",
          "name": "stderr",
          "text": [
            "<ipython-input-99-2d08bc3be1b5>:1: FutureWarning: Downcasting behavior in `replace` is deprecated and will be removed in a future version. To retain the old behavior, explicitly call `result.infer_objects(copy=False)`. To opt-in to the future behavior, set `pd.set_option('future.no_silent_downcasting', True)`\n",
            "  X_train = X_train.replace({True: 1, False: 0})  # Replace True/False directly in X_train\n"
          ]
        }
      ],
      "source": [
        "X_train = X_train.replace({True: 1, False: 0})  # Replace True/False directly in X_train\n",
        "X_train.to_csv('cov_tr.txt', sep='\\t', header=False, index=False, float_format='%.0f')"
      ]
    },
    {
      "cell_type": "code",
      "execution_count": 100,
      "metadata": {
        "id": "ddJsDnrYPxQn"
      },
      "outputs": [],
      "source": [
        "y_train.to_csv('resp_tr.txt', sep='\\t', header=False, index=False, float_format='%.0f')"
      ]
    },
    {
      "cell_type": "code",
      "execution_count": 101,
      "metadata": {
        "id": "w0QsVwPoPxQn"
      },
      "outputs": [],
      "source": [
        "for c in y_test.columns:\n",
        "    y_test[c].to_csv('resp_te_' + c + '.txt', header=False, index=False)"
      ]
    },
    {
      "cell_type": "code",
      "execution_count": 102,
      "metadata": {
        "id": "cv43VtXWPxQn",
        "colab": {
          "base_uri": "https://localhost:8080/"
        },
        "outputId": "85979459-1189-4f72-adb5-9f0ef6f895d9"
      },
      "outputs": [
        {
          "output_type": "stream",
          "name": "stderr",
          "text": [
            "<ipython-input-102-e6a32df63116>:1: FutureWarning: Downcasting behavior in `replace` is deprecated and will be removed in a future version. To retain the old behavior, explicitly call `result.infer_objects(copy=False)`. To opt-in to the future behavior, set `pd.set_option('future.no_silent_downcasting', True)`\n",
            "  X_test = X_test.replace({True: 1, False: 0})  # Replace True/False directly in X_test\n"
          ]
        }
      ],
      "source": [
        "X_test = X_test.replace({True: 1, False: 0})  # Replace True/False directly in X_test\n",
        "X_test.to_csv('cov_te.txt', sep='\\t', header=False, index=False, float_format='%.0f')"
      ]
    },
    {
      "cell_type": "code",
      "execution_count": 103,
      "metadata": {
        "id": "5_6DoEFbPxQn"
      },
      "outputs": [],
      "source": [
        "y_test.to_csv('resp_te.txt', sep='\\t', header=False, index=False, float_format='%.0f')"
      ]
    },
    {
      "cell_type": "code",
      "execution_count": 104,
      "metadata": {
        "id": "Mnu0sJrfPxQn"
      },
      "outputs": [],
      "source": [
        "! if [[ ! -e ROI_models/ ]]; then mkdir ROI_models; fi"
      ]
    },
    {
      "cell_type": "code",
      "execution_count": 105,
      "metadata": {
        "id": "Pl-fYNZsPxQn"
      },
      "outputs": [],
      "source": [
        "# Note: please change the path in the following to wdir (depending on whether you are running on colab or not)\n",
        "! for i in `cat /content/PCNtoolkit-demo/data/roi_dir_names`; do if [[ -e resp_tr_${i}.txt ]]; then cd ROI_models; mkdir ${i}; cd ../; cp resp_tr_${i}.txt ROI_models/${i}/resp_tr.txt; cp resp_te_${i}.txt ROI_models/${i}/resp_te.txt; cp cov_tr.txt ROI_models/${i}/cov_tr.txt; cp cov_te.txt ROI_models/${i}/cov_te.txt; fi; done"
      ]
    },
    {
      "cell_type": "code",
      "execution_count": 106,
      "metadata": {
        "id": "csrMx397PxQn"
      },
      "outputs": [],
      "source": [
        "# clean up files\n",
        "#! rm resp_*.txt"
      ]
    },
    {
      "cell_type": "code",
      "execution_count": 107,
      "metadata": {
        "id": "_yhGxsIzPxQn"
      },
      "outputs": [],
      "source": [
        "# clean up files\n",
        "#! rm cov_t*.txt"
      ]
    },
    {
      "cell_type": "code",
      "source": [
        "!pwd"
      ],
      "metadata": {
        "id": "qQ-YEzLUDWRC",
        "outputId": "ae63ba66-80f2-4154-ae59-0ed17f056596",
        "colab": {
          "base_uri": "https://localhost:8080/"
        }
      },
      "execution_count": 108,
      "outputs": [
        {
          "output_type": "stream",
          "name": "stdout",
          "text": [
            "/content/PCNtoolkit-demo/tutorials/BLR_protocol/ROI_models/rh_superiorfrontal_thickness\n"
          ]
        }
      ]
    },
    {
      "cell_type": "markdown",
      "source": [],
      "metadata": {
        "id": "H1aqW76mDV88"
      }
    },
    {
      "cell_type": "markdown",
      "metadata": {
        "id": "ZrOvCLK5PxQn"
      },
      "source": [
        "# Algorithm & Modeling"
      ]
    },
    {
      "cell_type": "markdown",
      "metadata": {
        "id": "i7v4JoP2PxQn"
      },
      "source": [
        "## Basis expansion using B-Splines"
      ]
    },
    {
      "cell_type": "markdown",
      "metadata": {
        "id": "dop9WUXnPxQo"
      },
      "source": [
        "### Step 9.\n",
        "\n",
        "Now, set up a B-spline basis set that allows us to perform nonlinear regression using a linear model, using the following commands. This basis is deliberately chosen to not to be too flexible so that it can only model relatively slowly varying trends. To increase the flexibility of the model you can change the parameterization (e.g., by adding knot points to the B-spline basis or increasing the order of the interpolating polynomial). Note that in the neuroimaging literature, it is more common to use a polynomial basis expansion for this. Piecewise polynomials like B-splines are superior to polynomial basis expansions because they do not introduce a global curvature. For further details on the use of B-splines see [Fraza et al](https://pubmed.ncbi.nlm.nih.gov/34798518/)."
      ]
    },
    {
      "cell_type": "code",
      "execution_count": 109,
      "metadata": {
        "colab": {
          "base_uri": "https://localhost:8080/"
        },
        "id": "xZni-v2wPxQo",
        "outputId": "51a05a1e-04ea-4043-c49c-c52218941c64"
      },
      "outputs": [
        {
          "output_type": "stream",
          "name": "stdout",
          "text": [
            "Creating basis expansion for ROI: lh_MeanThickness_thickness\n",
            "Creating basis expansion for ROI: rh_MeanThickness_thickness\n",
            "Creating basis expansion for ROI: lh_bankssts_thickness\n",
            "Creating basis expansion for ROI: lh_caudalanteriorcingulate_thickness\n",
            "Creating basis expansion for ROI: lh_superiorfrontal_thickness\n",
            "Creating basis expansion for ROI: rh_superiorfrontal_thickness\n",
            "Creating basis expansion for ROI: lh_MeanThickness_thickness\n",
            "Creating basis expansion for ROI: rh_MeanThickness_thickness\n",
            "Creating basis expansion for ROI: lh_bankssts_thickness\n",
            "Creating basis expansion for ROI: lh_caudalanteriorcingulate_thickness\n",
            "Creating basis expansion for ROI: lh_superiorfrontal_thickness\n",
            "Creating basis expansion for ROI: rh_superiorfrontal_thickness\n"
          ]
        }
      ],
      "source": [
        "# set this path to wherever your ROI_models folder is located (where you copied all of the covariate & response text files to in Step 4)\n",
        "data_dir = '/content/PCNtoolkit-demo/tutorials/BLR_protocol/ROI_models'\n",
        "\n",
        "# Create a cubic B-spline basis (used for regression)\n",
        "xmin = 10#16 # xmin & xmax are the boundaries for ages of participants in the dataset\n",
        "xmax = 95#90\n",
        "B = create_bspline_basis(xmin, xmax)\n",
        "# create the basis expansion for the covariates for each of the\n",
        "for roi in roi_ids:\n",
        "    print('Creating basis expansion for ROI:', roi)\n",
        "    roi_dir = os.path.join(data_dir, roi)\n",
        "    os.chdir(roi_dir)\n",
        "    # create output dir\n",
        "    os.makedirs(os.path.join(roi_dir,'blr'), exist_ok=True)\n",
        "    # load train & test covariate data matrices\n",
        "    X_tr = np.loadtxt(os.path.join(roi_dir, 'cov_tr.txt'))\n",
        "    X_te = np.loadtxt(os.path.join(roi_dir, 'cov_te.txt'))\n",
        "    # add intercept column\n",
        "    X_tr = np.concatenate((X_tr, np.ones((X_tr.shape[0],1))), axis=1)\n",
        "    X_te = np.concatenate((X_te, np.ones((X_te.shape[0],1))), axis=1)\n",
        "    np.savetxt(os.path.join(roi_dir, 'cov_int_tr.txt'), X_tr)\n",
        "    np.savetxt(os.path.join(roi_dir, 'cov_int_te.txt'), X_te)\n",
        "\n",
        "    # create Bspline basis set\n",
        "    Phi = np.array([B(i) for i in X_tr[:,0]])\n",
        "    Phis = np.array([B(i) for i in X_te[:,0]])\n",
        "    X_tr = np.concatenate((X_tr, Phi), axis=1)\n",
        "    X_te = np.concatenate((X_te, Phis), axis=1)\n",
        "    np.savetxt(os.path.join(roi_dir, 'cov_bspline_tr.txt'), X_tr)\n",
        "    np.savetxt(os.path.join(roi_dir, 'cov_bspline_te.txt'), X_te)\n",
        "xmin = 10#16 # xmin & xmax are the boundaries for ages of participants in the dataset\n",
        "xmax = 95#90\n",
        "B = create_bspline_basis(xmin, xmax)\n",
        "# create the basis expansion for the covariates for each of the\n",
        "for roi in roi_ids:\n",
        "    print('Creating basis expansion for ROI:', roi)\n",
        "    roi_dir = os.path.join(data_dir, roi)\n",
        "    os.chdir(roi_dir)\n",
        "    # create output dir\n",
        "    os.makedirs(os.path.join(roi_dir,'blr'), exist_ok=True)\n",
        "    # load train & test covariate data matrices\n",
        "    X_tr = np.loadtxt(os.path.join(roi_dir, 'cov_tr.txt'))\n",
        "    X_te = np.loadtxt(os.path.join(roi_dir, 'cov_te.txt'))\n",
        "    # add intercept column\n",
        "    X_tr = np.concatenate((X_tr, np.ones((X_tr.shape[0],1))), axis=1)\n",
        "    X_te = np.concatenate((X_te, np.ones((X_te.shape[0],1))), axis=1)\n",
        "    np.savetxt(os.path.join(roi_dir, 'cov_int_tr.txt'), X_tr)\n",
        "    np.savetxt(os.path.join(roi_dir, 'cov_int_te.txt'), X_te)\n",
        "\n",
        "    # create Bspline basis set\n",
        "    Phi = np.array([B(i) for i in X_tr[:,0]])\n",
        "    Phis = np.array([B(i) for i in X_te[:,0]])\n",
        "    X_tr = np.concatenate((X_tr, Phi), axis=1)\n",
        "    X_te = np.concatenate((X_te, Phis), axis=1)\n",
        "    np.savetxt(os.path.join(roi_dir, 'cov_bspline_tr.txt'), X_tr)\n",
        "    np.savetxt(os.path.join(roi_dir, 'cov_bspline_te.txt'), X_te)"
      ]
    },
    {
      "cell_type": "markdown",
      "metadata": {
        "id": "NbFaO7pWPxQo"
      },
      "source": [
        "## Estimate normative model"
      ]
    },
    {
      "cell_type": "markdown",
      "metadata": {
        "id": "KdZrf78vPxQo"
      },
      "source": [
        "### Step 10.\n",
        "\n",
        "Set up a variable (`data_dir`) that specifies the path to the ROI directories that were created in Step 7. Initiate two empty pandas data frames where the evaluation metrics are the column names, as follows; one will be used for overall test set evaluation (`blr_metrics`) and one will be used for site-specific test set evaluation (`blr_site_metrics`). After the normative model has been estimated, these data frames will be saved as individual csv files."
      ]
    },
    {
      "cell_type": "code",
      "execution_count": 110,
      "metadata": {
        "id": "EJrly1KQPxQo"
      },
      "outputs": [],
      "source": [
        "# Create pandas dataframes with header names to save out the overall and per-site model evaluation metrics\n",
        "blr_metrics = pd.DataFrame(columns = ['ROI', 'MSLL', 'EV', 'SMSE', 'RMSE', 'Rho'])\n",
        "blr_site_metrics = pd.DataFrame(columns = ['ROI', 'site', 'MSLL', 'EV', 'SMSE', 'RMSE', 'Rho'])"
      ]
    },
    {
      "cell_type": "markdown",
      "metadata": {
        "id": "tGPLrct5PxQo"
      },
      "source": [
        "### Step 11.\n",
        "\n",
        "Estimate the normative models using a for loop to iterate over brain regions. An important consideration is whether to re-scale or standardize the covariates or responses. Whilst this generally only has a minor effect on the final model accuracy, it has implications for the interpretation of models and how they are configured. If the covariates and responses are both standardized (`standardize = True`), the model will return standardized coefficients. If (as in this case) the response variables are not standardized (`standardized = False`), then the scaling both covariates and responses will be reflected in the estimated coefficients. Also, under the linear modeling approach employed here, if the coefficients are unstandardized and do not have a zero mean, it is necessary to add an intercept column to the design matrix (this is done above in step 9 (B-spline)). The estimate function uses a few specific arguments that are worthy of commenting on:\n",
        "\n",
        "    - alg = 'blr': specifies we should use Bayesian Linear Regression.  \n",
        "    - optimizer = 'powell': use Powell's derivative-free optimization method (faster in this case than L-BFGS)\n",
        "    - savemodel = False: do not write out the final estimated model to disk\n",
        "    - saveoutput = False: return the outputs directly rather than writing them to disk\n",
        "    - standardize = False: Do not standardize the covariates or response variables"
      ]
    },
    {
      "cell_type": "markdown",
      "metadata": {
        "id": "OL-Y-1WVPxQo"
      },
      "source": [
        "**CRITICAL STEP:** This code fragment will loop through each region of interest in the `roi_ids` list (created in step 4) using Bayesian Linear Regression and evaluate the model on the independent test set. In principle, we could estimate the normative models on the whole data matrix at once (e.g., with the response variables stored in a `n_subjects` by `n_brain_measures` NumPy array or a text file instead of saved out into separate directories). However, running the models iteratively gives some extra flexibility in that it does not require that the included subjects are the same for each of the brain measures."
      ]
    },
    {
      "cell_type": "code",
      "execution_count": 111,
      "metadata": {
        "colab": {
          "base_uri": "https://localhost:8080/",
          "height": 1000
        },
        "id": "eFipXY_MPxQp",
        "outputId": "bb72e5e6-cfea-4a29-a083-1d6d61d7c731"
      },
      "outputs": [
        {
          "output_type": "stream",
          "name": "stdout",
          "text": [
            "Running ROI: lh_MeanThickness_thickness\n",
            "inscaler: None\n",
            "outscaler: None\n",
            "Processing data in /content/PCNtoolkit-demo/tutorials/BLR_protocol/ROI_models/lh_MeanThickness_thickness/resp_tr.txt\n",
            "Estimating model  1 of 1\n",
            "configuring BLR ( order 1 )\n",
            "Using default hyperparameters\n"
          ]
        },
        {
          "output_type": "stream",
          "name": "stderr",
          "text": [
            "/usr/local/lib/python3.11/dist-packages/pcntoolkit/model/bayesreg.py:196: LinAlgWarning: Ill-conditioned matrix (rcond=1.26581e-18): result may not be accurate.\n",
            "  invAXt = linalg.solve(self.A, X.T, check_finite=False)\n"
          ]
        },
        {
          "output_type": "stream",
          "name": "stdout",
          "text": [
            "Optimization terminated successfully.\n",
            "         Current function value: -1162.634651\n",
            "         Iterations: 2\n",
            "         Function evaluations: 43\n",
            "Saving model meta-data...\n",
            "Evaluating the model ...\n",
            "Running ROI: rh_MeanThickness_thickness\n",
            "inscaler: None\n",
            "outscaler: None\n",
            "Processing data in /content/PCNtoolkit-demo/tutorials/BLR_protocol/ROI_models/rh_MeanThickness_thickness/resp_tr.txt\n",
            "Estimating model  1 of 1\n",
            "configuring BLR ( order 1 )\n",
            "Using default hyperparameters\n"
          ]
        },
        {
          "output_type": "stream",
          "name": "stderr",
          "text": [
            "/usr/local/lib/python3.11/dist-packages/pcntoolkit/model/bayesreg.py:196: LinAlgWarning: Ill-conditioned matrix (rcond=8.41159e-19): result may not be accurate.\n",
            "  invAXt = linalg.solve(self.A, X.T, check_finite=False)\n"
          ]
        },
        {
          "output_type": "stream",
          "name": "stdout",
          "text": [
            "Optimization terminated successfully.\n",
            "         Current function value: -1187.642023\n",
            "         Iterations: 2\n",
            "         Function evaluations: 43\n",
            "Saving model meta-data...\n",
            "Evaluating the model ...\n",
            "Running ROI: lh_bankssts_thickness\n",
            "inscaler: None\n",
            "outscaler: None\n",
            "Processing data in /content/PCNtoolkit-demo/tutorials/BLR_protocol/ROI_models/lh_bankssts_thickness/resp_tr.txt\n",
            "Estimating model  1 of 1\n",
            "configuring BLR ( order 1 )\n",
            "Using default hyperparameters\n",
            "Optimization terminated successfully.\n",
            "         Current function value: -578.148111\n",
            "         Iterations: 2\n",
            "         Function evaluations: 41\n",
            "Saving model meta-data...\n",
            "Evaluating the model ...\n",
            "Running ROI: lh_caudalanteriorcingulate_thickness\n",
            "inscaler: None\n",
            "outscaler: None\n",
            "Processing data in /content/PCNtoolkit-demo/tutorials/BLR_protocol/ROI_models/lh_caudalanteriorcingulate_thickness/resp_tr.txt\n",
            "Estimating model  1 of 1\n",
            "configuring BLR ( order 1 )\n",
            "Using default hyperparameters\n",
            "Optimization terminated successfully.\n",
            "         Current function value: -234.728419\n",
            "         Iterations: 3\n",
            "         Function evaluations: 72\n",
            "Saving model meta-data...\n",
            "Evaluating the model ...\n",
            "Running ROI: lh_superiorfrontal_thickness\n",
            "inscaler: None\n",
            "outscaler: None\n",
            "Processing data in /content/PCNtoolkit-demo/tutorials/BLR_protocol/ROI_models/lh_superiorfrontal_thickness/resp_tr.txt\n",
            "Estimating model  1 of 1\n",
            "configuring BLR ( order 1 )\n",
            "Using default hyperparameters\n",
            "Optimization terminated successfully.\n",
            "         Current function value: -716.752785\n",
            "         Iterations: 3\n",
            "         Function evaluations: 83\n",
            "Saving model meta-data...\n",
            "Evaluating the model ...\n",
            "Running ROI: rh_superiorfrontal_thickness\n",
            "inscaler: None\n",
            "outscaler: None\n",
            "Processing data in /content/PCNtoolkit-demo/tutorials/BLR_protocol/ROI_models/rh_superiorfrontal_thickness/resp_tr.txt\n",
            "Estimating model  1 of 6\n",
            "configuring BLR ( order 1 )\n",
            "Using default hyperparameters\n",
            "Optimization terminated successfully.\n",
            "         Current function value: 271.669814\n",
            "         Iterations: 2\n",
            "         Function evaluations: 40\n",
            "Estimating model  2 of 6\n",
            "configuring BLR ( order 1 )\n",
            "Using default hyperparameters\n",
            "Optimization terminated successfully.\n",
            "         Current function value: 125.714563\n",
            "         Iterations: 2\n",
            "         Function evaluations: 42\n",
            "Estimating model  3 of 6\n",
            "configuring BLR ( order 1 )\n",
            "Using default hyperparameters\n",
            "Optimization terminated successfully.\n",
            "         Current function value: 350.723542\n",
            "         Iterations: 2\n",
            "         Function evaluations: 41\n",
            "Estimating model  4 of 6\n",
            "configuring BLR ( order 1 )\n",
            "Using default hyperparameters\n",
            "Optimization terminated successfully.\n",
            "         Current function value: 476.407928\n",
            "         Iterations: 2\n",
            "         Function evaluations: 41\n",
            "Estimating model  5 of 6\n",
            "configuring BLR ( order 1 )\n",
            "Using default hyperparameters\n"
          ]
        },
        {
          "output_type": "stream",
          "name": "stderr",
          "text": [
            "/usr/local/lib/python3.11/dist-packages/pcntoolkit/model/bayesreg.py:196: LinAlgWarning: Ill-conditioned matrix (rcond=1.74747e-18): result may not be accurate.\n",
            "  invAXt = linalg.solve(self.A, X.T, check_finite=False)\n"
          ]
        },
        {
          "output_type": "stream",
          "name": "stdout",
          "text": [
            "Optimization terminated successfully.\n",
            "         Current function value: -924.962790\n",
            "         Iterations: 2\n",
            "         Function evaluations: 45\n",
            "Estimating model  6 of 6\n",
            "configuring BLR ( order 1 )\n",
            "Using default hyperparameters\n",
            "Optimization terminated successfully.\n",
            "         Current function value: -751.953085\n",
            "         Iterations: 3\n",
            "         Function evaluations: 87\n",
            "Saving model meta-data...\n",
            "Evaluating the model ...\n"
          ]
        },
        {
          "output_type": "stream",
          "name": "stderr",
          "text": [
            "/usr/local/lib/python3.11/dist-packages/pcntoolkit/util/utils.py:246: RuntimeWarning: invalid value encountered in divide\n",
            "  An = Am / np.sqrt(np.sum(Am**2, axis=0))\n"
          ]
        },
        {
          "output_type": "error",
          "ename": "ValueError",
          "evalue": "operands could not be broadcast together with shapes (223,5,6) (223,5) ",
          "traceback": [
            "\u001b[0;31m---------------------------------------------------------------------------\u001b[0m",
            "\u001b[0;31mValueError\u001b[0m                                Traceback (most recent call last)",
            "\u001b[0;32m<ipython-input-111-e0b3cfa7dc77>\u001b[0m in \u001b[0;36m<cell line: 0>\u001b[0;34m()\u001b[0m\n\u001b[1;32m     42\u001b[0m         \u001b[0myhat_var_te_site\u001b[0m \u001b[0;34m=\u001b[0m \u001b[0mnp\u001b[0m\u001b[0;34m.\u001b[0m\u001b[0marray\u001b[0m\u001b[0;34m(\u001b[0m\u001b[0;34m[\u001b[0m\u001b[0;34m[\u001b[0m\u001b[0mnp\u001b[0m\u001b[0;34m.\u001b[0m\u001b[0mvar\u001b[0m\u001b[0;34m(\u001b[0m\u001b[0myhat_te\u001b[0m\u001b[0;34m[\u001b[0m\u001b[0msite\u001b[0m\u001b[0;34m]\u001b[0m\u001b[0;34m)\u001b[0m\u001b[0;34m]\u001b[0m\u001b[0;34m]\u001b[0m\u001b[0;34m)\u001b[0m\u001b[0;34m\u001b[0m\u001b[0;34m\u001b[0m\u001b[0m\n\u001b[1;32m     43\u001b[0m \u001b[0;34m\u001b[0m\u001b[0m\n\u001b[0;32m---> 44\u001b[0;31m         \u001b[0mmetrics_te_site\u001b[0m \u001b[0;34m=\u001b[0m \u001b[0mevaluate\u001b[0m\u001b[0;34m(\u001b[0m\u001b[0my_te\u001b[0m\u001b[0;34m[\u001b[0m\u001b[0msite\u001b[0m\u001b[0;34m]\u001b[0m\u001b[0;34m,\u001b[0m \u001b[0myhat_te\u001b[0m\u001b[0;34m[\u001b[0m\u001b[0msite\u001b[0m\u001b[0;34m]\u001b[0m\u001b[0;34m,\u001b[0m \u001b[0ms2_te\u001b[0m\u001b[0;34m[\u001b[0m\u001b[0msite\u001b[0m\u001b[0;34m]\u001b[0m\u001b[0;34m,\u001b[0m \u001b[0my_mean_te_site\u001b[0m\u001b[0;34m,\u001b[0m \u001b[0my_var_te_site\u001b[0m\u001b[0;34m)\u001b[0m\u001b[0;34m\u001b[0m\u001b[0;34m\u001b[0m\u001b[0m\n\u001b[0m\u001b[1;32m     45\u001b[0m \u001b[0;34m\u001b[0m\u001b[0m\n\u001b[1;32m     46\u001b[0m         \u001b[0msite_name\u001b[0m \u001b[0;34m=\u001b[0m \u001b[0msite_names\u001b[0m\u001b[0;34m[\u001b[0m\u001b[0mnum\u001b[0m\u001b[0;34m]\u001b[0m\u001b[0;34m\u001b[0m\u001b[0;34m\u001b[0m\u001b[0m\n",
            "\u001b[0;32m/usr/local/lib/python3.11/dist-packages/pcntoolkit/normative.py\u001b[0m in \u001b[0;36mevaluate\u001b[0;34m(Y, Yhat, S2, mY, sY, nlZ, nm, Xz_tr, alg, metrics)\u001b[0m\n\u001b[1;32m    217\u001b[0m         \u001b[0mRho\u001b[0m \u001b[0;34m=\u001b[0m \u001b[0mnp\u001b[0m\u001b[0;34m.\u001b[0m\u001b[0mzeros\u001b[0m\u001b[0;34m(\u001b[0m\u001b[0mfeature_num\u001b[0m\u001b[0;34m)\u001b[0m\u001b[0;34m\u001b[0m\u001b[0;34m\u001b[0m\u001b[0m\n\u001b[1;32m    218\u001b[0m         \u001b[0mpRho\u001b[0m \u001b[0;34m=\u001b[0m \u001b[0mnp\u001b[0m\u001b[0;34m.\u001b[0m\u001b[0mones\u001b[0m\u001b[0;34m(\u001b[0m\u001b[0mfeature_num\u001b[0m\u001b[0;34m)\u001b[0m\u001b[0;34m\u001b[0m\u001b[0;34m\u001b[0m\u001b[0m\n\u001b[0;32m--> 219\u001b[0;31m         \u001b[0mRho\u001b[0m\u001b[0;34m[\u001b[0m\u001b[0mnz\u001b[0m\u001b[0;34m]\u001b[0m\u001b[0;34m,\u001b[0m \u001b[0mpRho\u001b[0m\u001b[0;34m[\u001b[0m\u001b[0mnz\u001b[0m\u001b[0;34m]\u001b[0m \u001b[0;34m=\u001b[0m \u001b[0mcompute_pearsonr\u001b[0m\u001b[0;34m(\u001b[0m\u001b[0mY\u001b[0m\u001b[0;34m[\u001b[0m\u001b[0;34m:\u001b[0m\u001b[0;34m,\u001b[0m \u001b[0mnz\u001b[0m\u001b[0;34m]\u001b[0m\u001b[0;34m,\u001b[0m \u001b[0mYhat\u001b[0m\u001b[0;34m[\u001b[0m\u001b[0;34m:\u001b[0m\u001b[0;34m,\u001b[0m \u001b[0mnz\u001b[0m\u001b[0;34m]\u001b[0m\u001b[0;34m)\u001b[0m\u001b[0;34m\u001b[0m\u001b[0;34m\u001b[0m\u001b[0m\n\u001b[0m\u001b[1;32m    220\u001b[0m         \u001b[0mresults\u001b[0m\u001b[0;34m[\u001b[0m\u001b[0;34m'Rho'\u001b[0m\u001b[0;34m]\u001b[0m \u001b[0;34m=\u001b[0m \u001b[0mRho\u001b[0m\u001b[0;34m\u001b[0m\u001b[0;34m\u001b[0m\u001b[0m\n\u001b[1;32m    221\u001b[0m         \u001b[0mresults\u001b[0m\u001b[0;34m[\u001b[0m\u001b[0;34m'pRho'\u001b[0m\u001b[0;34m]\u001b[0m \u001b[0;34m=\u001b[0m \u001b[0mpRho\u001b[0m\u001b[0;34m\u001b[0m\u001b[0;34m\u001b[0m\u001b[0m\n",
            "\u001b[0;32m/usr/local/lib/python3.11/dist-packages/pcntoolkit/util/utils.py\u001b[0m in \u001b[0;36mcompute_pearsonr\u001b[0;34m(A, B)\u001b[0m\n\u001b[1;32m    248\u001b[0m     \u001b[0;32mdel\u001b[0m \u001b[0;34m(\u001b[0m\u001b[0mAm\u001b[0m\u001b[0;34m,\u001b[0m \u001b[0mBm\u001b[0m\u001b[0;34m)\u001b[0m\u001b[0;34m\u001b[0m\u001b[0;34m\u001b[0m\u001b[0m\n\u001b[1;32m    249\u001b[0m \u001b[0;34m\u001b[0m\u001b[0m\n\u001b[0;32m--> 250\u001b[0;31m     \u001b[0mRho\u001b[0m \u001b[0;34m=\u001b[0m \u001b[0mnp\u001b[0m\u001b[0;34m.\u001b[0m\u001b[0msum\u001b[0m\u001b[0;34m(\u001b[0m\u001b[0mAn\u001b[0m \u001b[0;34m*\u001b[0m \u001b[0mBn\u001b[0m\u001b[0;34m,\u001b[0m \u001b[0maxis\u001b[0m\u001b[0;34m=\u001b[0m\u001b[0;36m0\u001b[0m\u001b[0;34m)\u001b[0m\u001b[0;34m\u001b[0m\u001b[0;34m\u001b[0m\u001b[0m\n\u001b[0m\u001b[1;32m    251\u001b[0m     \u001b[0;32mdel\u001b[0m \u001b[0;34m(\u001b[0m\u001b[0mAn\u001b[0m\u001b[0;34m,\u001b[0m \u001b[0mBn\u001b[0m\u001b[0;34m)\u001b[0m\u001b[0;34m\u001b[0m\u001b[0;34m\u001b[0m\u001b[0m\n\u001b[1;32m    252\u001b[0m \u001b[0;34m\u001b[0m\u001b[0m\n",
            "\u001b[0;31mValueError\u001b[0m: operands could not be broadcast together with shapes (223,5,6) (223,5) "
          ]
        }
      ],
      "source": [
        "# Loop through ROIs\n",
        "for roi in roi_ids:\n",
        "    print('Running ROI:', roi)\n",
        "    roi_dir = os.path.join(data_dir, roi)\n",
        "    os.chdir(roi_dir)\n",
        "\n",
        "    # configure the covariates to use. Change *_bspline_* to *_int_* to\n",
        "    cov_file_tr = os.path.join(roi_dir, 'cov_bspline_tr.txt')\n",
        "    cov_file_te = os.path.join(roi_dir, 'cov_bspline_te.txt')\n",
        "\n",
        "    # load train & test response files\n",
        "    resp_file_tr = os.path.join(roi_dir, 'resp_tr.txt')\n",
        "    resp_file_te = os.path.join(roi_dir, 'resp_te.txt')\n",
        "\n",
        "    # run a basic model\n",
        "    yhat_te, s2_te, nm, Z, metrics_te = estimate(cov_file_tr,\n",
        "                                                 resp_file_tr,\n",
        "                                                 testresp=resp_file_te,\n",
        "                                                 testcov=cov_file_te,\n",
        "                                                 alg = 'blr',\n",
        "                                                 optimizer = 'powell',\n",
        "                                                 savemodel = True,\n",
        "                                                 saveoutput = False,\n",
        "                                                 standardize = False)\n",
        "    # save metrics\n",
        "    blr_metrics.loc[len(blr_metrics)] = [roi, metrics_te['MSLL'][0], metrics_te['EXPV'][0], metrics_te['SMSE'][0], metrics_te['RMSE'][0], metrics_te['Rho'][0]]\n",
        "\n",
        "    # Compute metrics per site in test set, save to pandas df\n",
        "    # load true test data\n",
        "    X_te = np.loadtxt(cov_file_te)\n",
        "    y_te = np.loadtxt(resp_file_te)\n",
        "    y_te = y_te[:, np.newaxis] # make sure it is a 2-d array\n",
        "\n",
        "    # load training data (required to compute the MSLL)\n",
        "    y_tr = np.loadtxt(resp_file_tr)\n",
        "    y_tr = y_tr[:, np.newaxis]\n",
        "\n",
        "    for num, site in enumerate(sites):\n",
        "        y_mean_te_site = np.array([[np.mean(y_te[site])]])\n",
        "        y_var_te_site = np.array([[np.var(y_te[site])]])\n",
        "        yhat_mean_te_site = np.array([[np.mean(yhat_te[site])]])\n",
        "        yhat_var_te_site = np.array([[np.var(yhat_te[site])]])\n",
        "\n",
        "        metrics_te_site = evaluate(y_te[site], yhat_te[site], s2_te[site], y_mean_te_site, y_var_te_site)\n",
        "\n",
        "        site_name = site_names[num]\n",
        "        blr_site_metrics.loc[len(blr_site_metrics)] = [roi, site_names[num], metrics_te_site['MSLL'][0], metrics_te_site['EXPV'][0], metrics_te_site['SMSE'][0], metrics_te_site['RMSE'][0], metrics_te_site['Rho'][0]]"
      ]
    },
    {
      "cell_type": "markdown",
      "metadata": {
        "id": "Wc4NFsJBPxQp"
      },
      "source": [
        "# Evaluation & Interpretation"
      ]
    },
    {
      "cell_type": "markdown",
      "metadata": {
        "id": "5CAdaK2NPxQr"
      },
      "source": [
        "## Describe the normative model performance"
      ]
    },
    {
      "cell_type": "markdown",
      "metadata": {
        "id": "g8syuqDxPxQr"
      },
      "source": [
        "### Step 12.\n",
        "\n",
        "In step 11, when we looped over each region of interest in the `roi_ids` list (created in step 4) and evaluated the normative model on the independent test set, it also computed the evaluation metrics such as the explained variance, mean standardized log-loss and Pearson correlation between true and predicted test responses. The evaluation metrics were calculated for the full test set and calculated separately for each scanning site. The metrics were saved out to a csv file. In this step we load the evaluation metrics into a panads data frame and use the describe function to show the range, mean, and standard deviation of each of the evaluation metrics. Table 2 shows how to interpret the ranges/directions of good model fit."
      ]
    },
    {
      "cell_type": "code",
      "execution_count": null,
      "metadata": {
        "id": "U3ncOg8FPxQs"
      },
      "outputs": [],
      "source": [
        "# Overall test set evaluation metrics\n",
        "print(blr_metrics['EV'].describe())\n",
        "print(blr_metrics['MSLL'].describe())\n",
        "print(blr_metrics['SMSE'].describe())\n",
        "print(blr_metrics['Rho'].describe())"
      ]
    },
    {
      "cell_type": "markdown",
      "metadata": {
        "id": "hZEs7Ej4-qGi"
      },
      "source": [
        "The deviation scores are output as a text file in separate folders. We want to summarize the deviation scores across all models estimates so we can organize them into a single file, and merge the deviation scores into the original data file."
      ]
    },
    {
      "cell_type": "markdown",
      "metadata": {
        "id": "kvh8npp-PxQt",
        "tags": []
      },
      "source": [
        "## Visualize normative model outputs"
      ]
    },
    {
      "cell_type": "markdown",
      "metadata": {
        "id": "NXqJemw7PxQu"
      },
      "source": [
        "<div>\n",
        "<img src=\"https://github.com/predictive-clinical-neuroscience/PCNtoolkit-demo/blob/main/tutorials/BLR_protocol/Figure4.png?raw=1\" width=\"1000\">\n",
        "</div>"
      ]
    },
    {
      "cell_type": "markdown",
      "metadata": {
        "id": "89GpR-mIPxQu"
      },
      "source": [
        "### Figure 4A viz"
      ]
    },
    {
      "cell_type": "code",
      "execution_count": null,
      "metadata": {
        "id": "cNeOX8RJPxQu"
      },
      "outputs": [],
      "source": [
        "pd.set_option('display.max_rows', 500)\n",
        "pd.set_option('display.max_columns', 500)\n",
        "pd.set_option('display.width', 1000)\n",
        "\n",
        "def color_gradient(x=0.0, start=(0, 0, 0), stop=(1, 1, 1)):\n",
        "    r = np.interp(x, [0, 1], [start[0], stop[0]])\n",
        "    g = np.interp(x, [0, 1], [start[1], stop[1]])\n",
        "    b = np.interp(x, [0, 1], [start[2], stop[2]])\n",
        "    return r, g, b\n",
        "\n",
        "plt.figure(dpi=380)\n",
        "fig, axes = joypy.joyplot(blr_site_metrics, column=['EV'], overlap=2.5, by=\"site\", ylim='own', fill=True, figsize=(8,8)\n",
        "                          , legend=False, xlabels=True, ylabels=True, colormap=lambda x: color_gradient(x, start=(.08, .45, .8),stop=(.8, .34, .44))\n",
        "                          , alpha=0.6, linewidth=.5, linecolor='w', fade=True);\n",
        "plt.title('Test Set Explained Variance', fontsize=18, color='black', alpha=1)\n",
        "plt.xlabel('Explained Variance', fontsize=14, color='black', alpha=1)\n",
        "plt.ylabel('Site', fontsize=14, color='black', alpha=1)\n",
        "plt.show"
      ]
    },
    {
      "cell_type": "markdown",
      "metadata": {
        "id": "FTArq1PKPxQu"
      },
      "source": [
        "The code used to create the visualizations shown in Figure 4 panels B-F, can be found in this [notebook](https://github.com/predictive-clinical-neuroscience/PCNtoolkit-demo/blob/main/tutorials/BLR_protocol/visualizations.ipynb)."
      ]
    },
    {
      "cell_type": "markdown",
      "metadata": {
        "id": "YTrvxDmGPxQu"
      },
      "source": [
        "## Post-Hoc analysis ideas"
      ]
    },
    {
      "cell_type": "markdown",
      "metadata": {
        "id": "PlC69kfpPxQu"
      },
      "source": [
        "The code for running SVM classification and classical case vs. control t-testing on the outputs of normative modeling can be found in this [notebook](https://github.com/predictive-clinical-neuroscience/PCNtoolkit-demo/blob/main/tutorials/BLR_protocol/post_hoc_analysis.ipynb)."
      ]
    },
    {
      "cell_type": "markdown",
      "metadata": {
        "id": "fiATEEBdPxQv"
      },
      "source": [
        "The code for running other predictive models (regression, using the outputs of normative modeling as predictive features) can be found in this [notebook](https://github.com/predictive-clinical-neuroscience/PCNtoolkit-demo/blob/main/tutorials/BLR_protocol/other_predictive_models.ipynb)."
      ]
    },
    {
      "cell_type": "markdown",
      "metadata": {
        "id": "yapjr2CTPxQv"
      },
      "source": [
        "The code for transfering a pre-trained normative model to a new dataset can be found in this [notebook](https://github.com/predictive-clinical-neuroscience/PCNtoolkit-demo/blob/main/tutorials/BLR_protocol/transfer_pretrained_normative_models.ipynb)."
      ]
    }
  ],
  "metadata": {
    "colab": {
      "name": "BLR_normativemodel_protocol.ipynb",
      "provenance": []
    },
    "kernelspec": {
      "display_name": "Python 3 (ipykernel)",
      "language": "python",
      "name": "python3"
    },
    "language_info": {
      "codemirror_mode": {
        "name": "ipython",
        "version": 3
      },
      "file_extension": ".py",
      "mimetype": "text/x-python",
      "name": "python",
      "nbconvert_exporter": "python",
      "pygments_lexer": "ipython3",
      "version": "3.10.9"
    },
    "vscode": {
      "interpreter": {
        "hash": "40d3a090f54c6569ab1632332b64b2c03c39dcf918b08424e98f38b5ae0af88f"
      }
    }
  },
  "nbformat": 4,
  "nbformat_minor": 0
}