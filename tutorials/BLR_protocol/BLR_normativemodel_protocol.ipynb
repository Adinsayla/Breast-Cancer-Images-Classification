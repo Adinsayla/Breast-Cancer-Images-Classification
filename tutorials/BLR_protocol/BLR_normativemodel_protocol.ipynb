{
  "cells": [
    {
      "cell_type": "markdown",
      "metadata": {
        "id": "view-in-github",
        "colab_type": "text"
      },
      "source": [
        "<a href=\"https://colab.research.google.com/github/Adinsayla/Breast-Cancer-Images-Classification/blob/main/tutorials/BLR_protocol/BLR_normativemodel_protocol.ipynb\" target=\"_parent\"><img src=\"https://colab.research.google.com/assets/colab-badge.svg\" alt=\"Open In Colab\"/></a>"
      ]
    },
    {
      "cell_type": "markdown",
      "metadata": {
        "id": "D68ks6mpPxQV"
      },
      "source": [
        "# [Predictive Clinical Neuroscience Toolkit](https://github.com/amarquand/PCNtoolkit)\n",
        "# The Normative Modeling Framework for Computational Psychiatry Protocol\n",
        "## Using Bayesian Linear Regression and Multi-Site Cortical Thickness Data"
      ]
    },
    {
      "cell_type": "markdown",
      "metadata": {
        "id": "sekFShu5PxQY",
        "jp-MarkdownHeadingCollapsed": true,
        "tags": []
      },
      "source": [
        "Created by [Saige Rutherford](https://twitter.com/being_saige)"
      ]
    },
    {
      "cell_type": "markdown",
      "metadata": {
        "id": "-F8j2e7ePxQY"
      },
      "source": [
        "<div>\n",
        "<img src=\"https://github.com/predictive-clinical-neuroscience/PCNtoolkit-demo/blob/main/tutorials/BLR_protocol/Figure2.png?raw=1\" width=\"1000\">\n",
        "</div>"
      ]
    },
    {
      "cell_type": "markdown",
      "metadata": {
        "id": "prEV5dymPxQZ"
      },
      "source": [
        "# Data Preparation"
      ]
    },
    {
      "cell_type": "markdown",
      "metadata": {
        "id": "wuzKCq4SPxQZ"
      },
      "source": [
        "## Install necessary libraries & grab data files"
      ]
    },
    {
      "cell_type": "markdown",
      "metadata": {
        "id": "ORn68UDCPxQZ"
      },
      "source": [
        "### Step 1.\n",
        "\n",
        "Begin by cloning the GitHub repository using the following commands. This repository contains the necessary code and example data. Then install the python packages using pip and import them into the python environment (either Google Colab or using a local python installation on your computer)."
      ]
    },
    {
      "cell_type": "code",
      "execution_count": 2,
      "metadata": {
        "colab": {
          "base_uri": "https://localhost:8080/"
        },
        "id": "XY_jbksGPxQa",
        "outputId": "3fde000d-69fe-458c-b6d1-ae0939b599b6"
      },
      "outputs": [
        {
          "output_type": "stream",
          "name": "stdout",
          "text": [
            "fatal: destination path 'PCNtoolkit-demo' already exists and is not an empty directory.\n"
          ]
        }
      ],
      "source": [
        "! git clone https://github.com/predictive-clinical-neuroscience/PCNtoolkit-demo.git"
      ]
    },
    {
      "cell_type": "code",
      "execution_count": 3,
      "metadata": {
        "id": "XUqJ0xDTPxQb"
      },
      "outputs": [],
      "source": [
        "import os\n",
        "\n",
        "# set this path to the git cloned PCNtoolkit-demo repository --> Uncomment whichever line you need for either running on your own computer or on Google Colab.\n",
        "#wdir = '<path-to-your>/PCNtoolkit-demo' # if running on your own computer, use this line (change the path to match where you cloned the repository)\n",
        "wdir ='/content/PCNtoolkit-demo' # if running on Google Colab, use this line\n",
        "\n",
        "os.chdir(os.path.join(wdir,'tutorials','BLR_protocol'))"
      ]
    },
    {
      "cell_type": "code",
      "execution_count": 4,
      "metadata": {
        "id": "z05J1GqFPxQb",
        "jupyter": {
          "outputs_hidden": false
        },
        "pycharm": {
          "name": "#%%\n"
        },
        "outputId": "1c38215c-cfde-415d-d7b4-e17ce829756b",
        "colab": {
          "base_uri": "https://localhost:8080/",
          "height": 1000
        }
      },
      "outputs": [
        {
          "output_type": "stream",
          "name": "stdout",
          "text": [
            "Requirement already satisfied: pandas in /usr/local/lib/python3.10/dist-packages (from -r requirements.txt (line 1)) (2.2.2)\n",
            "Requirement already satisfied: numpy in /usr/local/lib/python3.10/dist-packages (from -r requirements.txt (line 2)) (1.26.4)\n",
            "Requirement already satisfied: matplotlib in /usr/local/lib/python3.10/dist-packages (from -r requirements.txt (line 3)) (3.8.0)\n",
            "Requirement already satisfied: scikit-learn in /usr/local/lib/python3.10/dist-packages (from -r requirements.txt (line 5)) (1.5.2)\n",
            "Collecting joypy (from -r requirements.txt (line 6))\n",
            "  Downloading joypy-0.2.6-py2.py3-none-any.whl.metadata (812 bytes)\n",
            "Collecting pcntoolkit (from -r requirements.txt (line 7))\n",
            "  Downloading pcntoolkit-0.30.post2.tar.gz (110 kB)\n",
            "\u001b[2K     \u001b[90m━━━━━━━━━━━━━━━━━━━━━━━━━━━━━━━━━━━━━━━━\u001b[0m \u001b[32m111.0/111.0 kB\u001b[0m \u001b[31m2.4 MB/s\u001b[0m eta \u001b[36m0:00:00\u001b[0m\n",
            "\u001b[?25h  Preparing metadata (setup.py) ... \u001b[?25l\u001b[?25hdone\n",
            "Requirement already satisfied: python-dateutil>=2.8.2 in /usr/local/lib/python3.10/dist-packages (from pandas->-r requirements.txt (line 1)) (2.8.2)\n",
            "Requirement already satisfied: pytz>=2020.1 in /usr/local/lib/python3.10/dist-packages (from pandas->-r requirements.txt (line 1)) (2024.2)\n",
            "Requirement already satisfied: tzdata>=2022.7 in /usr/local/lib/python3.10/dist-packages (from pandas->-r requirements.txt (line 1)) (2024.2)\n",
            "Requirement already satisfied: contourpy>=1.0.1 in /usr/local/lib/python3.10/dist-packages (from matplotlib->-r requirements.txt (line 3)) (1.3.1)\n",
            "Requirement already satisfied: cycler>=0.10 in /usr/local/lib/python3.10/dist-packages (from matplotlib->-r requirements.txt (line 3)) (0.12.1)\n",
            "Requirement already satisfied: fonttools>=4.22.0 in /usr/local/lib/python3.10/dist-packages (from matplotlib->-r requirements.txt (line 3)) (4.54.1)\n",
            "Requirement already satisfied: kiwisolver>=1.0.1 in /usr/local/lib/python3.10/dist-packages (from matplotlib->-r requirements.txt (line 3)) (1.4.7)\n",
            "Requirement already satisfied: packaging>=20.0 in /usr/local/lib/python3.10/dist-packages (from matplotlib->-r requirements.txt (line 3)) (24.2)\n",
            "Requirement already satisfied: pillow>=6.2.0 in /usr/local/lib/python3.10/dist-packages (from matplotlib->-r requirements.txt (line 3)) (11.0.0)\n",
            "Requirement already satisfied: pyparsing>=2.3.1 in /usr/local/lib/python3.10/dist-packages (from matplotlib->-r requirements.txt (line 3)) (3.2.0)\n",
            "Requirement already satisfied: scipy>=1.6.0 in /usr/local/lib/python3.10/dist-packages (from scikit-learn->-r requirements.txt (line 5)) (1.13.1)\n",
            "Requirement already satisfied: joblib>=1.2.0 in /usr/local/lib/python3.10/dist-packages (from scikit-learn->-r requirements.txt (line 5)) (1.4.2)\n",
            "Requirement already satisfied: threadpoolctl>=3.1.0 in /usr/local/lib/python3.10/dist-packages (from scikit-learn->-r requirements.txt (line 5)) (3.5.0)\n",
            "Collecting argparse (from pcntoolkit->-r requirements.txt (line 7))\n",
            "  Downloading argparse-1.4.0-py2.py3-none-any.whl.metadata (2.8 kB)\n",
            "Requirement already satisfied: nibabel>=2.5.1 in /usr/local/lib/python3.10/dist-packages (from pcntoolkit->-r requirements.txt (line 7)) (5.3.2)\n",
            "Requirement already satisfied: six in /usr/local/lib/python3.10/dist-packages (from pcntoolkit->-r requirements.txt (line 7)) (1.16.0)\n",
            "Collecting bspline (from pcntoolkit->-r requirements.txt (line 7))\n",
            "  Downloading bspline-0.1.1.tar.gz (84 kB)\n",
            "\u001b[2K     \u001b[90m━━━━━━━━━━━━━━━━━━━━━━━━━━━━━━━━━━━━━━━━\u001b[0m \u001b[32m84.2/84.2 kB\u001b[0m \u001b[31m5.2 MB/s\u001b[0m eta \u001b[36m0:00:00\u001b[0m\n",
            "\u001b[?25h  Preparing metadata (setup.py) ... \u001b[?25l\u001b[?25hdone\n",
            "Collecting scipy>=1.6.0 (from scikit-learn->-r requirements.txt (line 5))\n",
            "  Downloading scipy-1.12.0-cp310-cp310-manylinux_2_17_x86_64.manylinux2014_x86_64.whl.metadata (60 kB)\n",
            "\u001b[2K     \u001b[90m━━━━━━━━━━━━━━━━━━━━━━━━━━━━━━━━━━━━━━━━\u001b[0m \u001b[32m60.4/60.4 kB\u001b[0m \u001b[31m3.6 MB/s\u001b[0m eta \u001b[36m0:00:00\u001b[0m\n",
            "\u001b[?25hRequirement already satisfied: torch>=1.1.0 in /usr/local/lib/python3.10/dist-packages (from pcntoolkit->-r requirements.txt (line 7)) (2.5.1+cu121)\n",
            "Collecting sphinx-tabs (from pcntoolkit->-r requirements.txt (line 7))\n",
            "  Downloading sphinx_tabs-3.4.7-py3-none-any.whl.metadata (6.3 kB)\n",
            "Requirement already satisfied: pymc>=5.1.0 in /usr/local/lib/python3.10/dist-packages (from pcntoolkit->-r requirements.txt (line 7)) (5.18.0)\n",
            "Collecting arviz==0.13.0 (from pcntoolkit->-r requirements.txt (line 7))\n",
            "  Downloading arviz-0.13.0-py3-none-any.whl.metadata (8.5 kB)\n",
            "Requirement already satisfied: setuptools>=60.0.0 in /usr/local/lib/python3.10/dist-packages (from arviz==0.13.0->pcntoolkit->-r requirements.txt (line 7)) (75.1.0)\n",
            "Requirement already satisfied: xarray>=0.21.0 in /usr/local/lib/python3.10/dist-packages (from arviz==0.13.0->pcntoolkit->-r requirements.txt (line 7)) (2024.10.0)\n",
            "Collecting netcdf4 (from arviz==0.13.0->pcntoolkit->-r requirements.txt (line 7))\n",
            "  Downloading netCDF4-1.7.2-cp310-cp310-manylinux_2_17_x86_64.manylinux2014_x86_64.whl.metadata (1.8 kB)\n",
            "Requirement already satisfied: typing-extensions>=4.1.0 in /usr/local/lib/python3.10/dist-packages (from arviz==0.13.0->pcntoolkit->-r requirements.txt (line 7)) (4.12.2)\n",
            "Requirement already satisfied: xarray-einstats>=0.3 in /usr/local/lib/python3.10/dist-packages (from arviz==0.13.0->pcntoolkit->-r requirements.txt (line 7)) (0.8.0)\n",
            "Requirement already satisfied: importlib-resources>=5.12 in /usr/local/lib/python3.10/dist-packages (from nibabel>=2.5.1->pcntoolkit->-r requirements.txt (line 7)) (6.4.5)\n",
            "Requirement already satisfied: cachetools>=4.2.1 in /usr/local/lib/python3.10/dist-packages (from pymc>=5.1.0->pcntoolkit->-r requirements.txt (line 7)) (5.5.0)\n",
            "Requirement already satisfied: cloudpickle in /usr/local/lib/python3.10/dist-packages (from pymc>=5.1.0->pcntoolkit->-r requirements.txt (line 7)) (3.1.0)\n",
            "Requirement already satisfied: pytensor<2.26,>=2.25.1 in /usr/local/lib/python3.10/dist-packages (from pymc>=5.1.0->pcntoolkit->-r requirements.txt (line 7)) (2.25.5)\n",
            "Requirement already satisfied: rich>=13.7.1 in /usr/local/lib/python3.10/dist-packages (from pymc>=5.1.0->pcntoolkit->-r requirements.txt (line 7)) (13.9.4)\n",
            "Requirement already satisfied: filelock in /usr/local/lib/python3.10/dist-packages (from torch>=1.1.0->pcntoolkit->-r requirements.txt (line 7)) (3.16.1)\n",
            "Requirement already satisfied: networkx in /usr/local/lib/python3.10/dist-packages (from torch>=1.1.0->pcntoolkit->-r requirements.txt (line 7)) (3.4.2)\n",
            "Requirement already satisfied: jinja2 in /usr/local/lib/python3.10/dist-packages (from torch>=1.1.0->pcntoolkit->-r requirements.txt (line 7)) (3.1.4)\n",
            "Requirement already satisfied: fsspec in /usr/local/lib/python3.10/dist-packages (from torch>=1.1.0->pcntoolkit->-r requirements.txt (line 7)) (2024.10.0)\n",
            "Requirement already satisfied: sympy==1.13.1 in /usr/local/lib/python3.10/dist-packages (from torch>=1.1.0->pcntoolkit->-r requirements.txt (line 7)) (1.13.1)\n",
            "Requirement already satisfied: mpmath<1.4,>=1.1.0 in /usr/local/lib/python3.10/dist-packages (from sympy==1.13.1->torch>=1.1.0->pcntoolkit->-r requirements.txt (line 7)) (1.3.0)\n",
            "Requirement already satisfied: sphinx>=1.8 in /usr/local/lib/python3.10/dist-packages (from sphinx-tabs->pcntoolkit->-r requirements.txt (line 7)) (8.1.3)\n",
            "Requirement already satisfied: pygments in /usr/local/lib/python3.10/dist-packages (from sphinx-tabs->pcntoolkit->-r requirements.txt (line 7)) (2.18.0)\n",
            "Requirement already satisfied: docutils in /usr/local/lib/python3.10/dist-packages (from sphinx-tabs->pcntoolkit->-r requirements.txt (line 7)) (0.21.2)\n",
            "Requirement already satisfied: etuples in /usr/local/lib/python3.10/dist-packages (from pytensor<2.26,>=2.25.1->pymc>=5.1.0->pcntoolkit->-r requirements.txt (line 7)) (0.3.9)\n",
            "Requirement already satisfied: logical-unification in /usr/local/lib/python3.10/dist-packages (from pytensor<2.26,>=2.25.1->pymc>=5.1.0->pcntoolkit->-r requirements.txt (line 7)) (0.4.6)\n",
            "Requirement already satisfied: miniKanren in /usr/local/lib/python3.10/dist-packages (from pytensor<2.26,>=2.25.1->pymc>=5.1.0->pcntoolkit->-r requirements.txt (line 7)) (1.0.3)\n",
            "Requirement already satisfied: cons in /usr/local/lib/python3.10/dist-packages (from pytensor<2.26,>=2.25.1->pymc>=5.1.0->pcntoolkit->-r requirements.txt (line 7)) (0.4.6)\n",
            "Requirement already satisfied: markdown-it-py>=2.2.0 in /usr/local/lib/python3.10/dist-packages (from rich>=13.7.1->pymc>=5.1.0->pcntoolkit->-r requirements.txt (line 7)) (3.0.0)\n",
            "Requirement already satisfied: sphinxcontrib-applehelp>=1.0.7 in /usr/local/lib/python3.10/dist-packages (from sphinx>=1.8->sphinx-tabs->pcntoolkit->-r requirements.txt (line 7)) (2.0.0)\n",
            "Requirement already satisfied: sphinxcontrib-devhelp>=1.0.6 in /usr/local/lib/python3.10/dist-packages (from sphinx>=1.8->sphinx-tabs->pcntoolkit->-r requirements.txt (line 7)) (2.0.0)\n",
            "Requirement already satisfied: sphinxcontrib-htmlhelp>=2.0.6 in /usr/local/lib/python3.10/dist-packages (from sphinx>=1.8->sphinx-tabs->pcntoolkit->-r requirements.txt (line 7)) (2.1.0)\n",
            "Requirement already satisfied: sphinxcontrib-jsmath>=1.0.1 in /usr/local/lib/python3.10/dist-packages (from sphinx>=1.8->sphinx-tabs->pcntoolkit->-r requirements.txt (line 7)) (1.0.1)\n",
            "Requirement already satisfied: sphinxcontrib-qthelp>=1.0.6 in /usr/local/lib/python3.10/dist-packages (from sphinx>=1.8->sphinx-tabs->pcntoolkit->-r requirements.txt (line 7)) (2.0.0)\n",
            "Requirement already satisfied: sphinxcontrib-serializinghtml>=1.1.9 in /usr/local/lib/python3.10/dist-packages (from sphinx>=1.8->sphinx-tabs->pcntoolkit->-r requirements.txt (line 7)) (2.0.0)\n",
            "Requirement already satisfied: snowballstemmer>=2.2 in /usr/local/lib/python3.10/dist-packages (from sphinx>=1.8->sphinx-tabs->pcntoolkit->-r requirements.txt (line 7)) (2.2.0)\n",
            "Requirement already satisfied: babel>=2.13 in /usr/local/lib/python3.10/dist-packages (from sphinx>=1.8->sphinx-tabs->pcntoolkit->-r requirements.txt (line 7)) (2.16.0)\n",
            "Requirement already satisfied: alabaster>=0.7.14 in /usr/local/lib/python3.10/dist-packages (from sphinx>=1.8->sphinx-tabs->pcntoolkit->-r requirements.txt (line 7)) (1.0.0)\n",
            "Requirement already satisfied: imagesize>=1.3 in /usr/local/lib/python3.10/dist-packages (from sphinx>=1.8->sphinx-tabs->pcntoolkit->-r requirements.txt (line 7)) (1.4.1)\n",
            "Requirement already satisfied: requests>=2.30.0 in /usr/local/lib/python3.10/dist-packages (from sphinx>=1.8->sphinx-tabs->pcntoolkit->-r requirements.txt (line 7)) (2.32.3)\n",
            "Requirement already satisfied: tomli>=2 in /usr/local/lib/python3.10/dist-packages (from sphinx>=1.8->sphinx-tabs->pcntoolkit->-r requirements.txt (line 7)) (2.1.0)\n",
            "Requirement already satisfied: MarkupSafe>=2.0 in /usr/local/lib/python3.10/dist-packages (from jinja2->torch>=1.1.0->pcntoolkit->-r requirements.txt (line 7)) (3.0.2)\n",
            "Collecting cftime (from netcdf4->arviz==0.13.0->pcntoolkit->-r requirements.txt (line 7))\n",
            "  Downloading cftime-1.6.4.post1-cp310-cp310-manylinux_2_17_x86_64.manylinux2014_x86_64.whl.metadata (8.7 kB)\n",
            "Requirement already satisfied: certifi in /usr/local/lib/python3.10/dist-packages (from netcdf4->arviz==0.13.0->pcntoolkit->-r requirements.txt (line 7)) (2024.8.30)\n",
            "Requirement already satisfied: mdurl~=0.1 in /usr/local/lib/python3.10/dist-packages (from markdown-it-py>=2.2.0->rich>=13.7.1->pymc>=5.1.0->pcntoolkit->-r requirements.txt (line 7)) (0.1.2)\n",
            "Requirement already satisfied: charset-normalizer<4,>=2 in /usr/local/lib/python3.10/dist-packages (from requests>=2.30.0->sphinx>=1.8->sphinx-tabs->pcntoolkit->-r requirements.txt (line 7)) (3.4.0)\n",
            "Requirement already satisfied: idna<4,>=2.5 in /usr/local/lib/python3.10/dist-packages (from requests>=2.30.0->sphinx>=1.8->sphinx-tabs->pcntoolkit->-r requirements.txt (line 7)) (3.10)\n",
            "Requirement already satisfied: urllib3<3,>=1.21.1 in /usr/local/lib/python3.10/dist-packages (from requests>=2.30.0->sphinx>=1.8->sphinx-tabs->pcntoolkit->-r requirements.txt (line 7)) (2.2.3)\n",
            "Requirement already satisfied: toolz in /usr/local/lib/python3.10/dist-packages (from logical-unification->pytensor<2.26,>=2.25.1->pymc>=5.1.0->pcntoolkit->-r requirements.txt (line 7)) (0.12.1)\n",
            "Requirement already satisfied: multipledispatch in /usr/local/lib/python3.10/dist-packages (from logical-unification->pytensor<2.26,>=2.25.1->pymc>=5.1.0->pcntoolkit->-r requirements.txt (line 7)) (1.0.0)\n",
            "Downloading joypy-0.2.6-py2.py3-none-any.whl (8.6 kB)\n",
            "Downloading arviz-0.13.0-py3-none-any.whl (1.7 MB)\n",
            "\u001b[2K   \u001b[90m━━━━━━━━━━━━━━━━━━━━━━━━━━━━━━━━━━━━━━━━\u001b[0m \u001b[32m1.7/1.7 MB\u001b[0m \u001b[31m26.6 MB/s\u001b[0m eta \u001b[36m0:00:00\u001b[0m\n",
            "\u001b[?25hDownloading scipy-1.12.0-cp310-cp310-manylinux_2_17_x86_64.manylinux2014_x86_64.whl (38.4 MB)\n",
            "\u001b[2K   \u001b[90m━━━━━━━━━━━━━━━━━━━━━━━━━━━━━━━━━━━━━━━━\u001b[0m \u001b[32m38.4/38.4 MB\u001b[0m \u001b[31m16.0 MB/s\u001b[0m eta \u001b[36m0:00:00\u001b[0m\n",
            "\u001b[?25hDownloading argparse-1.4.0-py2.py3-none-any.whl (23 kB)\n",
            "Downloading sphinx_tabs-3.4.7-py3-none-any.whl (9.7 kB)\n",
            "Downloading netCDF4-1.7.2-cp310-cp310-manylinux_2_17_x86_64.manylinux2014_x86_64.whl (9.1 MB)\n",
            "\u001b[2K   \u001b[90m━━━━━━━━━━━━━━━━━━━━━━━━━━━━━━━━━━━━━━━━\u001b[0m \u001b[32m9.1/9.1 MB\u001b[0m \u001b[31m64.5 MB/s\u001b[0m eta \u001b[36m0:00:00\u001b[0m\n",
            "\u001b[?25hDownloading cftime-1.6.4.post1-cp310-cp310-manylinux_2_17_x86_64.manylinux2014_x86_64.whl (1.3 MB)\n",
            "\u001b[2K   \u001b[90m━━━━━━━━━━━━━━━━━━━━━━━━━━━━━━━━━━━━━━━━\u001b[0m \u001b[32m1.3/1.3 MB\u001b[0m \u001b[31m47.7 MB/s\u001b[0m eta \u001b[36m0:00:00\u001b[0m\n",
            "\u001b[?25hBuilding wheels for collected packages: pcntoolkit, bspline\n",
            "  Building wheel for pcntoolkit (setup.py) ... \u001b[?25l\u001b[?25hdone\n",
            "  Created wheel for pcntoolkit: filename=pcntoolkit-0.30.post2-py3-none-any.whl size=112538 sha256=01a926f51735ed29ac46d605dac942ccd379cec0cd43e166b26a1817d517a1f7\n",
            "  Stored in directory: /root/.cache/pip/wheels/cc/22/56/154d21c33e87ed39fce5b40d1eef0f59783c658391118f0664\n",
            "  Building wheel for bspline (setup.py) ... \u001b[?25l\u001b[?25hdone\n",
            "  Created wheel for bspline: filename=bspline-0.1.1-py3-none-any.whl size=84482 sha256=ecd2adbc70c112b9bda3094a3ba81f5827e9781a4e0a6dd817be96757a599d27\n",
            "  Stored in directory: /root/.cache/pip/wheels/3c/ab/0a/70927853a6d9166bc777922736063a6f99c43a327c802f9326\n",
            "Successfully built pcntoolkit bspline\n",
            "Installing collected packages: argparse, scipy, cftime, bspline, netcdf4, sphinx-tabs, joypy, arviz, pcntoolkit\n",
            "  Attempting uninstall: scipy\n",
            "    Found existing installation: scipy 1.13.1\n",
            "    Uninstalling scipy-1.13.1:\n",
            "      Successfully uninstalled scipy-1.13.1\n",
            "  Attempting uninstall: arviz\n",
            "    Found existing installation: arviz 0.20.0\n",
            "    Uninstalling arviz-0.20.0:\n",
            "      Successfully uninstalled arviz-0.20.0\n",
            "Successfully installed argparse-1.4.0 arviz-0.13.0 bspline-0.1.1 cftime-1.6.4.post1 joypy-0.2.6 netcdf4-1.7.2 pcntoolkit-0.30.post2 scipy-1.12.0 sphinx-tabs-3.4.7\n"
          ]
        },
        {
          "output_type": "display_data",
          "data": {
            "application/vnd.colab-display-data+json": {
              "pip_warning": {
                "packages": [
                  "argparse"
                ]
              },
              "id": "8ca4812f9c81489e809a92371dbfd20e"
            }
          },
          "metadata": {}
        }
      ],
      "source": [
        "! pip install -r requirements.txt"
      ]
    },
    {
      "cell_type": "markdown",
      "metadata": {
        "id": "9wDmki54PxQc"
      },
      "source": [
        "## Prepare covariate data"
      ]
    },
    {
      "cell_type": "markdown",
      "metadata": {
        "id": "WCEK3IokPxQc"
      },
      "source": [
        "### Step 2.\n",
        "\n",
        "The data set (downloaded in Step 1) includes a multi-site dataset from the [Human Connectome Project Young Adult study](https://www.humanconnectome.org/study/hcp-young-adult) and [IXI](https://brain-development.org/ixi-dataset/). It is also possible to use different datasets (i.e., your own data or additional public datasets) in this step. If using your own data here, it is recommended to load the example data to view the column names in order to match your data to this format. Read in the data files using pandas, then merge the covariate (age & sex) data from each site into a single data frame (named cov). The columns of this covariate data frame represent the predictor variables. Additional columns may be added here, depending on the research question."
      ]
    },
    {
      "cell_type": "code",
      "execution_count": 2,
      "metadata": {
        "id": "vVyr2UrgPxQd"
      },
      "outputs": [],
      "source": [
        "import pandas as pd\n",
        "import numpy as np\n",
        "import matplotlib.pyplot as plt\n",
        "import seaborn as sns\n",
        "import joypy\n",
        "from sklearn.model_selection import train_test_split\n",
        "from pcntoolkit.normative import estimate, evaluate\n",
        "from pcntoolkit.util.utils import create_bspline_basis, compute_MSLL"
      ]
    },
    {
      "cell_type": "code",
      "execution_count": 14,
      "metadata": {
        "id": "G6VQMkq-PxQd",
        "outputId": "a1284ac1-28af-4e55-f0bf-1cafab93dc44",
        "colab": {
          "base_uri": "https://localhost:8080/"
        }
      },
      "outputs": [
        {
          "output_type": "stream",
          "name": "stdout",
          "text": [
            "  participant_id  age  sex  site\n",
            "0        sub-901   22    0     1\n",
            "1        sub-902   32    1     3\n",
            "2        sub-904   27    0     3\n",
            "3        sub-905   57    1     3\n",
            "4        sub-906   57    1     1\n",
            "  participant_id        age  sex site\n",
            "0     sub-IXI002  35.800137    2  ixi\n",
            "1     sub-IXI012  38.781656    1  ixi\n",
            "2     sub-IXI013  46.710472    1  ixi\n",
            "3     sub-IXI014  34.236824    2  ixi\n",
            "4     sub-IXI015  24.284736    1  ixi\n"
          ]
        }
      ],
      "source": [
        "import os\n",
        "wdir = '/content/PCNtoolkit-demo/data/'\n",
        "hcp = pd.read_csv(os.path.join(wdir, 'TLE_id_train.csv'))\n",
        "print(hcp.head())"
      ]
    },
    {
      "cell_type": "code",
      "execution_count": 13,
      "metadata": {
        "colab": {
          "base_uri": "https://localhost:8080/"
        },
        "id": "OgM-nnT6PxQd",
        "outputId": "9f771971-a608-474b-9eac-b7e92fb1d75a"
      },
      "outputs": [
        {
          "output_type": "stream",
          "name": "stdout",
          "text": [
            "  participant_id   age sex site\n",
            "0        sub-005  47.0   0    3\n",
            "1        sub-007  27.0   0    3\n",
            "2        sub-011  22.0   0    3\n",
            "3        sub-023  37.0   1    3\n",
            "4        sub-029  32.0   0    1\n"
          ]
        }
      ],
      "source": [
        "#cov = pd.merge(hcp, ixi, on=[\"participant_id\", \"age\", \"sex\", \"site\"], how='outer')"
      ]
    },
    {
      "cell_type": "code",
      "execution_count": 15,
      "metadata": {
        "id": "gkaf63EfPxQe"
      },
      "outputs": [],
      "source": [
        "sns.set(font_scale=1.5, style='darkgrid')"
      ]
    },
    {
      "cell_type": "code",
      "execution_count": 16,
      "metadata": {
        "colab": {
          "base_uri": "https://localhost:8080/",
          "height": 583
        },
        "id": "ao2iVSIVPxQe",
        "outputId": "d5d7fa9f-e80f-47f9-ba07-e3d40df5a009"
      },
      "outputs": [
        {
          "output_type": "display_data",
          "data": {
            "text/plain": [
              "<Figure size 708.5x600 with 1 Axes>"
            ],
            "image/png": "[encoded data removed]"
          },
          "metadata": {}
        }
      ],
      "source": [
        "sns.displot(cov, x=\"age\", hue=\"site\", multiple=\"stack\", height=6);"
      ]
    },
    {
      "cell_type": "code",
      "execution_count": 17,
      "metadata": {
        "colab": {
          "base_uri": "https://localhost:8080/",
          "height": 206
        },
        "id": "shVeUZAZPxQe",
        "outputId": "bd60d3e9-5bf2-4f8e-a750-c2b4f17e704b"
      },
      "outputs": [
        {
          "output_type": "execute_result",
          "data": {
            "text/plain": [
              "        age                                                                   \\\n",
              "      count       mean        std        min        25%       50%        75%   \n",
              "site                                                                           \n",
              "1      62.0  35.854839  11.042165  18.000000  27.000000  37.00000  42.000000   \n",
              "3      53.0  37.886792  12.368789  18.000000  27.000000  37.00000  47.000000   \n",
              "ixi   590.0  49.476531  16.720864  19.980835  34.027721  50.61191  63.413415   \n",
              "\n",
              "                \n",
              "           max  \n",
              "site            \n",
              "1     57.00000  \n",
              "3     62.00000  \n",
              "ixi   86.31896  "
            ],
            "text/html": [
              "\n",
              "  <div id=\"df-e918012d-8af7-42a3-a516-8b5323356f1b\" class=\"colab-df-container\">\n",
              "    <div>\n",
              "<style scoped>\n",
              "    .dataframe tbody tr th:only-of-type {\n",
              "        vertical-align: middle;\n",
              "    }\n",
              "\n",
              "    .dataframe tbody tr th {\n",
              "        vertical-align: top;\n",
              "    }\n",
              "\n",
              "    .dataframe thead tr th {\n",
              "        text-align: left;\n",
              "    }\n",
              "\n",
              "    .dataframe thead tr:last-of-type th {\n",
              "        text-align: right;\n",
              "    }\n",
              "</style>\n",
              "<table border=\"1\" class=\"dataframe\">\n",
              "  <thead>\n",
              "    <tr>\n",
              "      <th></th>\n",
              "      <th colspan=\"8\" halign=\"left\">age</th>\n",
              "    </tr>\n",
              "    <tr>\n",
              "      <th></th>\n",
              "      <th>count</th>\n",
              "      <th>mean</th>\n",
              "      <th>std</th>\n",
              "      <th>min</th>\n",
              "      <th>25%</th>\n",
              "      <th>50%</th>\n",
              "      <th>75%</th>\n",
              "      <th>max</th>\n",
              "    </tr>\n",
              "    <tr>\n",
              "      <th>site</th>\n",
              "      <th></th>\n",
              "      <th></th>\n",
              "      <th></th>\n",
              "      <th></th>\n",
              "      <th></th>\n",
              "      <th></th>\n",
              "      <th></th>\n",
              "      <th></th>\n",
              "    </tr>\n",
              "  </thead>\n",
              "  <tbody>\n",
              "    <tr>\n",
              "      <th>1</th>\n",
              "      <td>62.0</td>\n",
              "      <td>35.854839</td>\n",
              "      <td>11.042165</td>\n",
              "      <td>18.000000</td>\n",
              "      <td>27.000000</td>\n",
              "      <td>37.00000</td>\n",
              "      <td>42.000000</td>\n",
              "      <td>57.00000</td>\n",
              "    </tr>\n",
              "    <tr>\n",
              "      <th>3</th>\n",
              "      <td>53.0</td>\n",
              "      <td>37.886792</td>\n",
              "      <td>12.368789</td>\n",
              "      <td>18.000000</td>\n",
              "      <td>27.000000</td>\n",
              "      <td>37.00000</td>\n",
              "      <td>47.000000</td>\n",
              "      <td>62.00000</td>\n",
              "    </tr>\n",
              "    <tr>\n",
              "      <th>ixi</th>\n",
              "      <td>590.0</td>\n",
              "      <td>49.476531</td>\n",
              "      <td>16.720864</td>\n",
              "      <td>19.980835</td>\n",
              "      <td>34.027721</td>\n",
              "      <td>50.61191</td>\n",
              "      <td>63.413415</td>\n",
              "      <td>86.31896</td>\n",
              "    </tr>\n",
              "  </tbody>\n",
              "</table>\n",
              "</div>\n",
              "    <div class=\"colab-df-buttons\">\n",
              "\n",
              "  <div class=\"colab-df-container\">\n",
              "    <button class=\"colab-df-convert\" onclick=\"convertToInteractive('df-e918012d-8af7-42a3-a516-8b5323356f1b')\"\n",
              "            title=\"Convert this dataframe to an interactive table.\"\n",
              "            style=\"display:none;\">\n",
              "\n",
              "  <svg xmlns=\"http://www.w3.org/2000/svg\" height=\"24px\" viewBox=\"0 -960 960 960\">\n",
              "    <path d=\"M120-120v-720h720v720H120Zm60-500h600v-160H180v160Zm220 220h160v-160H400v160Zm0 220h160v-160H400v160ZM180-400h160v-160H180v160Zm440 0h160v-160H620v160ZM180-180h160v-160H180v160Zm440 0h160v-160H620v160Z\"/>\n",
              "  </svg>\n",
              "    </button>\n",
              "\n",
              "  <style>\n",
              "    .colab-df-container {\n",
              "      display:flex;\n",
              "      gap: 12px;\n",
              "    }\n",
              "\n",
              "    .colab-df-convert {\n",
              "      background-color: #E8F0FE;\n",
              "      border: none;\n",
              "      border-radius: 50%;\n",
              "      cursor: pointer;\n",
              "      display: none;\n",
              "      fill: #1967D2;\n",
              "      height: 32px;\n",
              "      padding: 0 0 0 0;\n",
              "      width: 32px;\n",
              "    }\n",
              "\n",
              "    .colab-df-convert:hover {\n",
              "      background-color: #E2EBFA;\n",
              "      box-shadow: 0px 1px 2px rgba(60, 64, 67, 0.3), 0px 1px 3px 1px rgba(60, 64, 67, 0.15);\n",
              "      fill: #174EA6;\n",
              "    }\n",
              "\n",
              "    .colab-df-buttons div {\n",
              "      margin-bottom: 4px;\n",
              "    }\n",
              "\n",
              "    [theme=dark] .colab-df-convert {\n",
              "      background-color: #3B4455;\n",
              "      fill: #D2E3FC;\n",
              "    }\n",
              "\n",
              "    [theme=dark] .colab-df-convert:hover {\n",
              "      background-color: #434B5C;\n",
              "      box-shadow: 0px 1px 3px 1px rgba(0, 0, 0, 0.15);\n",
              "      filter: drop-shadow(0px 1px 2px rgba(0, 0, 0, 0.3));\n",
              "      fill: #FFFFFF;\n",
              "    }\n",
              "  </style>\n",
              "\n",
              "    <script>\n",
              "      const buttonEl =\n",
              "        document.querySelector('#df-e918012d-8af7-42a3-a516-8b5323356f1b button.colab-df-convert');\n",
              "      buttonEl.style.display =\n",
              "        google.colab.kernel.accessAllowed ? 'block' : 'none';\n",
              "\n",
              "      async function convertToInteractive(key) {\n",
              "        const element = document.querySelector('#df-e918012d-8af7-42a3-a516-8b5323356f1b');\n",
              "        const dataTable =\n",
              "          await google.colab.kernel.invokeFunction('convertToInteractive',\n",
              "                                                    [key], {});\n",
              "        if (!dataTable) return;\n",
              "\n",
              "        const docLinkHtml = 'Like what you see? Visit the ' +\n",
              "          '<a target=\"_blank\" href=https://colab.research.google.com/notebooks/data_table.ipynb>data table notebook</a>'\n",
              "          + ' to learn more about interactive tables.';\n",
              "        element.innerHTML = '';\n",
              "        dataTable['output_type'] = 'display_data';\n",
              "        await google.colab.output.renderOutput(dataTable, element);\n",
              "        const docLink = document.createElement('div');\n",
              "        docLink.innerHTML = docLinkHtml;\n",
              "        element.appendChild(docLink);\n",
              "      }\n",
              "    </script>\n",
              "  </div>\n",
              "\n",
              "\n",
              "<div id=\"df-bbcc65a3-cc0d-41d9-89d4-ef1e4e41f1f6\">\n",
              "  <button class=\"colab-df-quickchart\" onclick=\"quickchart('df-bbcc65a3-cc0d-41d9-89d4-ef1e4e41f1f6')\"\n",
              "            title=\"Suggest charts\"\n",
              "            style=\"display:none;\">\n",
              "\n",
              "<svg xmlns=\"http://www.w3.org/2000/svg\" height=\"24px\"viewBox=\"0 0 24 24\"\n",
              "     width=\"24px\">\n",
              "    <g>\n",
              "        <path d=\"M19 3H5c-1.1 0-2 .9-2 2v14c0 1.1.9 2 2 2h14c1.1 0 2-.9 2-2V5c0-1.1-.9-2-2-2zM9 17H7v-7h2v7zm4 0h-2V7h2v10zm4 0h-2v-4h2v4z\"/>\n",
              "    </g>\n",
              "</svg>\n",
              "  </button>\n",
              "\n",
              "<style>\n",
              "  .colab-df-quickchart {\n",
              "      --bg-color: #E8F0FE;\n",
              "      --fill-color: #1967D2;\n",
              "      --hover-bg-color: #E2EBFA;\n",
              "      --hover-fill-color: #174EA6;\n",
              "      --disabled-fill-color: #AAA;\n",
              "      --disabled-bg-color: #DDD;\n",
              "  }\n",
              "\n",
              "  [theme=dark] .colab-df-quickchart {\n",
              "      --bg-color: #3B4455;\n",
              "      --fill-color: #D2E3FC;\n",
              "      --hover-bg-color: #434B5C;\n",
              "      --hover-fill-color: #FFFFFF;\n",
              "      --disabled-bg-color: #3B4455;\n",
              "      --disabled-fill-color: #666;\n",
              "  }\n",
              "\n",
              "  .colab-df-quickchart {\n",
              "    background-color: var(--bg-color);\n",
              "    border: none;\n",
              "    border-radius: 50%;\n",
              "    cursor: pointer;\n",
              "    display: none;\n",
              "    fill: var(--fill-color);\n",
              "    height: 32px;\n",
              "    padding: 0;\n",
              "    width: 32px;\n",
              "  }\n",
              "\n",
              "  .colab-df-quickchart:hover {\n",
              "    background-color: var(--hover-bg-color);\n",
              "    box-shadow: 0 1px 2px rgba(60, 64, 67, 0.3), 0 1px 3px 1px rgba(60, 64, 67, 0.15);\n",
              "    fill: var(--button-hover-fill-color);\n",
              "  }\n",
              "\n",
              "  .colab-df-quickchart-complete:disabled,\n",
              "  .colab-df-quickchart-complete:disabled:hover {\n",
              "    background-color: var(--disabled-bg-color);\n",
              "    fill: var(--disabled-fill-color);\n",
              "    box-shadow: none;\n",
              "  }\n",
              "\n",
              "  .colab-df-spinner {\n",
              "    border: 2px solid var(--fill-color);\n",
              "    border-color: transparent;\n",
              "    border-bottom-color: var(--fill-color);\n",
              "    animation:\n",
              "      spin 1s steps(1) infinite;\n",
              "  }\n",
              "\n",
              "  @keyframes spin {\n",
              "    0% {\n",
              "      border-color: transparent;\n",
              "      border-bottom-color: var(--fill-color);\n",
              "      border-left-color: var(--fill-color);\n",
              "    }\n",
              "    20% {\n",
              "      border-color: transparent;\n",
              "      border-left-color: var(--fill-color);\n",
              "      border-top-color: var(--fill-color);\n",
              "    }\n",
              "    30% {\n",
              "      border-color: transparent;\n",
              "      border-left-color: var(--fill-color);\n",
              "      border-top-color: var(--fill-color);\n",
              "      border-right-color: var(--fill-color);\n",
              "    }\n",
              "    40% {\n",
              "      border-color: transparent;\n",
              "      border-right-color: var(--fill-color);\n",
              "      border-top-color: var(--fill-color);\n",
              "    }\n",
              "    60% {\n",
              "      border-color: transparent;\n",
              "      border-right-color: var(--fill-color);\n",
              "    }\n",
              "    80% {\n",
              "      border-color: transparent;\n",
              "      border-right-color: var(--fill-color);\n",
              "      border-bottom-color: var(--fill-color);\n",
              "    }\n",
              "    90% {\n",
              "      border-color: transparent;\n",
              "      border-bottom-color: var(--fill-color);\n",
              "    }\n",
              "  }\n",
              "</style>\n",
              "\n",
              "  <script>\n",
              "    async function quickchart(key) {\n",
              "      const quickchartButtonEl =\n",
              "        document.querySelector('#' + key + ' button');\n",
              "      quickchartButtonEl.disabled = true;  // To prevent multiple clicks.\n",
              "      quickchartButtonEl.classList.add('colab-df-spinner');\n",
              "      try {\n",
              "        const charts = await google.colab.kernel.invokeFunction(\n",
              "            'suggestCharts', [key], {});\n",
              "      } catch (error) {\n",
              "        console.error('Error during call to suggestCharts:', error);\n",
              "      }\n",
              "      quickchartButtonEl.classList.remove('colab-df-spinner');\n",
              "      quickchartButtonEl.classList.add('colab-df-quickchart-complete');\n",
              "    }\n",
              "    (() => {\n",
              "      let quickchartButtonEl =\n",
              "        document.querySelector('#df-bbcc65a3-cc0d-41d9-89d4-ef1e4e41f1f6 button');\n",
              "      quickchartButtonEl.style.display =\n",
              "        google.colab.kernel.accessAllowed ? 'block' : 'none';\n",
              "    })();\n",
              "  </script>\n",
              "</div>\n",
              "\n",
              "    </div>\n",
              "  </div>\n"
            ],
            "application/vnd.google.colaboratory.intrinsic+json": {
              "type": "dataframe",
              "summary": "{\n  \"name\": \"cov\",\n  \"rows\": 3,\n  \"fields\": [\n    {\n      \"column\": [\n        \"site\",\n        \"\"\n      ],\n      \"properties\": {\n        \"dtype\": \"string\",\n        \"num_unique_values\": 3,\n        \"samples\": [\n          \"1\",\n          \"3\",\n          \"ixi\"\n        ],\n        \"semantic_type\": \"\",\n        \"description\": \"\"\n      }\n    },\n    {\n      \"column\": [\n        \"age\",\n        \"count\"\n      ],\n      \"properties\": {\n        \"dtype\": \"number\",\n        \"std\": 307.4719499401531,\n        \"min\": 53.0,\n        \"max\": 590.0,\n        \"num_unique_values\": 3,\n        \"samples\": [\n          62.0,\n          53.0,\n          590.0\n        ],\n        \"semantic_type\": \"\",\n        \"description\": \"\"\n      }\n    },\n    {\n      \"column\": [\n        \"age\",\n        \"mean\"\n      ],\n      \"properties\": {\n        \"dtype\": \"number\",\n        \"std\": 7.34848486649056,\n        \"min\": 35.854838709677416,\n        \"max\": 49.47653105037288,\n        \"num_unique_values\": 3,\n        \"samples\": [\n          35.854838709677416,\n          37.886792452830186,\n          49.47653105037288\n        ],\n        \"semantic_type\": \"\",\n        \"description\": \"\"\n      }\n    },\n    {\n      \"column\": [\n        \"age\",\n        \"std\"\n      ],\n      \"properties\": {\n        \"dtype\": \"number\",\n        \"std\": 2.9706373360812903,\n        \"min\": 11.042164753008143,\n        \"max\": 16.72086411690077,\n        \"num_unique_values\": 3,\n        \"samples\": [\n          11.042164753008143,\n          12.36878884898239,\n          16.72086411690077\n        ],\n        \"semantic_type\": \"\",\n        \"description\": \"\"\n      }\n    },\n    {\n      \"column\": [\n        \"age\",\n        \"min\"\n      ],\n      \"properties\": {\n        \"dtype\": \"number\",\n        \"std\": 1.1436356435642425,\n        \"min\": 18.0,\n        \"max\": 19.98083504,\n        \"num_unique_values\": 2,\n        \"samples\": [\n          19.98083504,\n          18.0\n        ],\n        \"semantic_type\": \"\",\n        \"description\": \"\"\n      }\n    },\n    {\n      \"column\": [\n        \"age\",\n        \"25%\"\n      ],\n      \"properties\": {\n        \"dtype\": \"number\",\n        \"std\": 4.057456461028515,\n        \"min\": 27.0,\n        \"max\": 34.02772074,\n        \"num_unique_values\": 2,\n        \"samples\": [\n          34.02772074,\n          27.0\n        ],\n        \"semantic_type\": \"\",\n        \"description\": \"\"\n      }\n    },\n    {\n      \"column\": [\n        \"age\",\n        \"50%\"\n      ],\n      \"properties\": {\n        \"dtype\": \"number\",\n        \"std\": 7.858839700612365,\n        \"min\": 37.0,\n        \"max\": 50.61190965,\n        \"num_unique_values\": 2,\n        \"samples\": [\n          50.61190965,\n          37.0\n        ],\n        \"semantic_type\": \"\",\n        \"description\": \"\"\n      }\n    },\n    {\n      \"column\": [\n        \"age\",\n        \"75%\"\n      ],\n      \"properties\": {\n        \"dtype\": \"number\",\n        \"std\": 11.202191521398365,\n        \"min\": 42.0,\n        \"max\": 63.4134154675,\n        \"num_unique_values\": 3,\n        \"samples\": [\n          42.0,\n          47.0\n        ],\n        \"semantic_type\": \"\",\n        \"description\": \"\"\n      }\n    },\n    {\n      \"column\": [\n        \"age\",\n        \"max\"\n      ],\n      \"properties\": {\n        \"dtype\": \"number\",\n        \"std\": 15.684457222562624,\n        \"min\": 57.0,\n        \"max\": 86.31895962,\n        \"num_unique_values\": 3,\n        \"samples\": [\n          57.0,\n          62.0\n        ],\n        \"semantic_type\": \"\",\n        \"description\": \"\"\n      }\n    }\n  ]\n}"
            }
          },
          "metadata": {},
          "execution_count": 17
        }
      ],
      "source": [
        "cov.groupby(['site']).describe()"
      ]
    },
    {
      "cell_type": "markdown",
      "metadata": {
        "id": "NPUxTt-zPxQf"
      },
      "source": [
        "## Preprare brain data"
      ]
    },
    {
      "cell_type": "markdown",
      "metadata": {
        "id": "QPl50oOqPxQf"
      },
      "source": [
        "### Step 3.\n",
        "\n",
        "Next, format and combine the MRI data using the following commands. The example data contains cortical thickness maps estimated by running recon-all from Freesurfer (version 6.0). The dimensionality of the data was reduced by using ROIs from the Desikan-Killiany atlas. Including the Euler number as a covariate is also recommended, as this is a proxy metric for data quality. The [Euler number](https://mathworld.wolfram.com/EulerCharacteristic.html) from each subject's recon-all output folder was extracted into a text file and is merged into the cortical thickness data frame. The Euler number is site-specific, thus, to use the same exclusion threshold across sites it is important to center the site by subtracting the site median from all subjects at a site. Then take the square root and multiply by negative one and exclude any subjects with a square root above 10."
      ]
    },
    {
      "cell_type": "markdown",
      "metadata": {
        "id": "lTaweyNcPxQf"
      },
      "source": [
        "Here is some psuedo-code (run from a terminal in the folder that has all subject's recon-all output folders) that was used to extract these ROIs:\n",
        "\n",
        "```export SUBJECTS_DIR=/path/to/study/freesurfer_data/```\n",
        "\n",
        "```aparcstats2table --subject sub-* --hemi lh --meas thickness --tablefile HCP1200_aparc_lh_thickness.txt```\n",
        "\n",
        "```aparcstats2table --subject sub-* --hemi rh --meas thickness --tablefile HCP1200_aparc_rh_thickness.txt```"
      ]
    },
    {
      "cell_type": "code",
      "execution_count": 21,
      "metadata": {
        "id": "IRWlg7lMPxQg",
        "outputId": "2e3bfe52-60a9-4148-eb9d-340abbe3ab89",
        "colab": {
          "base_uri": "https://localhost:8080/",
          "height": 256
        }
      },
      "outputs": [
        {
          "output_type": "execute_result",
          "data": {
            "text/plain": [
              "  participant_id  lh_bankssts_thickness  lh_caudalanteriorcingulate_thickness  \\\n",
              "0        sub-901                  2.491                                 2.229   \n",
              "1        sub-902                  2.287                                 2.503   \n",
              "2        sub-904                  2.351                                 2.424   \n",
              "3        sub-905                  2.474                                 2.599   \n",
              "4        sub-906                  2.526                                 2.182   \n",
              "\n",
              "   lh_caudalmiddlefrontal_thickness  lh_cuneus_thickness  \\\n",
              "0                             2.675                1.942   \n",
              "1                             2.611                2.074   \n",
              "2                             2.638                2.023   \n",
              "3                             2.567                2.007   \n",
              "4                             2.460                1.892   \n",
              "\n",
              "   lh_entorhinal_thickness  lh_fusiform_thickness  \\\n",
              "0                    2.614                  2.384   \n",
              "1                    3.575                  2.765   \n",
              "2                    3.340                  2.843   \n",
              "3                    3.306                  2.752   \n",
              "4                    2.894                  2.484   \n",
              "\n",
              "   lh_inferiorparietal_thickness  lh_inferiortemporal_thickness  \\\n",
              "0                          2.582                          2.298   \n",
              "1                          2.572                          2.957   \n",
              "2                          2.511                          2.627   \n",
              "3                          2.485                          2.676   \n",
              "4                          2.341                          2.534   \n",
              "\n",
              "   lh_isthmuscingulate_thickness  ...  rh_rostralmiddlefrontal_thickness  \\\n",
              "0                          2.735  ...                               2.43   \n",
              "1                          2.741  ...                               2.33   \n",
              "2                          2.829  ...                               2.16   \n",
              "3                          2.287  ...                               2.12   \n",
              "4                          2.410  ...                               2.38   \n",
              "\n",
              "   rh_superiorfrontal_thickness  rh_superiorparietal_thickness  \\\n",
              "0                          2.91                           2.20   \n",
              "1                          2.70                           2.24   \n",
              "2                          2.66                           2.25   \n",
              "3                          2.54                           2.22   \n",
              "4                          2.53                           2.12   \n",
              "\n",
              "   rh_superiortemporal_thickness  rh_supramarginal_thickness  \\\n",
              "0                           2.70                        2.74   \n",
              "1                           2.88                        2.59   \n",
              "2                           2.83                        2.61   \n",
              "3                           2.77                        2.55   \n",
              "4                           2.45                        2.52   \n",
              "\n",
              "   rh_frontalpole_thickness  rh_temporalpole_thickness  \\\n",
              "0                      3.06                       3.35   \n",
              "1                      3.14                       4.15   \n",
              "2                      2.84                       3.92   \n",
              "3                      2.80                       3.53   \n",
              "4                      2.81                       3.67   \n",
              "\n",
              "   rh_transversetemporal_thickness  rh_insula_thickness  \\\n",
              "0                             2.63                 3.15   \n",
              "1                             2.37                 3.07   \n",
              "2                             2.67                 3.01   \n",
              "3                             2.59                 2.89   \n",
              "4                             2.05                 2.70   \n",
              "\n",
              "   rh_MeanThickness_thickness  \n",
              "0                    2.500015  \n",
              "1                    2.559025  \n",
              "2                    2.505360  \n",
              "3                    2.480445  \n",
              "4                    2.360560  \n",
              "\n",
              "[5 rows x 70 columns]"
            ],
            "text/html": [
              "\n",
              "  <div id=\"df-7f1a39fb-a305-44bf-b004-71d0dd8a8005\" class=\"colab-df-container\">\n",
              "    <div>\n",
              "<style scoped>\n",
              "    .dataframe tbody tr th:only-of-type {\n",
              "        vertical-align: middle;\n",
              "    }\n",
              "\n",
              "    .dataframe tbody tr th {\n",
              "        vertical-align: top;\n",
              "    }\n",
              "\n",
              "    .dataframe thead th {\n",
              "        text-align: right;\n",
              "    }\n",
              "</style>\n",
              "<table border=\"1\" class=\"dataframe\">\n",
              "  <thead>\n",
              "    <tr style=\"text-align: right;\">\n",
              "      <th></th>\n",
              "      <th>participant_id</th>\n",
              "      <th>lh_bankssts_thickness</th>\n",
              "      <th>lh_caudalanteriorcingulate_thickness</th>\n",
              "      <th>lh_caudalmiddlefrontal_thickness</th>\n",
              "      <th>lh_cuneus_thickness</th>\n",
              "      <th>lh_entorhinal_thickness</th>\n",
              "      <th>lh_fusiform_thickness</th>\n",
              "      <th>lh_inferiorparietal_thickness</th>\n",
              "      <th>lh_inferiortemporal_thickness</th>\n",
              "      <th>lh_isthmuscingulate_thickness</th>\n",
              "      <th>...</th>\n",
              "      <th>rh_rostralmiddlefrontal_thickness</th>\n",
              "      <th>rh_superiorfrontal_thickness</th>\n",
              "      <th>rh_superiorparietal_thickness</th>\n",
              "      <th>rh_superiortemporal_thickness</th>\n",
              "      <th>rh_supramarginal_thickness</th>\n",
              "      <th>rh_frontalpole_thickness</th>\n",
              "      <th>rh_temporalpole_thickness</th>\n",
              "      <th>rh_transversetemporal_thickness</th>\n",
              "      <th>rh_insula_thickness</th>\n",
              "      <th>rh_MeanThickness_thickness</th>\n",
              "    </tr>\n",
              "  </thead>\n",
              "  <tbody>\n",
              "    <tr>\n",
              "      <th>0</th>\n",
              "      <td>sub-901</td>\n",
              "      <td>2.491</td>\n",
              "      <td>2.229</td>\n",
              "      <td>2.675</td>\n",
              "      <td>1.942</td>\n",
              "      <td>2.614</td>\n",
              "      <td>2.384</td>\n",
              "      <td>2.582</td>\n",
              "      <td>2.298</td>\n",
              "      <td>2.735</td>\n",
              "      <td>...</td>\n",
              "      <td>2.43</td>\n",
              "      <td>2.91</td>\n",
              "      <td>2.20</td>\n",
              "      <td>2.70</td>\n",
              "      <td>2.74</td>\n",
              "      <td>3.06</td>\n",
              "      <td>3.35</td>\n",
              "      <td>2.63</td>\n",
              "      <td>3.15</td>\n",
              "      <td>2.500015</td>\n",
              "    </tr>\n",
              "    <tr>\n",
              "      <th>1</th>\n",
              "      <td>sub-902</td>\n",
              "      <td>2.287</td>\n",
              "      <td>2.503</td>\n",
              "      <td>2.611</td>\n",
              "      <td>2.074</td>\n",
              "      <td>3.575</td>\n",
              "      <td>2.765</td>\n",
              "      <td>2.572</td>\n",
              "      <td>2.957</td>\n",
              "      <td>2.741</td>\n",
              "      <td>...</td>\n",
              "      <td>2.33</td>\n",
              "      <td>2.70</td>\n",
              "      <td>2.24</td>\n",
              "      <td>2.88</td>\n",
              "      <td>2.59</td>\n",
              "      <td>3.14</td>\n",
              "      <td>4.15</td>\n",
              "      <td>2.37</td>\n",
              "      <td>3.07</td>\n",
              "      <td>2.559025</td>\n",
              "    </tr>\n",
              "    <tr>\n",
              "      <th>2</th>\n",
              "      <td>sub-904</td>\n",
              "      <td>2.351</td>\n",
              "      <td>2.424</td>\n",
              "      <td>2.638</td>\n",
              "      <td>2.023</td>\n",
              "      <td>3.340</td>\n",
              "      <td>2.843</td>\n",
              "      <td>2.511</td>\n",
              "      <td>2.627</td>\n",
              "      <td>2.829</td>\n",
              "      <td>...</td>\n",
              "      <td>2.16</td>\n",
              "      <td>2.66</td>\n",
              "      <td>2.25</td>\n",
              "      <td>2.83</td>\n",
              "      <td>2.61</td>\n",
              "      <td>2.84</td>\n",
              "      <td>3.92</td>\n",
              "      <td>2.67</td>\n",
              "      <td>3.01</td>\n",
              "      <td>2.505360</td>\n",
              "    </tr>\n",
              "    <tr>\n",
              "      <th>3</th>\n",
              "      <td>sub-905</td>\n",
              "      <td>2.474</td>\n",
              "      <td>2.599</td>\n",
              "      <td>2.567</td>\n",
              "      <td>2.007</td>\n",
              "      <td>3.306</td>\n",
              "      <td>2.752</td>\n",
              "      <td>2.485</td>\n",
              "      <td>2.676</td>\n",
              "      <td>2.287</td>\n",
              "      <td>...</td>\n",
              "      <td>2.12</td>\n",
              "      <td>2.54</td>\n",
              "      <td>2.22</td>\n",
              "      <td>2.77</td>\n",
              "      <td>2.55</td>\n",
              "      <td>2.80</td>\n",
              "      <td>3.53</td>\n",
              "      <td>2.59</td>\n",
              "      <td>2.89</td>\n",
              "      <td>2.480445</td>\n",
              "    </tr>\n",
              "    <tr>\n",
              "      <th>4</th>\n",
              "      <td>sub-906</td>\n",
              "      <td>2.526</td>\n",
              "      <td>2.182</td>\n",
              "      <td>2.460</td>\n",
              "      <td>1.892</td>\n",
              "      <td>2.894</td>\n",
              "      <td>2.484</td>\n",
              "      <td>2.341</td>\n",
              "      <td>2.534</td>\n",
              "      <td>2.410</td>\n",
              "      <td>...</td>\n",
              "      <td>2.38</td>\n",
              "      <td>2.53</td>\n",
              "      <td>2.12</td>\n",
              "      <td>2.45</td>\n",
              "      <td>2.52</td>\n",
              "      <td>2.81</td>\n",
              "      <td>3.67</td>\n",
              "      <td>2.05</td>\n",
              "      <td>2.70</td>\n",
              "      <td>2.360560</td>\n",
              "    </tr>\n",
              "  </tbody>\n",
              "</table>\n",
              "<p>5 rows × 70 columns</p>\n",
              "</div>\n",
              "    <div class=\"colab-df-buttons\">\n",
              "\n",
              "  <div class=\"colab-df-container\">\n",
              "    <button class=\"colab-df-convert\" onclick=\"convertToInteractive('df-7f1a39fb-a305-44bf-b004-71d0dd8a8005')\"\n",
              "            title=\"Convert this dataframe to an interactive table.\"\n",
              "            style=\"display:none;\">\n",
              "\n",
              "  <svg xmlns=\"http://www.w3.org/2000/svg\" height=\"24px\" viewBox=\"0 -960 960 960\">\n",
              "    <path d=\"M120-120v-720h720v720H120Zm60-500h600v-160H180v160Zm220 220h160v-160H400v160Zm0 220h160v-160H400v160ZM180-400h160v-160H180v160Zm440 0h160v-160H620v160ZM180-180h160v-160H180v160Zm440 0h160v-160H620v160Z\"/>\n",
              "  </svg>\n",
              "    </button>\n",
              "\n",
              "  <style>\n",
              "    .colab-df-container {\n",
              "      display:flex;\n",
              "      gap: 12px;\n",
              "    }\n",
              "\n",
              "    .colab-df-convert {\n",
              "      background-color: #E8F0FE;\n",
              "      border: none;\n",
              "      border-radius: 50%;\n",
              "      cursor: pointer;\n",
              "      display: none;\n",
              "      fill: #1967D2;\n",
              "      height: 32px;\n",
              "      padding: 0 0 0 0;\n",
              "      width: 32px;\n",
              "    }\n",
              "\n",
              "    .colab-df-convert:hover {\n",
              "      background-color: #E2EBFA;\n",
              "      box-shadow: 0px 1px 2px rgba(60, 64, 67, 0.3), 0px 1px 3px 1px rgba(60, 64, 67, 0.15);\n",
              "      fill: #174EA6;\n",
              "    }\n",
              "\n",
              "    .colab-df-buttons div {\n",
              "      margin-bottom: 4px;\n",
              "    }\n",
              "\n",
              "    [theme=dark] .colab-df-convert {\n",
              "      background-color: #3B4455;\n",
              "      fill: #D2E3FC;\n",
              "    }\n",
              "\n",
              "    [theme=dark] .colab-df-convert:hover {\n",
              "      background-color: #434B5C;\n",
              "      box-shadow: 0px 1px 3px 1px rgba(0, 0, 0, 0.15);\n",
              "      filter: drop-shadow(0px 1px 2px rgba(0, 0, 0, 0.3));\n",
              "      fill: #FFFFFF;\n",
              "    }\n",
              "  </style>\n",
              "\n",
              "    <script>\n",
              "      const buttonEl =\n",
              "        document.querySelector('#df-7f1a39fb-a305-44bf-b004-71d0dd8a8005 button.colab-df-convert');\n",
              "      buttonEl.style.display =\n",
              "        google.colab.kernel.accessAllowed ? 'block' : 'none';\n",
              "\n",
              "      async function convertToInteractive(key) {\n",
              "        const element = document.querySelector('#df-7f1a39fb-a305-44bf-b004-71d0dd8a8005');\n",
              "        const dataTable =\n",
              "          await google.colab.kernel.invokeFunction('convertToInteractive',\n",
              "                                                    [key], {});\n",
              "        if (!dataTable) return;\n",
              "\n",
              "        const docLinkHtml = 'Like what you see? Visit the ' +\n",
              "          '<a target=\"_blank\" href=https://colab.research.google.com/notebooks/data_table.ipynb>data table notebook</a>'\n",
              "          + ' to learn more about interactive tables.';\n",
              "        element.innerHTML = '';\n",
              "        dataTable['output_type'] = 'display_data';\n",
              "        await google.colab.output.renderOutput(dataTable, element);\n",
              "        const docLink = document.createElement('div');\n",
              "        docLink.innerHTML = docLinkHtml;\n",
              "        element.appendChild(docLink);\n",
              "      }\n",
              "    </script>\n",
              "  </div>\n",
              "\n",
              "\n",
              "<div id=\"df-4fa7b8ba-def5-4aad-8eb1-a968c428c121\">\n",
              "  <button class=\"colab-df-quickchart\" onclick=\"quickchart('df-4fa7b8ba-def5-4aad-8eb1-a968c428c121')\"\n",
              "            title=\"Suggest charts\"\n",
              "            style=\"display:none;\">\n",
              "\n",
              "<svg xmlns=\"http://www.w3.org/2000/svg\" height=\"24px\"viewBox=\"0 0 24 24\"\n",
              "     width=\"24px\">\n",
              "    <g>\n",
              "        <path d=\"M19 3H5c-1.1 0-2 .9-2 2v14c0 1.1.9 2 2 2h14c1.1 0 2-.9 2-2V5c0-1.1-.9-2-2-2zM9 17H7v-7h2v7zm4 0h-2V7h2v10zm4 0h-2v-4h2v4z\"/>\n",
              "    </g>\n",
              "</svg>\n",
              "  </button>\n",
              "\n",
              "<style>\n",
              "  .colab-df-quickchart {\n",
              "      --bg-color: #E8F0FE;\n",
              "      --fill-color: #1967D2;\n",
              "      --hover-bg-color: #E2EBFA;\n",
              "      --hover-fill-color: #174EA6;\n",
              "      --disabled-fill-color: #AAA;\n",
              "      --disabled-bg-color: #DDD;\n",
              "  }\n",
              "\n",
              "  [theme=dark] .colab-df-quickchart {\n",
              "      --bg-color: #3B4455;\n",
              "      --fill-color: #D2E3FC;\n",
              "      --hover-bg-color: #434B5C;\n",
              "      --hover-fill-color: #FFFFFF;\n",
              "      --disabled-bg-color: #3B4455;\n",
              "      --disabled-fill-color: #666;\n",
              "  }\n",
              "\n",
              "  .colab-df-quickchart {\n",
              "    background-color: var(--bg-color);\n",
              "    border: none;\n",
              "    border-radius: 50%;\n",
              "    cursor: pointer;\n",
              "    display: none;\n",
              "    fill: var(--fill-color);\n",
              "    height: 32px;\n",
              "    padding: 0;\n",
              "    width: 32px;\n",
              "  }\n",
              "\n",
              "  .colab-df-quickchart:hover {\n",
              "    background-color: var(--hover-bg-color);\n",
              "    box-shadow: 0 1px 2px rgba(60, 64, 67, 0.3), 0 1px 3px 1px rgba(60, 64, 67, 0.15);\n",
              "    fill: var(--button-hover-fill-color);\n",
              "  }\n",
              "\n",
              "  .colab-df-quickchart-complete:disabled,\n",
              "  .colab-df-quickchart-complete:disabled:hover {\n",
              "    background-color: var(--disabled-bg-color);\n",
              "    fill: var(--disabled-fill-color);\n",
              "    box-shadow: none;\n",
              "  }\n",
              "\n",
              "  .colab-df-spinner {\n",
              "    border: 2px solid var(--fill-color);\n",
              "    border-color: transparent;\n",
              "    border-bottom-color: var(--fill-color);\n",
              "    animation:\n",
              "      spin 1s steps(1) infinite;\n",
              "  }\n",
              "\n",
              "  @keyframes spin {\n",
              "    0% {\n",
              "      border-color: transparent;\n",
              "      border-bottom-color: var(--fill-color);\n",
              "      border-left-color: var(--fill-color);\n",
              "    }\n",
              "    20% {\n",
              "      border-color: transparent;\n",
              "      border-left-color: var(--fill-color);\n",
              "      border-top-color: var(--fill-color);\n",
              "    }\n",
              "    30% {\n",
              "      border-color: transparent;\n",
              "      border-left-color: var(--fill-color);\n",
              "      border-top-color: var(--fill-color);\n",
              "      border-right-color: var(--fill-color);\n",
              "    }\n",
              "    40% {\n",
              "      border-color: transparent;\n",
              "      border-right-color: var(--fill-color);\n",
              "      border-top-color: var(--fill-color);\n",
              "    }\n",
              "    60% {\n",
              "      border-color: transparent;\n",
              "      border-right-color: var(--fill-color);\n",
              "    }\n",
              "    80% {\n",
              "      border-color: transparent;\n",
              "      border-right-color: var(--fill-color);\n",
              "      border-bottom-color: var(--fill-color);\n",
              "    }\n",
              "    90% {\n",
              "      border-color: transparent;\n",
              "      border-bottom-color: var(--fill-color);\n",
              "    }\n",
              "  }\n",
              "</style>\n",
              "\n",
              "  <script>\n",
              "    async function quickchart(key) {\n",
              "      const quickchartButtonEl =\n",
              "        document.querySelector('#' + key + ' button');\n",
              "      quickchartButtonEl.disabled = true;  // To prevent multiple clicks.\n",
              "      quickchartButtonEl.classList.add('colab-df-spinner');\n",
              "      try {\n",
              "        const charts = await google.colab.kernel.invokeFunction(\n",
              "            'suggestCharts', [key], {});\n",
              "      } catch (error) {\n",
              "        console.error('Error during call to suggestCharts:', error);\n",
              "      }\n",
              "      quickchartButtonEl.classList.remove('colab-df-spinner');\n",
              "      quickchartButtonEl.classList.add('colab-df-quickchart-complete');\n",
              "    }\n",
              "    (() => {\n",
              "      let quickchartButtonEl =\n",
              "        document.querySelector('#df-4fa7b8ba-def5-4aad-8eb1-a968c428c121 button');\n",
              "      quickchartButtonEl.style.display =\n",
              "        google.colab.kernel.accessAllowed ? 'block' : 'none';\n",
              "    })();\n",
              "  </script>\n",
              "</div>\n",
              "\n",
              "    </div>\n",
              "  </div>\n"
            ],
            "application/vnd.google.colaboratory.intrinsic+json": {
              "type": "dataframe",
              "variable_name": "hcpya"
            }
          },
          "metadata": {},
          "execution_count": 21
        }
      ],
      "source": [
        "hcpya = pd.read_csv(os.path.join(wdir,'TLE_inputdata_fs.csv'))\n",
        "hcpya.head(5)"
      ]
    },
    {
      "cell_type": "code",
      "execution_count": null,
      "metadata": {
        "id": "87MOUvN3PxQg"
      },
      "outputs": [],
      "source": [
        "#brain_all = pd.merge(ixi, hcpya, how='outer')"
      ]
    },
    {
      "cell_type": "markdown",
      "metadata": {
        "id": "8w7w9RYWPxQg"
      },
      "source": [
        "We extracted the euler number from each subject's recon-all output folder into a text file and we now need to format and combine these into our brain dataframe.\n",
        "\n",
        "Below is psuedo code for how we extracted the euler number from the recon-all.log for each subject. Run this from the terminal in the folder where your subjects recon-all output folders are located. This assumes that all of your subject IDs start with \"sub-\" prefix.\n",
        "\n",
        "```for i in sub-*; do if [[ -e ${i}/scripts/recon-all.log ]]; then cat ${i}/scripts/recon-all.log | grep -A 1 \"Computing euler\" > temp_log; lh_en=`cat temp_log | head -2 | tail -1 | awk -F '=' '{print $2}' | awk -F ',' '{print $1}'`; rh_en=`cat temp_log | head -2 | tail -1 | awk -F '=' '{print $3}'`; echo \"${i}, ${lh_en}, ${rh_en}\" >> euler.csv; echo ${i}; fi; done```"
      ]
    },
    {
      "cell_type": "code",
      "source": [],
      "metadata": {
        "id": "-m16MA6A8rhy"
      },
      "execution_count": null,
      "outputs": []
    },
    {
      "cell_type": "code",
      "execution_count": 22,
      "metadata": {
        "id": "tGvdOT0PPxQg",
        "outputId": "5ea6cc45-1b57-4ec0-cce2-d4d289baa07d",
        "colab": {
          "base_uri": "https://localhost:8080/",
          "height": 304
        }
      },
      "outputs": [
        {
          "output_type": "error",
          "ename": "FileNotFoundError",
          "evalue": "[Errno 2] No such file or directory: '/content/PCNtoolkit-demo/data/data/hcp-ya_euler.csv'",
          "traceback": [
            "\u001b[0;31m---------------------------------------------------------------------------\u001b[0m",
            "\u001b[0;31mFileNotFoundError\u001b[0m                         Traceback (most recent call last)",
            "\u001b[0;32m<ipython-input-22-f546b0a03248>\u001b[0m in \u001b[0;36m<cell line: 1>\u001b[0;34m()\u001b[0m\n\u001b[0;32m----> 1\u001b[0;31m \u001b[0mhcp_euler\u001b[0m \u001b[0;34m=\u001b[0m \u001b[0mpd\u001b[0m\u001b[0;34m.\u001b[0m\u001b[0mread_csv\u001b[0m\u001b[0;34m(\u001b[0m\u001b[0mos\u001b[0m\u001b[0;34m.\u001b[0m\u001b[0mpath\u001b[0m\u001b[0;34m.\u001b[0m\u001b[0mjoin\u001b[0m\u001b[0;34m(\u001b[0m\u001b[0mwdir\u001b[0m\u001b[0;34m,\u001b[0m\u001b[0;34m'data'\u001b[0m\u001b[0;34m,\u001b[0m\u001b[0;34m'hcp-ya_euler.csv'\u001b[0m\u001b[0;34m)\u001b[0m\u001b[0;34m)\u001b[0m\u001b[0;34m\u001b[0m\u001b[0;34m\u001b[0m\u001b[0m\n\u001b[0m\u001b[1;32m      2\u001b[0m \u001b[0;31m#ixi_euler = pd.read_csv(os.path.join(wdir,'data','ixi_euler.csv'))\u001b[0m\u001b[0;34m\u001b[0m\u001b[0;34m\u001b[0m\u001b[0m\n",
            "\u001b[0;32m/usr/local/lib/python3.10/dist-packages/pandas/io/parsers/readers.py\u001b[0m in \u001b[0;36mread_csv\u001b[0;34m(filepath_or_buffer, sep, delimiter, header, names, index_col, usecols, dtype, engine, converters, true_values, false_values, skipinitialspace, skiprows, skipfooter, nrows, na_values, keep_default_na, na_filter, verbose, skip_blank_lines, parse_dates, infer_datetime_format, keep_date_col, date_parser, date_format, dayfirst, cache_dates, iterator, chunksize, compression, thousands, decimal, lineterminator, quotechar, quoting, doublequote, escapechar, comment, encoding, encoding_errors, dialect, on_bad_lines, delim_whitespace, low_memory, memory_map, float_precision, storage_options, dtype_backend)\u001b[0m\n\u001b[1;32m   1024\u001b[0m     \u001b[0mkwds\u001b[0m\u001b[0;34m.\u001b[0m\u001b[0mupdate\u001b[0m\u001b[0;34m(\u001b[0m\u001b[0mkwds_defaults\u001b[0m\u001b[0;34m)\u001b[0m\u001b[0;34m\u001b[0m\u001b[0;34m\u001b[0m\u001b[0m\n\u001b[1;32m   1025\u001b[0m \u001b[0;34m\u001b[0m\u001b[0m\n\u001b[0;32m-> 1026\u001b[0;31m     \u001b[0;32mreturn\u001b[0m \u001b[0m_read\u001b[0m\u001b[0;34m(\u001b[0m\u001b[0mfilepath_or_buffer\u001b[0m\u001b[0;34m,\u001b[0m \u001b[0mkwds\u001b[0m\u001b[0;34m)\u001b[0m\u001b[0;34m\u001b[0m\u001b[0;34m\u001b[0m\u001b[0m\n\u001b[0m\u001b[1;32m   1027\u001b[0m \u001b[0;34m\u001b[0m\u001b[0m\n\u001b[1;32m   1028\u001b[0m \u001b[0;34m\u001b[0m\u001b[0m\n",
            "\u001b[0;32m/usr/local/lib/python3.10/dist-packages/pandas/io/parsers/readers.py\u001b[0m in \u001b[0;36m_read\u001b[0;34m(filepath_or_buffer, kwds)\u001b[0m\n\u001b[1;32m    618\u001b[0m \u001b[0;34m\u001b[0m\u001b[0m\n\u001b[1;32m    619\u001b[0m     \u001b[0;31m# Create the parser.\u001b[0m\u001b[0;34m\u001b[0m\u001b[0;34m\u001b[0m\u001b[0m\n\u001b[0;32m--> 620\u001b[0;31m     \u001b[0mparser\u001b[0m \u001b[0;34m=\u001b[0m \u001b[0mTextFileReader\u001b[0m\u001b[0;34m(\u001b[0m\u001b[0mfilepath_or_buffer\u001b[0m\u001b[0;34m,\u001b[0m \u001b[0;34m**\u001b[0m\u001b[0mkwds\u001b[0m\u001b[0;34m)\u001b[0m\u001b[0;34m\u001b[0m\u001b[0;34m\u001b[0m\u001b[0m\n\u001b[0m\u001b[1;32m    621\u001b[0m \u001b[0;34m\u001b[0m\u001b[0m\n\u001b[1;32m    622\u001b[0m     \u001b[0;32mif\u001b[0m \u001b[0mchunksize\u001b[0m \u001b[0;32mor\u001b[0m \u001b[0miterator\u001b[0m\u001b[0;34m:\u001b[0m\u001b[0;34m\u001b[0m\u001b[0;34m\u001b[0m\u001b[0m\n",
            "\u001b[0;32m/usr/local/lib/python3.10/dist-packages/pandas/io/parsers/readers.py\u001b[0m in \u001b[0;36m__init__\u001b[0;34m(self, f, engine, **kwds)\u001b[0m\n\u001b[1;32m   1618\u001b[0m \u001b[0;34m\u001b[0m\u001b[0m\n\u001b[1;32m   1619\u001b[0m         \u001b[0mself\u001b[0m\u001b[0;34m.\u001b[0m\u001b[0mhandles\u001b[0m\u001b[0;34m:\u001b[0m \u001b[0mIOHandles\u001b[0m \u001b[0;34m|\u001b[0m \u001b[0;32mNone\u001b[0m \u001b[0;34m=\u001b[0m \u001b[0;32mNone\u001b[0m\u001b[0;34m\u001b[0m\u001b[0;34m\u001b[0m\u001b[0m\n\u001b[0;32m-> 1620\u001b[0;31m         \u001b[0mself\u001b[0m\u001b[0;34m.\u001b[0m\u001b[0m_engine\u001b[0m \u001b[0;34m=\u001b[0m \u001b[0mself\u001b[0m\u001b[0;34m.\u001b[0m\u001b[0m_make_engine\u001b[0m\u001b[0;34m(\u001b[0m\u001b[0mf\u001b[0m\u001b[0;34m,\u001b[0m \u001b[0mself\u001b[0m\u001b[0;34m.\u001b[0m\u001b[0mengine\u001b[0m\u001b[0;34m)\u001b[0m\u001b[0;34m\u001b[0m\u001b[0;34m\u001b[0m\u001b[0m\n\u001b[0m\u001b[1;32m   1621\u001b[0m \u001b[0;34m\u001b[0m\u001b[0m\n\u001b[1;32m   1622\u001b[0m     \u001b[0;32mdef\u001b[0m \u001b[0mclose\u001b[0m\u001b[0;34m(\u001b[0m\u001b[0mself\u001b[0m\u001b[0;34m)\u001b[0m \u001b[0;34m->\u001b[0m \u001b[0;32mNone\u001b[0m\u001b[0;34m:\u001b[0m\u001b[0;34m\u001b[0m\u001b[0;34m\u001b[0m\u001b[0m\n",
            "\u001b[0;32m/usr/local/lib/python3.10/dist-packages/pandas/io/parsers/readers.py\u001b[0m in \u001b[0;36m_make_engine\u001b[0;34m(self, f, engine)\u001b[0m\n\u001b[1;32m   1878\u001b[0m                 \u001b[0;32mif\u001b[0m \u001b[0;34m\"b\"\u001b[0m \u001b[0;32mnot\u001b[0m \u001b[0;32min\u001b[0m \u001b[0mmode\u001b[0m\u001b[0;34m:\u001b[0m\u001b[0;34m\u001b[0m\u001b[0;34m\u001b[0m\u001b[0m\n\u001b[1;32m   1879\u001b[0m                     \u001b[0mmode\u001b[0m \u001b[0;34m+=\u001b[0m \u001b[0;34m\"b\"\u001b[0m\u001b[0;34m\u001b[0m\u001b[0;34m\u001b[0m\u001b[0m\n\u001b[0;32m-> 1880\u001b[0;31m             self.handles = get_handle(\n\u001b[0m\u001b[1;32m   1881\u001b[0m                 \u001b[0mf\u001b[0m\u001b[0;34m,\u001b[0m\u001b[0;34m\u001b[0m\u001b[0;34m\u001b[0m\u001b[0m\n\u001b[1;32m   1882\u001b[0m                 \u001b[0mmode\u001b[0m\u001b[0;34m,\u001b[0m\u001b[0;34m\u001b[0m\u001b[0;34m\u001b[0m\u001b[0m\n",
            "\u001b[0;32m/usr/local/lib/python3.10/dist-packages/pandas/io/common.py\u001b[0m in \u001b[0;36mget_handle\u001b[0;34m(path_or_buf, mode, encoding, compression, memory_map, is_text, errors, storage_options)\u001b[0m\n\u001b[1;32m    871\u001b[0m         \u001b[0;32mif\u001b[0m \u001b[0mioargs\u001b[0m\u001b[0;34m.\u001b[0m\u001b[0mencoding\u001b[0m \u001b[0;32mand\u001b[0m \u001b[0;34m\"b\"\u001b[0m \u001b[0;32mnot\u001b[0m \u001b[0;32min\u001b[0m \u001b[0mioargs\u001b[0m\u001b[0;34m.\u001b[0m\u001b[0mmode\u001b[0m\u001b[0;34m:\u001b[0m\u001b[0;34m\u001b[0m\u001b[0;34m\u001b[0m\u001b[0m\n\u001b[1;32m    872\u001b[0m             \u001b[0;31m# Encoding\u001b[0m\u001b[0;34m\u001b[0m\u001b[0;34m\u001b[0m\u001b[0m\n\u001b[0;32m--> 873\u001b[0;31m             handle = open(\n\u001b[0m\u001b[1;32m    874\u001b[0m                 \u001b[0mhandle\u001b[0m\u001b[0;34m,\u001b[0m\u001b[0;34m\u001b[0m\u001b[0;34m\u001b[0m\u001b[0m\n\u001b[1;32m    875\u001b[0m                 \u001b[0mioargs\u001b[0m\u001b[0;34m.\u001b[0m\u001b[0mmode\u001b[0m\u001b[0;34m,\u001b[0m\u001b[0;34m\u001b[0m\u001b[0;34m\u001b[0m\u001b[0m\n",
            "\u001b[0;31mFileNotFoundError\u001b[0m: [Errno 2] No such file or directory: '/content/PCNtoolkit-demo/data/data/hcp-ya_euler.csv'"
          ]
        }
      ],
      "source": [
        "hcp_euler = pd.read_csv(os.path.join(wdir,'data','hcp-ya_euler.csv'))\n",
        "#ixi_euler = pd.read_csv(os.path.join(wdir,'data','ixi_euler.csv'))"
      ]
    },
    {
      "cell_type": "code",
      "execution_count": null,
      "metadata": {
        "id": "DYyZpHQKPxQg"
      },
      "outputs": [],
      "source": [
        "hcp_euler['site'] = 'hcp'\n",
        "#ixi_euler['site'] = 'ixi'"
      ]
    },
    {
      "cell_type": "code",
      "execution_count": null,
      "metadata": {
        "id": "6JPbNhc0PxQh"
      },
      "outputs": [],
      "source": [
        "hcp_euler.replace(r'^\\s*$', np.nan, regex=True, inplace=True)\n",
        "ixi_euler.replace(r'^\\s*$', np.nan, regex=True, inplace=True)"
      ]
    },
    {
      "cell_type": "code",
      "execution_count": null,
      "metadata": {
        "id": "hiQZiCgVPxQh"
      },
      "outputs": [],
      "source": [
        "hcp_euler.dropna(inplace=True)\n",
        "ixi_euler.dropna(inplace=True)"
      ]
    },
    {
      "cell_type": "code",
      "execution_count": null,
      "metadata": {
        "id": "iBPeQrBbPxQh"
      },
      "outputs": [],
      "source": [
        "hcp_euler['rh_euler'] = hcp_euler['rh_euler'].astype(int)\n",
        "hcp_euler['lh_euler'] = hcp_euler['lh_euler'].astype(int)\n",
        "ixi_euler['rh_euler'] = ixi_euler['rh_euler'].astype(int)\n",
        "ixi_euler['lh_euler'] = ixi_euler['lh_euler'].astype(int)"
      ]
    },
    {
      "cell_type": "code",
      "execution_count": null,
      "metadata": {
        "id": "J6P9iTq0PxQh"
      },
      "outputs": [],
      "source": [
        "df_euler = pd.merge(hcp_euler, ixi_euler, on=['participant_id', 'lh_euler', 'rh_euler', 'site'], how='outer')"
      ]
    },
    {
      "cell_type": "markdown",
      "metadata": {
        "id": "S23mcO6tPxQh"
      },
      "source": [
        "Finally, we need to center the euler number for each site. The euler number is very site-specific so in order to use the same exclusion threshold across sites we need to center the site by subtracting the site median from all subjects at a site. Then we will take the square root and multiply by negative one and exclude any subjects with a square root above 10. This choice of threshold is fairly random. If possible all of your data should be visually inspected to verify that the data inclusion is not too strict or too lenient."
      ]
    },
    {
      "cell_type": "code",
      "execution_count": null,
      "metadata": {
        "id": "-OgUwExEPxQh"
      },
      "outputs": [],
      "source": [
        "df_euler['avg_euler'] = df_euler[['lh_euler','rh_euler']].mean(axis=1)"
      ]
    },
    {
      "cell_type": "code",
      "execution_count": null,
      "metadata": {
        "id": "ptnUX_-8PxQh"
      },
      "outputs": [],
      "source": [
        "df_euler.groupby(by='site').median()"
      ]
    },
    {
      "cell_type": "code",
      "execution_count": null,
      "metadata": {
        "id": "qeaX-9p3PxQi"
      },
      "outputs": [],
      "source": [
        "df_euler['site_median'] = df_euler['site']"
      ]
    },
    {
      "cell_type": "code",
      "execution_count": null,
      "metadata": {
        "id": "u6DdZc0cPxQi"
      },
      "outputs": [],
      "source": [
        "df_euler['site_median'] = df_euler['site_median'].replace({'hcp':-43,'ixi':-56})"
      ]
    },
    {
      "cell_type": "code",
      "execution_count": null,
      "metadata": {
        "id": "1rfnqsOcPxQi"
      },
      "outputs": [],
      "source": [
        "df_euler['avg_euler_centered'] = df_euler['avg_euler'] - df_euler['site_median']"
      ]
    },
    {
      "cell_type": "code",
      "execution_count": null,
      "metadata": {
        "id": "dAaD2YxxPxQi"
      },
      "outputs": [],
      "source": [
        "df_euler['avg_euler_centered_neg'] = df_euler['avg_euler_centered']*-1"
      ]
    },
    {
      "cell_type": "code",
      "execution_count": null,
      "metadata": {
        "id": "eNp1aHaSPxQi"
      },
      "outputs": [],
      "source": [
        "df_euler['avg_euler_centered_neg_sqrt'] = np.sqrt(np.absolute(df_euler['avg_euler_centered_neg']))"
      ]
    },
    {
      "cell_type": "code",
      "execution_count": null,
      "metadata": {
        "id": "Nxu13Y1yPxQi"
      },
      "outputs": [],
      "source": [
        "brain = pd.merge(df_euler, brain_all, on=['participant_id'], how='inner')"
      ]
    },
    {
      "cell_type": "code",
      "execution_count": null,
      "metadata": {
        "id": "DXdpbZe2PxQi"
      },
      "outputs": [],
      "source": [
        "brain_good = brain.query('avg_euler_centered_neg_sqrt < 10')"
      ]
    },
    {
      "cell_type": "markdown",
      "metadata": {
        "id": "0cbSkqolPxQj"
      },
      "source": [
        "**CRITICAL STEP:** If possible, data should be visually inspected to verify that the data inclusion is not too strict or too lenient. Subjects above the Euler number threshold should be manually checked to verify and justify their exclusion due to poor data quality. This is just one approach for automated QC used by the developers of the PCNtoolkit. Other approaches such as the ENIGMA QC pipeline or UK Biobank’s QC pipeline are also viable options for automated QC."
      ]
    },
    {
      "cell_type": "markdown",
      "metadata": {
        "id": "w77w8FyCPxQj"
      },
      "source": [
        "## Combine covariate & cortical thickness dataframes"
      ]
    },
    {
      "cell_type": "markdown",
      "metadata": {
        "id": "MAiIjVVvPxQj"
      },
      "source": [
        "### Step 4.\n",
        "\n",
        "The normative modeling function requires the covariate predictors and brain features to be in separate text files. However, it is important to first (inner) merge them together, using the following commands, to confirm that the same subjects are in each file and that the rows (representing subjects) align. This requires that both data frames have ‘subject_id’ as a column name. Once this is confirmed, exclude rows with NaN values and separate the brain features and covariate predictors into their own dataframes, using the commands below."
      ]
    },
    {
      "cell_type": "code",
      "execution_count": null,
      "metadata": {
        "id": "epaCOjovPxQj"
      },
      "outputs": [],
      "source": [
        "# make sure to use how=\"inner\" so that we only include subjects that have data in both the covariate and the cortical thickness files\n",
        "all_data = pd.merge(brain_good, cov, how='inner')"
      ]
    },
    {
      "cell_type": "code",
      "execution_count": null,
      "metadata": {
        "id": "OzHN70ywPxQj"
      },
      "outputs": [],
      "source": [
        "# Create a list of all the ROIs you want to run a normative model for (add additional names to this list if you would like to include other brain regions from the Desikan-Killian atlas)\n",
        "roi_ids = ['lh_MeanThickness_thickness',\n",
        "           'rh_MeanThickness_thickness',\n",
        "           'lh_bankssts_thickness',\n",
        "           'lh_caudalanteriorcingulate_thickness',\n",
        "           'lh_superiorfrontal_thickness',\n",
        "           'rh_superiorfrontal_thickness']"
      ]
    },
    {
      "cell_type": "code",
      "execution_count": null,
      "metadata": {
        "id": "eEnGF6DmPxQk"
      },
      "outputs": [],
      "source": [
        "# Remove any subjects that have NaN variables in any of the columns\n",
        "all_data.dropna(subset=roi_ids, inplace=True)"
      ]
    },
    {
      "cell_type": "code",
      "execution_count": null,
      "metadata": {
        "id": "-x6SldKHPxQk"
      },
      "outputs": [],
      "source": [
        "all_data_features = all_data[roi_ids]"
      ]
    },
    {
      "cell_type": "code",
      "execution_count": null,
      "metadata": {
        "id": "aihok464PxQk"
      },
      "outputs": [],
      "source": [
        "all_data_covariates = all_data[['age','sex','site']]"
      ]
    },
    {
      "cell_type": "markdown",
      "metadata": {
        "id": "VdG79uF2PxQk"
      },
      "source": [
        "**CRITICAL STEP:** `roi_ids` is a variable that represents which brain areas will be modeled and can be used to select subsets of the data frame if you do not wish to run models for the whole brain."
      ]
    },
    {
      "cell_type": "markdown",
      "metadata": {
        "id": "v1BXULRkPxQk"
      },
      "source": [
        "## Add variable to model site/scanner effects"
      ]
    },
    {
      "cell_type": "markdown",
      "metadata": {
        "id": "Fq8JlwV3PxQk"
      },
      "source": [
        "### Step 5.\n",
        "\n",
        "Currently, the different sites are coded in a single column (named ‘site’) and are represented as a string data type. However, the PCNtoolkit requires binary variables. Use the pandas package as follows to address this, which has a built-in function, `pd.get_dummies`, that takes in the string ‘site’ column and dummy encodes the site variable so that there is now a column for each site and the columns contain binary variables (0=not in this site, 1=present in this site)."
      ]
    },
    {
      "cell_type": "code",
      "execution_count": null,
      "metadata": {
        "id": "7o0VSqO-PxQk"
      },
      "outputs": [],
      "source": [
        "all_data_covariates = pd.get_dummies(all_data_covariates, columns=['site'])"
      ]
    },
    {
      "cell_type": "code",
      "execution_count": null,
      "metadata": {
        "id": "E2yuYv0EPxQk"
      },
      "outputs": [],
      "source": [
        "all_data['Average_Thickness'] = all_data[['lh_MeanThickness_thickness','rh_MeanThickness_thickness']].mean(axis=1)"
      ]
    },
    {
      "cell_type": "markdown",
      "metadata": {
        "id": "AVF2d878PxQl"
      },
      "source": [
        "## Train/test split"
      ]
    },
    {
      "cell_type": "markdown",
      "metadata": {
        "id": "bAs2RTAHPxQl"
      },
      "source": [
        "### Step 6.\n",
        "\n",
        "In this example, we use 80% of the data for training and 20% for testing. Please carefully read the experimental design section on train/test split considerations when using your own data in this step. Using a function from scikit-learn (`train_test_split`), stratify the train/test split using the site variable to make sure that the train/test sets both contain data from all sites, using the following commands. Next, confirm that your train and test arrays are the same size (rows), using the following commands. You do not need the same size columns (subjects) in the train and test arrays, but the rows represent the covariate and responses which should be the same across train and test arrays."
      ]
    },
    {
      "cell_type": "code",
      "execution_count": null,
      "metadata": {
        "id": "FQtMYy9WPxQl"
      },
      "outputs": [],
      "source": [
        "X_train, X_test, y_train, y_test = train_test_split(all_data_covariates, all_data_features, stratify=all_data['site'], test_size=0.2, random_state=42)"
      ]
    },
    {
      "cell_type": "markdown",
      "metadata": {
        "id": "8kcWH0eUPxQl"
      },
      "source": [
        "Verify that your train & test arrays are the same size"
      ]
    },
    {
      "cell_type": "code",
      "execution_count": null,
      "metadata": {
        "id": "Ln7_zLFWPxQl"
      },
      "outputs": [],
      "source": [
        "tr_cov_size = X_train.shape\n",
        "tr_resp_size = y_train.shape\n",
        "te_cov_size = X_test.shape\n",
        "te_resp_size = y_test.shape\n",
        "print(\"Train covariate size is: \", tr_cov_size)\n",
        "print(\"Test covariate size is: \", te_cov_size)\n",
        "print(\"Train response size is: \", tr_resp_size)\n",
        "print(\"Test response size is: \", te_resp_size)"
      ]
    },
    {
      "cell_type": "markdown",
      "metadata": {
        "id": "EELPVNVsPxQl"
      },
      "source": [
        "**CRITICAL STEP:** The model would not learn the site effects if all the data from one site was only in the test set. Therefore, we stratify the train/test split using the site variable."
      ]
    },
    {
      "cell_type": "markdown",
      "metadata": {
        "id": "O7umzpdIPxQl"
      },
      "source": [
        "### Step 7.\n",
        "\n",
        "When the data were split into train and test sets, the row index was not reset. This means that the row index in the train and test data frames still correspond to the full data frame (before splitting the data occurred). The test set row index informs which subjects belong to which site, and this information is needed to evaluate per site performance metrics. Resetting the row index of the train/test data frames fixes this issue. Then extract the site row indices to a list (one list per site) and create a list called `site_names` that is used to decide which sites to evaluate model performance for, as follows:"
      ]
    },
    {
      "cell_type": "code",
      "execution_count": null,
      "metadata": {
        "id": "Fb7EC6vQPxQm"
      },
      "outputs": [],
      "source": [
        "X_train.reset_index(drop=True, inplace=True)\n",
        "X_test.reset_index(drop=True, inplace=True)\n",
        "y_train.reset_index(drop=True, inplace=True)\n",
        "y_test.reset_index(drop=True, inplace=True)"
      ]
    },
    {
      "cell_type": "code",
      "execution_count": null,
      "metadata": {
        "id": "pVFGtZL6PxQm"
      },
      "outputs": [],
      "source": [
        "# Get indices of all the subejcts in each site so that we can evaluate the test set metrics per site\n",
        "hcp_idx = X_test.index[X_test['site_hcp'] == 1].to_list()\n",
        "ixi_idx = X_test.index[X_test['site_ixi'] == 1].to_list()"
      ]
    },
    {
      "cell_type": "code",
      "execution_count": null,
      "metadata": {
        "id": "xJApegDXPxQm"
      },
      "outputs": [],
      "source": [
        "# Save the site indices into a single list\n",
        "sites = [hcp_idx, ixi_idx]"
      ]
    },
    {
      "cell_type": "code",
      "execution_count": null,
      "metadata": {
        "id": "3_pW9zY4PxQm"
      },
      "outputs": [],
      "source": [
        "# Create a list with sites names to use in evaluating per-site metrics\n",
        "site_names = ['hcp', 'ixi']"
      ]
    },
    {
      "cell_type": "markdown",
      "metadata": {
        "id": "ZfF277S4PxQm"
      },
      "source": [
        "## Setup output directories"
      ]
    },
    {
      "cell_type": "markdown",
      "metadata": {
        "id": "xYWrxYgSPxQm"
      },
      "source": [
        "## Step 8.\n",
        "\n",
        "Save each brain region to its own text file (organized in separate directories) using the following commands, because for each response variable, Y (e.g., brain region) we fit a separate normative model."
      ]
    },
    {
      "cell_type": "code",
      "execution_count": null,
      "metadata": {
        "id": "GgGd1hryPxQm"
      },
      "outputs": [],
      "source": [
        "for c in y_train.columns:\n",
        "    y_train[c].to_csv('resp_tr_' + c + '.txt', header=False, index=False)"
      ]
    },
    {
      "cell_type": "code",
      "execution_count": null,
      "metadata": {
        "id": "ejSNPBANPxQm"
      },
      "outputs": [],
      "source": [
        "X_train.to_csv('cov_tr.txt', sep = '\\t', header=False, index = False)"
      ]
    },
    {
      "cell_type": "code",
      "execution_count": null,
      "metadata": {
        "id": "ddJsDnrYPxQn"
      },
      "outputs": [],
      "source": [
        "y_train.to_csv('resp_tr.txt', sep = '\\t', header=False, index = False)"
      ]
    },
    {
      "cell_type": "code",
      "execution_count": null,
      "metadata": {
        "id": "w0QsVwPoPxQn"
      },
      "outputs": [],
      "source": [
        "for c in y_test.columns:\n",
        "    y_test[c].to_csv('resp_te_' + c + '.txt', header=False, index=False)"
      ]
    },
    {
      "cell_type": "code",
      "execution_count": null,
      "metadata": {
        "id": "cv43VtXWPxQn"
      },
      "outputs": [],
      "source": [
        "X_test.to_csv('cov_te.txt', sep = '\\t', header=False, index = False)"
      ]
    },
    {
      "cell_type": "code",
      "execution_count": null,
      "metadata": {
        "id": "5_6DoEFbPxQn"
      },
      "outputs": [],
      "source": [
        "y_test.to_csv('resp_te.txt', sep = '\\t', header=False, index = False)"
      ]
    },
    {
      "cell_type": "code",
      "execution_count": null,
      "metadata": {
        "id": "Mnu0sJrfPxQn"
      },
      "outputs": [],
      "source": [
        "! if [[ ! -e ROI_models/ ]]; then mkdir ROI_models; fi"
      ]
    },
    {
      "cell_type": "code",
      "execution_count": null,
      "metadata": {
        "id": "Pl-fYNZsPxQn"
      },
      "outputs": [],
      "source": [
        "# Note: please change the path in the following to wdir (depending on whether you are running on colab or not)\n",
        "\n",
        "! for i in `cat /content/PCNtoolkit-demo/data/roi_dir_names`; do if [[ -e resp_tr_${i}.txt ]]; then cd ROI_models; mkdir ${i}; cd ../; cp resp_tr_${i}.txt ROI_models/${i}/resp_tr.txt; cp resp_te_${i}.txt ROI_models/${i}/resp_te.txt; cp cov_tr.txt ROI_models/${i}/cov_tr.txt; cp cov_te.txt ROI_models/${i}/cov_te.txt; fi; done"
      ]
    },
    {
      "cell_type": "code",
      "execution_count": null,
      "metadata": {
        "id": "csrMx397PxQn"
      },
      "outputs": [],
      "source": [
        "# clean up files\n",
        "! rm resp_*.txt"
      ]
    },
    {
      "cell_type": "code",
      "execution_count": null,
      "metadata": {
        "id": "_yhGxsIzPxQn"
      },
      "outputs": [],
      "source": [
        "# clean up files\n",
        "! rm cov_t*.txt"
      ]
    },
    {
      "cell_type": "markdown",
      "metadata": {
        "id": "ZrOvCLK5PxQn"
      },
      "source": [
        "# Algorithm & Modeling"
      ]
    },
    {
      "cell_type": "markdown",
      "metadata": {
        "id": "i7v4JoP2PxQn"
      },
      "source": [
        "## Basis expansion using B-Splines"
      ]
    },
    {
      "cell_type": "markdown",
      "metadata": {
        "id": "dop9WUXnPxQo"
      },
      "source": [
        "### Step 9.\n",
        "\n",
        "Now, set up a B-spline basis set that allows us to perform nonlinear regression using a linear model, using the following commands. This basis is deliberately chosen to not to be too flexible so that it can only model relatively slowly varying trends. To increase the flexibility of the model you can change the parameterization (e.g., by adding knot points to the B-spline basis or increasing the order of the interpolating polynomial). Note that in the neuroimaging literature, it is more common to use a polynomial basis expansion for this. Piecewise polynomials like B-splines are superior to polynomial basis expansions because they do not introduce a global curvature. For further details on the use of B-splines see [Fraza et al](https://pubmed.ncbi.nlm.nih.gov/34798518/)."
      ]
    },
    {
      "cell_type": "code",
      "execution_count": null,
      "metadata": {
        "id": "xZni-v2wPxQo"
      },
      "outputs": [],
      "source": [
        "# set this path to wherever your ROI_models folder is located (where you copied all of the covariate & response text files to in Step 4)\n",
        "data_dir = os.path.join(wdir,'ROI_models')\n",
        "\n",
        "# Create a cubic B-spline basis (used for regression)\n",
        "xmin = 10#16 # xmin & xmax are the boundaries for ages of participants in the dataset\n",
        "xmax = 95#90\n",
        "B = create_bspline_basis(xmin, xmax)\n",
        "# create the basis expansion for the covariates for each of the\n",
        "for roi in roi_ids:\n",
        "    print('Creating basis expansion for ROI:', roi)\n",
        "    roi_dir = os.path.join(data_dir, roi)\n",
        "    os.chdir(roi_dir)\n",
        "    # create output dir\n",
        "    os.makedirs(os.path.join(roi_dir,'blr'), exist_ok=True)\n",
        "    # load train & test covariate data matrices\n",
        "    X_tr = np.loadtxt(os.path.join(roi_dir, 'cov_tr.txt'))\n",
        "    X_te = np.loadtxt(os.path.join(roi_dir, 'cov_te.txt'))\n",
        "    # add intercept column\n",
        "    X_tr = np.concatenate((X_tr, np.ones((X_tr.shape[0],1))), axis=1)\n",
        "    X_te = np.concatenate((X_te, np.ones((X_te.shape[0],1))), axis=1)\n",
        "    np.savetxt(os.path.join(roi_dir, 'cov_int_tr.txt'), X_tr)\n",
        "    np.savetxt(os.path.join(roi_dir, 'cov_int_te.txt'), X_te)\n",
        "\n",
        "    # create Bspline basis set\n",
        "    Phi = np.array([B(i) for i in X_tr[:,0]])\n",
        "    Phis = np.array([B(i) for i in X_te[:,0]])\n",
        "    X_tr = np.concatenate((X_tr, Phi), axis=1)\n",
        "    X_te = np.concatenate((X_te, Phis), axis=1)\n",
        "    np.savetxt(os.path.join(roi_dir, 'cov_bspline_tr.txt'), X_tr)\n",
        "    np.savetxt(os.path.join(roi_dir, 'cov_bspline_te.txt'), X_te)"
      ]
    },
    {
      "cell_type": "markdown",
      "metadata": {
        "id": "NbFaO7pWPxQo"
      },
      "source": [
        "## Estimate normative model"
      ]
    },
    {
      "cell_type": "markdown",
      "metadata": {
        "id": "KdZrf78vPxQo"
      },
      "source": [
        "### Step 10.\n",
        "\n",
        "Set up a variable (`data_dir`) that specifies the path to the ROI directories that were created in Step 7. Initiate two empty pandas data frames where the evaluation metrics are the column names, as follows; one will be used for overall test set evaluation (`blr_metrics`) and one will be used for site-specific test set evaluation (`blr_site_metrics`). After the normative model has been estimated, these data frames will be saved as individual csv files."
      ]
    },
    {
      "cell_type": "code",
      "execution_count": null,
      "metadata": {
        "id": "EJrly1KQPxQo"
      },
      "outputs": [],
      "source": [
        "# Create pandas dataframes with header names to save out the overall and per-site model evaluation metrics\n",
        "blr_metrics = pd.DataFrame(columns = ['ROI', 'MSLL', 'EV', 'SMSE', 'RMSE', 'Rho'])\n",
        "blr_site_metrics = pd.DataFrame(columns = ['ROI', 'site', 'MSLL', 'EV', 'SMSE', 'RMSE', 'Rho'])"
      ]
    },
    {
      "cell_type": "markdown",
      "metadata": {
        "id": "tGPLrct5PxQo"
      },
      "source": [
        "### Step 11.\n",
        "\n",
        "Estimate the normative models using a for loop to iterate over brain regions. An important consideration is whether to re-scale or standardize the covariates or responses. Whilst this generally only has a minor effect on the final model accuracy, it has implications for the interpretation of models and how they are configured. If the covariates and responses are both standardized (`standardize = True`), the model will return standardized coefficients. If (as in this case) the response variables are not standardized (`standardized = False`), then the scaling both covariates and responses will be reflected in the estimated coefficients. Also, under the linear modeling approach employed here, if the coefficients are unstandardized and do not have a zero mean, it is necessary to add an intercept column to the design matrix (this is done above in step 9 (B-spline)). The estimate function uses a few specific arguments that are worthy of commenting on:\n",
        "\n",
        "    - alg = 'blr': specifies we should use Bayesian Linear Regression.  \n",
        "    - optimizer = 'powell': use Powell's derivative-free optimization method (faster in this case than L-BFGS)\n",
        "    - savemodel = False: do not write out the final estimated model to disk\n",
        "    - saveoutput = False: return the outputs directly rather than writing them to disk\n",
        "    - standardize = False: Do not standardize the covariates or response variables"
      ]
    },
    {
      "cell_type": "markdown",
      "metadata": {
        "id": "OL-Y-1WVPxQo"
      },
      "source": [
        "**CRITICAL STEP:** This code fragment will loop through each region of interest in the `roi_ids` list (created in step 4) using Bayesian Linear Regression and evaluate the model on the independent test set. In principle, we could estimate the normative models on the whole data matrix at once (e.g., with the response variables stored in a `n_subjects` by `n_brain_measures` NumPy array or a text file instead of saved out into separate directories). However, running the models iteratively gives some extra flexibility in that it does not require that the included subjects are the same for each of the brain measures."
      ]
    },
    {
      "cell_type": "code",
      "execution_count": null,
      "metadata": {
        "id": "eFipXY_MPxQp"
      },
      "outputs": [],
      "source": [
        "# Loop through ROIs\n",
        "for roi in roi_ids:\n",
        "    print('Running ROI:', roi)\n",
        "    roi_dir = os.path.join(data_dir, roi)\n",
        "    os.chdir(roi_dir)\n",
        "\n",
        "    # configure the covariates to use. Change *_bspline_* to *_int_* to\n",
        "    cov_file_tr = os.path.join(roi_dir, 'cov_bspline_tr.txt')\n",
        "    cov_file_te = os.path.join(roi_dir, 'cov_bspline_te.txt')\n",
        "\n",
        "    # load train & test response files\n",
        "    resp_file_tr = os.path.join(roi_dir, 'resp_tr.txt')\n",
        "    resp_file_te = os.path.join(roi_dir, 'resp_te.txt')\n",
        "\n",
        "    # run a basic model\n",
        "    yhat_te, s2_te, nm, Z, metrics_te = estimate(cov_file_tr,\n",
        "                                                 resp_file_tr,\n",
        "                                                 testresp=resp_file_te,\n",
        "                                                 testcov=cov_file_te,\n",
        "                                                 alg = 'blr',\n",
        "                                                 optimizer = 'powell',\n",
        "                                                 savemodel = True,\n",
        "                                                 saveoutput = False,\n",
        "                                                 standardize = False)\n",
        "    # save metrics\n",
        "    blr_metrics.loc[len(blr_metrics)] = [roi, metrics_te['MSLL'][0], metrics_te['EXPV'][0], metrics_te['SMSE'][0], metrics_te['RMSE'][0], metrics_te['Rho'][0]]\n",
        "\n",
        "    # Compute metrics per site in test set, save to pandas df\n",
        "    # load true test data\n",
        "    X_te = np.loadtxt(cov_file_te)\n",
        "    y_te = np.loadtxt(resp_file_te)\n",
        "    y_te = y_te[:, np.newaxis] # make sure it is a 2-d array\n",
        "\n",
        "    # load training data (required to compute the MSLL)\n",
        "    y_tr = np.loadtxt(resp_file_tr)\n",
        "    y_tr = y_tr[:, np.newaxis]\n",
        "\n",
        "    for num, site in enumerate(sites):\n",
        "        y_mean_te_site = np.array([[np.mean(y_te[site])]])\n",
        "        y_var_te_site = np.array([[np.var(y_te[site])]])\n",
        "        yhat_mean_te_site = np.array([[np.mean(yhat_te[site])]])\n",
        "        yhat_var_te_site = np.array([[np.var(yhat_te[site])]])\n",
        "\n",
        "        metrics_te_site = evaluate(y_te[site], yhat_te[site], s2_te[site], y_mean_te_site, y_var_te_site)\n",
        "\n",
        "        site_name = site_names[num]\n",
        "        blr_site_metrics.loc[len(blr_site_metrics)] = [roi, site_names[num], metrics_te_site['MSLL'][0], metrics_te_site['EXPV'][0], metrics_te_site['SMSE'][0], metrics_te_site['RMSE'][0], metrics_te_site['Rho'][0]]"
      ]
    },
    {
      "cell_type": "markdown",
      "metadata": {
        "id": "Wc4NFsJBPxQp"
      },
      "source": [
        "# Evaluation & Interpretation"
      ]
    },
    {
      "cell_type": "markdown",
      "metadata": {
        "id": "5CAdaK2NPxQr"
      },
      "source": [
        "## Describe the normative model performance"
      ]
    },
    {
      "cell_type": "markdown",
      "metadata": {
        "id": "g8syuqDxPxQr"
      },
      "source": [
        "### Step 12.\n",
        "\n",
        "In step 11, when we looped over each region of interest in the `roi_ids` list (created in step 4) and evaluated the normative model on the independent test set, it also computed the evaluation metrics such as the explained variance, mean standardized log-loss and Pearson correlation between true and predicted test responses. The evaluation metrics were calculated for the full test set and calculated separately for each scanning site. The metrics were saved out to a csv file. In this step we load the evaluation metrics into a panads data frame and use the describe function to show the range, mean, and standard deviation of each of the evaluation metrics. Table 2 shows how to interpret the ranges/directions of good model fit."
      ]
    },
    {
      "cell_type": "code",
      "execution_count": null,
      "metadata": {
        "id": "U3ncOg8FPxQs"
      },
      "outputs": [],
      "source": [
        "# Overall test set evaluation metrics\n",
        "print(blr_metrics['EV'].describe())\n",
        "print(blr_metrics['MSLL'].describe())\n",
        "print(blr_metrics['SMSE'].describe())\n",
        "print(blr_metrics['Rho'].describe())"
      ]
    },
    {
      "cell_type": "markdown",
      "metadata": {
        "id": "hZEs7Ej4-qGi"
      },
      "source": [
        "The deviation scores are output as a text file in separate folders. We want to summarize the deviation scores across all models estimates so we can organize them into a single file, and merge the deviation scores into the original data file."
      ]
    },
    {
      "cell_type": "markdown",
      "metadata": {
        "id": "kvh8npp-PxQt",
        "tags": []
      },
      "source": [
        "## Visualize normative model outputs"
      ]
    },
    {
      "cell_type": "markdown",
      "metadata": {
        "id": "NXqJemw7PxQu"
      },
      "source": [
        "<div>\n",
        "<img src=\"https://github.com/predictive-clinical-neuroscience/PCNtoolkit-demo/blob/main/tutorials/BLR_protocol/Figure4.png?raw=1\" width=\"1000\">\n",
        "</div>"
      ]
    },
    {
      "cell_type": "markdown",
      "metadata": {
        "id": "89GpR-mIPxQu"
      },
      "source": [
        "### Figure 4A viz"
      ]
    },
    {
      "cell_type": "code",
      "execution_count": null,
      "metadata": {
        "id": "cNeOX8RJPxQu"
      },
      "outputs": [],
      "source": [
        "pd.set_option('display.max_rows', 500)\n",
        "pd.set_option('display.max_columns', 500)\n",
        "pd.set_option('display.width', 1000)\n",
        "\n",
        "def color_gradient(x=0.0, start=(0, 0, 0), stop=(1, 1, 1)):\n",
        "    r = np.interp(x, [0, 1], [start[0], stop[0]])\n",
        "    g = np.interp(x, [0, 1], [start[1], stop[1]])\n",
        "    b = np.interp(x, [0, 1], [start[2], stop[2]])\n",
        "    return r, g, b\n",
        "\n",
        "plt.figure(dpi=380)\n",
        "fig, axes = joypy.joyplot(blr_site_metrics, column=['EV'], overlap=2.5, by=\"site\", ylim='own', fill=True, figsize=(8,8)\n",
        "                          , legend=False, xlabels=True, ylabels=True, colormap=lambda x: color_gradient(x, start=(.08, .45, .8),stop=(.8, .34, .44))\n",
        "                          , alpha=0.6, linewidth=.5, linecolor='w', fade=True);\n",
        "plt.title('Test Set Explained Variance', fontsize=18, color='black', alpha=1)\n",
        "plt.xlabel('Explained Variance', fontsize=14, color='black', alpha=1)\n",
        "plt.ylabel('Site', fontsize=14, color='black', alpha=1)\n",
        "plt.show"
      ]
    },
    {
      "cell_type": "markdown",
      "metadata": {
        "id": "FTArq1PKPxQu"
      },
      "source": [
        "The code used to create the visualizations shown in Figure 4 panels B-F, can be found in this [notebook](https://github.com/predictive-clinical-neuroscience/PCNtoolkit-demo/blob/main/tutorials/BLR_protocol/visualizations.ipynb)."
      ]
    },
    {
      "cell_type": "markdown",
      "metadata": {
        "id": "YTrvxDmGPxQu"
      },
      "source": [
        "## Post-Hoc analysis ideas"
      ]
    },
    {
      "cell_type": "markdown",
      "metadata": {
        "id": "PlC69kfpPxQu"
      },
      "source": [
        "The code for running SVM classification and classical case vs. control t-testing on the outputs of normative modeling can be found in this [notebook](https://github.com/predictive-clinical-neuroscience/PCNtoolkit-demo/blob/main/tutorials/BLR_protocol/post_hoc_analysis.ipynb)."
      ]
    },
    {
      "cell_type": "markdown",
      "metadata": {
        "id": "fiATEEBdPxQv"
      },
      "source": [
        "The code for running other predictive models (regression, using the outputs of normative modeling as predictive features) can be found in this [notebook](https://github.com/predictive-clinical-neuroscience/PCNtoolkit-demo/blob/main/tutorials/BLR_protocol/other_predictive_models.ipynb)."
      ]
    },
    {
      "cell_type": "markdown",
      "metadata": {
        "id": "yapjr2CTPxQv"
      },
      "source": [
        "The code for transfering a pre-trained normative model to a new dataset can be found in this [notebook](https://github.com/predictive-clinical-neuroscience/PCNtoolkit-demo/blob/main/tutorials/BLR_protocol/transfer_pretrained_normative_models.ipynb)."
      ]
    }
  ],
  "metadata": {
    "colab": {
      "name": "BLR_normativemodel_protocol.ipynb",
      "provenance": [],
      "include_colab_link": true
    },
    "kernelspec": {
      "display_name": "Python 3 (ipykernel)",
      "language": "python",
      "name": "python3"
    },
    "language_info": {
      "codemirror_mode": {
        "name": "ipython",
        "version": 3
      },
      "file_extension": ".py",
      "mimetype": "text/x-python",
      "name": "python",
      "nbconvert_exporter": "python",
      "pygments_lexer": "ipython3",
      "version": "3.10.9"
    },
    "vscode": {
      "interpreter": {
        "hash": "40d3a090f54c6569ab1632332b64b2c03c39dcf918b08424e98f38b5ae0af88f"
      }
    }
  },
  "nbformat": 4,
  "nbformat_minor": 0
}